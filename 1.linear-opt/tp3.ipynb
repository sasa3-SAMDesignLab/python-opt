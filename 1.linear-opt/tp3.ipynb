{
 "cells": [
  {
   "cell_type": "code",
   "execution_count": 1,
   "metadata": {},
   "outputs": [],
   "source": [
    "import numpy as np\n",
    "import scipy.linalg as linalg\n",
    "MEPS = 1.0e-10"
   ]
  },
  {
   "cell_type": "code",
   "execution_count": 2,
   "metadata": {},
   "outputs": [],
   "source": [
    "def lp_RevisedSimplex(c, A, b):\n",
    "  np.seterr(divide='ignore')\n",
    "  (m,n) = A.shape\n",
    "  AI = np.hstack((A,np.identity(m)))\n",
    "  c0 = np.r_[c,np.zeros(m)]\n",
    "  basis = [n+i for i in range(m)]\n",
    "  nonbasis = [j for j in range(m)]\n",
    "\n",
    "  while True:\n",
    "    y = linalg.solve(AI[:,basis].T, c0[basis])\n",
    "    cc = c0[nonbasis] - np.dot(y,AI[:,nonbasis])\n",
    "\n",
    "    if np.all(cc <= MEPS):\n",
    "      x = np.zeros(n+m)\n",
    "      x[basis] = linalg.solve(AI[:,basis], b)\n",
    "      print('Optimal')\n",
    "      print('Optimal value =', np.dot(c0[basis], x[basis]))\n",
    "      for i in range(m):\n",
    "        print('x', i, '=', x[i])\n",
    "      break\n",
    "    else:\n",
    "      s = np.argmax(cc)\n",
    "    d = linalg.solve(AI[:,basis], AI[:,nonbasis[s]])\n",
    "    if np.all(d <= MEPS):\n",
    "      print('Unbounded')\n",
    "      break\n",
    "    else:\n",
    "      bb = linalg.solve(AI[:,basis],b)\n",
    "      ratio = bb/d\n",
    "      ratio[ratio<-MEPS] = np.inf\n",
    "      r = np.argmin(ratio)\n",
    "      nonbasis[s], basis[r] = basis[r], nonbasis[s]"
   ]
  },
  {
   "cell_type": "code",
   "execution_count": 3,
   "metadata": {},
   "outputs": [
    {
     "name": "stdout",
     "output_type": "stream",
     "text": [
      "Optimal\n",
      "Optimal value = 45.0\n",
      "x 0 = 0.0\n",
      "x 1 = 4.999999999999999\n",
      "x 2 = 6.0\n"
     ]
    }
   ],
   "source": [
    "import numpy as np\n",
    "\n",
    "A = np.array([[2,2,-1],[2,-2,3],[0,2,-1]])\n",
    "c = np.array([4,3,5])\n",
    "b = np.array([6,8,4])\n",
    "\n",
    "lp_RevisedSimplex(c, A, b)"
   ]
  },
  {
   "cell_type": "code",
   "execution_count": null,
   "metadata": {},
   "outputs": [],
   "source": []
  }
 ],
 "metadata": {
  "interpreter": {
   "hash": "ff5772b32b59bd41fb91f6cc891f8cb03c80235c3628a1f8b61561785c6fc031"
  },
  "kernelspec": {
   "display_name": "Python 3.8.12 ('py38')",
   "language": "python",
   "name": "python3"
  },
  "language_info": {
   "codemirror_mode": {
    "name": "ipython",
    "version": 3
   },
   "file_extension": ".py",
   "mimetype": "text/x-python",
   "name": "python",
   "nbconvert_exporter": "python",
   "pygments_lexer": "ipython3",
   "version": "3.8.12"
  },
  "orig_nbformat": 4
 },
 "nbformat": 4,
 "nbformat_minor": 2
}
