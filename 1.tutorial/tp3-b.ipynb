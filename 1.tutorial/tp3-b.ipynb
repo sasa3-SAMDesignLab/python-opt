{
 "cells": [
  {
   "cell_type": "code",
   "execution_count": 1,
   "metadata": {},
   "outputs": [],
   "source": [
    "import pandas as pd\n",
    "import pulp"
   ]
  },
  {
   "cell_type": "code",
   "execution_count": 2,
   "metadata": {},
   "outputs": [],
   "source": [
    "require_df = pd.read_csv('requires.csv')\n",
    "stock_df = pd.read_csv('stocks.csv')\n",
    "gain_df = pd.read_csv('gains.csv')"
   ]
  },
  {
   "cell_type": "code",
   "execution_count": 3,
   "metadata": {},
   "outputs": [],
   "source": [
    "P = gain_df['p'].tolist()\n",
    "M = stock_df['m'].tolist()"
   ]
  },
  {
   "cell_type": "code",
   "execution_count": 4,
   "metadata": {},
   "outputs": [],
   "source": [
    "stock = {row.m:row.stock for row in stock_df.itertuples()}\n",
    "gain = {row.p:row.gain for row in gain_df.itertuples()}\n",
    "require = {(row.p,row.m):row.require for row in require_df.itertuples()}"
   ]
  },
  {
   "cell_type": "code",
   "execution_count": 5,
   "metadata": {},
   "outputs": [],
   "source": [
    "problem = pulp.LpProblem('IP', pulp.LpMaximize)"
   ]
  },
  {
   "cell_type": "code",
   "execution_count": 6,
   "metadata": {},
   "outputs": [],
   "source": [
    "x = pulp.LpVariable.dicts('x', P, cat='Integer')"
   ]
  },
  {
   "cell_type": "code",
   "execution_count": 7,
   "metadata": {},
   "outputs": [],
   "source": [
    "for p in P:\n",
    "  problem += x[p] >= 0\n",
    "\n",
    "for m in M:\n",
    "  problem += pulp.lpSum([require[p,m]*x[p] for p in P]) <= stock[m]"
   ]
  },
  {
   "cell_type": "code",
   "execution_count": 8,
   "metadata": {},
   "outputs": [],
   "source": [
    "problem += pulp.lpSum([gain[p]*x[p] for p in P])"
   ]
  },
  {
   "cell_type": "code",
   "execution_count": 9,
   "metadata": {},
   "outputs": [
    {
     "name": "stdout",
     "output_type": "stream",
     "text": [
      "GLPSOL: GLPK LP/MIP Solver, v4.65\n",
      "Parameter(s) specified in the command line:\n",
      " --cpxlp /var/folders/f1/dg38sdvs7tsgxf3hbspgk1vc0000gn/T/bc7a62fca06042f2a7dc906d54fbaf00-pulp.lp\n",
      " -o /var/folders/f1/dg38sdvs7tsgxf3hbspgk1vc0000gn/T/bc7a62fca06042f2a7dc906d54fbaf00-pulp.sol\n",
      "Reading problem data from '/var/folders/f1/dg38sdvs7tsgxf3hbspgk1vc0000gn/T/bc7a62fca06042f2a7dc906d54fbaf00-pulp.lp'...\n",
      "7 rows, 4 columns, 13 non-zeros\n",
      "4 integer variables, none of which are binary\n",
      "22 lines were read\n",
      "GLPK Integer Optimizer, v4.65\n",
      "7 rows, 4 columns, 13 non-zeros\n",
      "4 integer variables, none of which are binary\n",
      "Preprocessing...\n",
      "3 rows, 4 columns, 9 non-zeros\n",
      "4 integer variables, none of which are binary\n",
      "Scaling...\n",
      " A: min|aij| =  1.000e+00  max|aij| =  3.000e+00  ratio =  3.000e+00\n",
      "Problem data seem to be well scaled\n",
      "Constructing initial basis...\n",
      "Size of triangular part is 3\n",
      "Solving LP relaxation...\n",
      "GLPK Simplex Optimizer, v4.65\n",
      "3 rows, 4 columns, 9 non-zeros\n",
      "*     0: obj =  -0.000000000e+00 inf =   0.000e+00 (4)\n",
      "*     5: obj =   8.042857143e+01 inf =   0.000e+00 (0)\n",
      "OPTIMAL LP SOLUTION FOUND\n",
      "Integer optimization begins...\n",
      "Long-step dual simplex will be used\n",
      "+     5: mip =     not found yet <=              +inf        (1; 0)\n",
      "+     7: >>>>>   7.900000000e+01 <=   7.900000000e+01   0.0% (3; 0)\n",
      "+     7: mip =   7.900000000e+01 <=     tree is empty   0.0% (0; 5)\n",
      "INTEGER OPTIMAL SOLUTION FOUND\n",
      "Time used:   0.0 secs\n",
      "Memory used: 0.1 Mb (63366 bytes)\n",
      "Writing MIP solution to '/var/folders/f1/dg38sdvs7tsgxf3hbspgk1vc0000gn/T/bc7a62fca06042f2a7dc906d54fbaf00-pulp.sol'...\n",
      "Status: Optimal\n"
     ]
    }
   ],
   "source": [
    "status = problem.solve()\n",
    "print('Status:', pulp.LpStatus[status])"
   ]
  },
  {
   "cell_type": "code",
   "execution_count": 11,
   "metadata": {},
   "outputs": [
    {
     "name": "stdout",
     "output_type": "stream",
     "text": [
      "p1 13\n",
      "p2 3\n",
      "p3 7\n",
      "p4 0\n",
      "obj= 79\n"
     ]
    }
   ],
   "source": [
    "for p in P:\n",
    "  print(p, x[p].value())\n",
    "\n",
    "print('obj=', problem.objective.value())"
   ]
  },
  {
   "cell_type": "code",
   "execution_count": null,
   "metadata": {},
   "outputs": [],
   "source": []
  }
 ],
 "metadata": {
  "interpreter": {
   "hash": "ff5772b32b59bd41fb91f6cc891f8cb03c80235c3628a1f8b61561785c6fc031"
  },
  "kernelspec": {
   "display_name": "Python 3.8.12 ('py38')",
   "language": "python",
   "name": "python3"
  },
  "language_info": {
   "codemirror_mode": {
    "name": "ipython",
    "version": 3
   },
   "file_extension": ".py",
   "mimetype": "text/x-python",
   "name": "python",
   "nbconvert_exporter": "python",
   "pygments_lexer": "ipython3",
   "version": "3.8.12"
  },
  "orig_nbformat": 4
 },
 "nbformat": 4,
 "nbformat_minor": 2
}
