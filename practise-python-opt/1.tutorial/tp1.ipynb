{
 "cells": [
  {
   "cell_type": "code",
   "execution_count": 14,
   "id": "aec0a609",
   "metadata": {},
   "outputs": [],
   "source": [
    "import pulp"
   ]
  },
  {
   "cell_type": "code",
   "execution_count": 15,
   "id": "7f1e4a39",
   "metadata": {},
   "outputs": [],
   "source": [
    "problem = pulp.LpProblem('SLE', pulp.LpMaximize)"
   ]
  },
  {
   "cell_type": "code",
   "execution_count": 16,
   "id": "edb54e4b",
   "metadata": {},
   "outputs": [],
   "source": [
    "x = pulp.LpVariable('x', cat='Continuous')\n",
    "y = pulp.LpVariable('y', cat='Continuous')"
   ]
  },
  {
   "cell_type": "code",
   "execution_count": 17,
   "id": "19350bf0",
   "metadata": {},
   "outputs": [],
   "source": [
    "problem += 120 * x + 150 * y == 1440\n",
    "problem += x + y == 10"
   ]
  },
  {
   "cell_type": "code",
   "execution_count": 18,
   "id": "5a7fd684",
   "metadata": {},
   "outputs": [
    {
     "name": "stdout",
     "output_type": "stream",
     "text": [
      "GLPSOL: GLPK LP/MIP Solver, v4.65\n",
      "Parameter(s) specified in the command line:\n",
      " --cpxlp /var/folders/f1/dg38sdvs7tsgxf3hbspgk1vc0000gn/T/4cd1d9dfee3b47d09cc1a68edd95afec-pulp.lp\n",
      " -o /var/folders/f1/dg38sdvs7tsgxf3hbspgk1vc0000gn/T/4cd1d9dfee3b47d09cc1a68edd95afec-pulp.sol\n",
      "Reading problem data from '/var/folders/f1/dg38sdvs7tsgxf3hbspgk1vc0000gn/T/4cd1d9dfee3b47d09cc1a68edd95afec-pulp.lp'...\n",
      "2 rows, 3 columns, 4 non-zeros\n",
      "11 lines were read\n",
      "GLPK Simplex Optimizer, v4.65\n",
      "2 rows, 3 columns, 4 non-zeros\n",
      "Preprocessing...\n",
      "2 rows, 2 columns, 4 non-zeros\n",
      "Scaling...\n",
      " A: min|aij| =  1.000e+00  max|aij| =  1.500e+02  ratio =  1.500e+02\n",
      "GM: min|aij| =  9.457e-01  max|aij| =  1.057e+00  ratio =  1.118e+00\n",
      "EQ: min|aij| =  8.944e-01  max|aij| =  1.000e+00  ratio =  1.118e+00\n",
      "Constructing initial basis...\n",
      "Size of triangular part is 1\n",
      "      0: obj =  -0.000000000e+00 inf =   3.783e-01 (1)\n",
      "      1: obj =  -0.000000000e+00 inf =   0.000e+00 (0)\n",
      "OPTIMAL LP SOLUTION FOUND\n",
      "Time used:   0.0 secs\n",
      "Memory used: 0.0 Mb (40412 bytes)\n",
      "Writing basic solution to '/var/folders/f1/dg38sdvs7tsgxf3hbspgk1vc0000gn/T/4cd1d9dfee3b47d09cc1a68edd95afec-pulp.sol'...\n"
     ]
    }
   ],
   "source": [
    "status = problem.solve()"
   ]
  },
  {
   "cell_type": "code",
   "execution_count": 19,
   "id": "e3b10ff0",
   "metadata": {},
   "outputs": [
    {
     "name": "stdout",
     "output_type": "stream",
     "text": [
      "Status: Optimal\n",
      "x= 2.0 y= 8.0\n"
     ]
    }
   ],
   "source": [
    "print('Status:', pulp.LpStatus[status])\n",
    "print('x=', x.value(), 'y=', y.value())"
   ]
  },
  {
   "cell_type": "code",
   "execution_count": null,
   "id": "d067b255",
   "metadata": {},
   "outputs": [],
   "source": []
  }
 ],
 "metadata": {
  "kernelspec": {
   "display_name": "Python 3 (ipykernel)",
   "language": "python",
   "name": "python3"
  },
  "language_info": {
   "codemirror_mode": {
    "name": "ipython",
    "version": 3
   },
   "file_extension": ".py",
   "mimetype": "text/x-python",
   "name": "python",
   "nbconvert_exporter": "python",
   "pygments_lexer": "ipython3",
   "version": "3.8.12"
  }
 },
 "nbformat": 4,
 "nbformat_minor": 5
}
