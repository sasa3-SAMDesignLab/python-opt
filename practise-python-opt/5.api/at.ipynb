{
 "cells": [
  {
   "cell_type": "code",
   "execution_count": 1,
   "metadata": {},
   "outputs": [
    {
     "name": "stdout",
     "output_type": "stream",
     "text": [
      "(24, 4)\n"
     ]
    }
   ],
   "source": [
    "import pandas as pd\n",
    "\n",
    "students_df = pd.read_csv('resource/students.csv')\n",
    "print(students_df.shape)"
   ]
  },
  {
   "cell_type": "code",
   "execution_count": 2,
   "metadata": {},
   "outputs": [
    {
     "data": {
      "text/html": [
       "<div>\n",
       "<style scoped>\n",
       "    .dataframe tbody tr th:only-of-type {\n",
       "        vertical-align: middle;\n",
       "    }\n",
       "\n",
       "    .dataframe tbody tr th {\n",
       "        vertical-align: top;\n",
       "    }\n",
       "\n",
       "    .dataframe thead th {\n",
       "        text-align: right;\n",
       "    }\n",
       "</style>\n",
       "<table border=\"1\" class=\"dataframe\">\n",
       "  <thead>\n",
       "    <tr style=\"text-align: right;\">\n",
       "      <th></th>\n",
       "      <th>student_id</th>\n",
       "      <th>license</th>\n",
       "      <th>gender</th>\n",
       "      <th>grade</th>\n",
       "    </tr>\n",
       "  </thead>\n",
       "  <tbody>\n",
       "    <tr>\n",
       "      <th>0</th>\n",
       "      <td>0</td>\n",
       "      <td>0</td>\n",
       "      <td>0</td>\n",
       "      <td>1</td>\n",
       "    </tr>\n",
       "    <tr>\n",
       "      <th>1</th>\n",
       "      <td>1</td>\n",
       "      <td>1</td>\n",
       "      <td>1</td>\n",
       "      <td>2</td>\n",
       "    </tr>\n",
       "    <tr>\n",
       "      <th>2</th>\n",
       "      <td>2</td>\n",
       "      <td>1</td>\n",
       "      <td>0</td>\n",
       "      <td>3</td>\n",
       "    </tr>\n",
       "    <tr>\n",
       "      <th>3</th>\n",
       "      <td>3</td>\n",
       "      <td>1</td>\n",
       "      <td>1</td>\n",
       "      <td>4</td>\n",
       "    </tr>\n",
       "    <tr>\n",
       "      <th>4</th>\n",
       "      <td>4</td>\n",
       "      <td>0</td>\n",
       "      <td>1</td>\n",
       "      <td>1</td>\n",
       "    </tr>\n",
       "  </tbody>\n",
       "</table>\n",
       "</div>"
      ],
      "text/plain": [
       "   student_id  license  gender  grade\n",
       "0           0        0       0      1\n",
       "1           1        1       1      2\n",
       "2           2        1       0      3\n",
       "3           3        1       1      4\n",
       "4           4        0       1      1"
      ]
     },
     "execution_count": 2,
     "metadata": {},
     "output_type": "execute_result"
    }
   ],
   "source": [
    "students_df.head()"
   ]
  },
  {
   "cell_type": "code",
   "execution_count": 3,
   "metadata": {},
   "outputs": [
    {
     "name": "stdout",
     "output_type": "stream",
     "text": [
      "(6, 2)\n"
     ]
    }
   ],
   "source": [
    "cars_df = pd.read_csv('resource/cars.csv')\n",
    "print(cars_df.shape)"
   ]
  },
  {
   "cell_type": "code",
   "execution_count": 4,
   "metadata": {},
   "outputs": [
    {
     "data": {
      "text/html": [
       "<div>\n",
       "<style scoped>\n",
       "    .dataframe tbody tr th:only-of-type {\n",
       "        vertical-align: middle;\n",
       "    }\n",
       "\n",
       "    .dataframe tbody tr th {\n",
       "        vertical-align: top;\n",
       "    }\n",
       "\n",
       "    .dataframe thead th {\n",
       "        text-align: right;\n",
       "    }\n",
       "</style>\n",
       "<table border=\"1\" class=\"dataframe\">\n",
       "  <thead>\n",
       "    <tr style=\"text-align: right;\">\n",
       "      <th></th>\n",
       "      <th>car_id</th>\n",
       "      <th>capacity</th>\n",
       "    </tr>\n",
       "  </thead>\n",
       "  <tbody>\n",
       "    <tr>\n",
       "      <th>0</th>\n",
       "      <td>0</td>\n",
       "      <td>6</td>\n",
       "    </tr>\n",
       "    <tr>\n",
       "      <th>1</th>\n",
       "      <td>1</td>\n",
       "      <td>6</td>\n",
       "    </tr>\n",
       "    <tr>\n",
       "      <th>2</th>\n",
       "      <td>2</td>\n",
       "      <td>5</td>\n",
       "    </tr>\n",
       "    <tr>\n",
       "      <th>3</th>\n",
       "      <td>3</td>\n",
       "      <td>4</td>\n",
       "    </tr>\n",
       "    <tr>\n",
       "      <th>4</th>\n",
       "      <td>4</td>\n",
       "      <td>5</td>\n",
       "    </tr>\n",
       "    <tr>\n",
       "      <th>5</th>\n",
       "      <td>5</td>\n",
       "      <td>5</td>\n",
       "    </tr>\n",
       "  </tbody>\n",
       "</table>\n",
       "</div>"
      ],
      "text/plain": [
       "   car_id  capacity\n",
       "0       0         6\n",
       "1       1         6\n",
       "2       2         5\n",
       "3       3         4\n",
       "4       4         5\n",
       "5       5         5"
      ]
     },
     "execution_count": 4,
     "metadata": {},
     "output_type": "execute_result"
    }
   ],
   "source": [
    "cars_df"
   ]
  },
  {
   "cell_type": "code",
   "execution_count": 5,
   "metadata": {},
   "outputs": [],
   "source": [
    "import pandas as pd\n",
    "import pulp"
   ]
  },
  {
   "cell_type": "code",
   "execution_count": 8,
   "metadata": {},
   "outputs": [],
   "source": [
    "students_df = pd.read_csv('resource/students.csv')\n",
    "cars_df = pd.read_csv('resource/cars.csv')\n",
    "\n",
    "prob = pulp.LpProblem('ClubCarProblem', pulp.LpMinimize)\n",
    "\n",
    "S = students_df['student_id'].to_list()\n",
    "C = cars_df['car_id'].to_list()\n",
    "G = [1, 2, 3, 4]\n",
    "SC = [(s,c) for s in S for c in C]\n",
    "S_license = students_df[students_df['license']==1]['student_id']\n",
    "S_g = {g: students_df[students_df['grade'] == g]['student_id'] for g in G}\n",
    "S_male = students_df[students_df['gender']==0]['student_id']\n",
    "S_female = students_df[students_df['gender']==1]['student_id']\n",
    "\n",
    "U = cars_df['capacity'].to_list()\n",
    "\n",
    "x = pulp.LpVariable.dicts('x', SC, cat='Binary')\n",
    "\n",
    "for s in S:\n",
    "  prob += pulp.lpSum([x[s,c] for c in C]) == 1\n",
    "\n",
    "for c in C:\n",
    "  prob += pulp.lpSum([x[s,c] for s in S]) <= U[c]\n",
    "\n",
    "for c in C:\n",
    "  prob += pulp.lpSum([x[s,c] for s in S_license]) >= 1\n",
    "\n",
    "for c in C:\n",
    "  for g in G:\n",
    "    prob += pulp.lpSum([x[s,c] for s in S_g[g]]) >= 1\n",
    "\n",
    "for c in C:\n",
    "  prob += pulp.lpSum([x[s,c] for s in S_male]) >= 1\n",
    "\n",
    "for c in C:\n",
    "  prob += pulp.lpSum([x[s,c] for s in S_female]) >= 1"
   ]
  },
  {
   "cell_type": "code",
   "execution_count": 9,
   "metadata": {},
   "outputs": [
    {
     "name": "stdout",
     "output_type": "stream",
     "text": [
      "Welcome to the CBC MILP Solver \n",
      "Version: 2.10.3 \n",
      "Build Date: Dec 15 2019 \n",
      "\n",
      "command line - /Users/sasa./miniforge3/envs/py38/lib/python3.8/site-packages/pulp/apis/../solverdir/cbc/osx/64/cbc /var/folders/f1/dg38sdvs7tsgxf3hbspgk1vc0000gn/T/9ba88157b75f48b1a12f88050498c7f4-pulp.mps timeMode elapsed branch printingOptions all solution /var/folders/f1/dg38sdvs7tsgxf3hbspgk1vc0000gn/T/9ba88157b75f48b1a12f88050498c7f4-pulp.sol (default strategy 1)\n",
      "At line 2 NAME          MODEL\n",
      "At line 3 ROWS\n",
      "At line 77 COLUMNS\n",
      "At line 1039 RHS\n",
      "At line 1112 BOUNDS\n",
      "At line 1258 ENDATA\n",
      "Problem MODEL has 72 rows, 145 columns and 672 elements\n",
      "Coin0008I MODEL read with 0 errors\n",
      "Option for timeMode changed from cpu to elapsed\n",
      "Continuous objective value is 0 - 0.00 seconds\n",
      "Cgl0005I 24 SOS with 144 members\n",
      "Cgl0004I processed model has 72 rows, 144 columns (144 integer (144 of which binary)) and 672 elements\n",
      "Cbc0038I Initial state - 29 integers unsatisfied sum - 8.8\n",
      "Cbc0038I Pass   1: suminf.    0.00000 (0) obj. 0 iterations 30\n",
      "Cbc0038I Solution found of 0\n",
      "Cbc0038I Before mini branch and bound, 114 integers at bound fixed and 0 continuous\n",
      "Cbc0038I Mini branch and bound did not improve solution (0.02 seconds)\n",
      "Cbc0038I After 0.02 seconds - Feasibility pump exiting with objective of 0 - took 0.00 seconds\n",
      "Cbc0012I Integer solution of 0 found by feasibility pump after 0 iterations and 0 nodes (0.02 seconds)\n",
      "Cbc0001I Search completed - best objective 0, took 0 iterations and 0 nodes (0.02 seconds)\n",
      "Cbc0035I Maximum depth 0, 0 variables fixed on reduced cost\n",
      "Cuts at root node changed objective from 0 to 0\n",
      "Probing was tried 0 times and created 0 cuts of which 0 were active after adding rounds of cuts (0.000 seconds)\n",
      "Gomory was tried 0 times and created 0 cuts of which 0 were active after adding rounds of cuts (0.000 seconds)\n",
      "Knapsack was tried 0 times and created 0 cuts of which 0 were active after adding rounds of cuts (0.000 seconds)\n",
      "Clique was tried 0 times and created 0 cuts of which 0 were active after adding rounds of cuts (0.000 seconds)\n",
      "MixedIntegerRounding2 was tried 0 times and created 0 cuts of which 0 were active after adding rounds of cuts (0.000 seconds)\n",
      "FlowCover was tried 0 times and created 0 cuts of which 0 were active after adding rounds of cuts (0.000 seconds)\n",
      "TwoMirCuts was tried 0 times and created 0 cuts of which 0 were active after adding rounds of cuts (0.000 seconds)\n",
      "ZeroHalf was tried 0 times and created 0 cuts of which 0 were active after adding rounds of cuts (0.000 seconds)\n",
      "\n",
      "Result - Optimal solution found\n",
      "\n",
      "Objective value:                0.00000000\n",
      "Enumerated nodes:               0\n",
      "Total iterations:               0\n",
      "Time (CPU seconds):             0.01\n",
      "Time (Wallclock seconds):       0.02\n",
      "\n",
      "Option for printingOptions changed from normal to all\n",
      "Total time (CPU seconds):       0.01   (Wallclock seconds):       0.03\n",
      "\n",
      "Status: Optimal\n"
     ]
    }
   ],
   "source": [
    "status = prob.solve()\n",
    "print('Status:', pulp.LpStatus[status])"
   ]
  },
  {
   "cell_type": "code",
   "execution_count": 10,
   "metadata": {},
   "outputs": [
    {
     "name": "stdout",
     "output_type": "stream",
     "text": [
      "車ID:5\n",
      "学生数（乗車定員）:4(5)\n",
      "学生:[6, 7, 8, 9]\n",
      "\n",
      "車ID:5\n",
      "学生数（乗車定員）:4(5)\n",
      "学生:[4, 18, 21, 23]\n",
      "\n",
      "車ID:5\n",
      "学生数（乗車定員）:4(5)\n",
      "学生:[5, 19, 20, 22]\n",
      "\n",
      "車ID:5\n",
      "学生数（乗車定員）:4(5)\n",
      "学生:[3, 10, 13, 16]\n",
      "\n",
      "車ID:5\n",
      "学生数（乗車定員）:4(5)\n",
      "学生:[0, 2, 11, 17]\n",
      "\n",
      "車ID:5\n",
      "学生数（乗車定員）:4(5)\n",
      "学生:[1, 12, 14, 15]\n",
      "\n"
     ]
    }
   ],
   "source": [
    "car2students = {c: [ s for s in S if x[s,c].value()==1] for c in C}\n",
    "\n",
    "max_people = dict(zip(cars_df['car_id'], cars_df['capacity']))\n",
    "\n",
    "for s, ss in car2students.items():\n",
    "  print(f\"車ID:{c}\")\n",
    "  print(f\"学生数（乗車定員）:{len(ss)}({max_people[c]})\")\n",
    "  print(f\"学生:{ss}\\n\")"
   ]
  },
  {
   "cell_type": "code",
   "execution_count": null,
   "metadata": {},
   "outputs": [],
   "source": []
  }
 ],
 "metadata": {
  "interpreter": {
   "hash": "ff5772b32b59bd41fb91f6cc891f8cb03c80235c3628a1f8b61561785c6fc031"
  },
  "kernelspec": {
   "display_name": "Python 3.8.12 ('py38')",
   "language": "python",
   "name": "python3"
  },
  "language_info": {
   "codemirror_mode": {
    "name": "ipython",
    "version": 3
   },
   "file_extension": ".py",
   "mimetype": "text/x-python",
   "name": "python",
   "nbconvert_exporter": "python",
   "pygments_lexer": "ipython3",
   "version": "3.8.12"
  },
  "orig_nbformat": 4
 },
 "nbformat": 4,
 "nbformat_minor": 2
}
