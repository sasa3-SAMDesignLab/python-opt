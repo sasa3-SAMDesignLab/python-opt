{
 "cells": [
  {
   "cell_type": "code",
   "execution_count": 1,
   "metadata": {},
   "outputs": [
    {
     "data": {
      "text/plain": [
       "(5000, 3)"
      ]
     },
     "execution_count": 1,
     "metadata": {},
     "output_type": "execute_result"
    }
   ],
   "source": [
    "import pandas as pd\n",
    "cust_df = pd.read_csv('customers.csv')\n",
    "cust_df.shape"
   ]
  },
  {
   "cell_type": "code",
   "execution_count": 2,
   "metadata": {},
   "outputs": [
    {
     "data": {
      "text/html": [
       "<div>\n",
       "<style scoped>\n",
       "    .dataframe tbody tr th:only-of-type {\n",
       "        vertical-align: middle;\n",
       "    }\n",
       "\n",
       "    .dataframe tbody tr th {\n",
       "        vertical-align: top;\n",
       "    }\n",
       "\n",
       "    .dataframe thead th {\n",
       "        text-align: right;\n",
       "    }\n",
       "</style>\n",
       "<table border=\"1\" class=\"dataframe\">\n",
       "  <thead>\n",
       "    <tr style=\"text-align: right;\">\n",
       "      <th></th>\n",
       "      <th>customer_id</th>\n",
       "      <th>age_cat</th>\n",
       "      <th>freq_cat</th>\n",
       "    </tr>\n",
       "  </thead>\n",
       "  <tbody>\n",
       "    <tr>\n",
       "      <th>0</th>\n",
       "      <td>1</td>\n",
       "      <td>age20~34</td>\n",
       "      <td>freq2</td>\n",
       "    </tr>\n",
       "    <tr>\n",
       "      <th>1</th>\n",
       "      <td>2</td>\n",
       "      <td>age35~49</td>\n",
       "      <td>freq0</td>\n",
       "    </tr>\n",
       "    <tr>\n",
       "      <th>2</th>\n",
       "      <td>3</td>\n",
       "      <td>age35~49</td>\n",
       "      <td>freq0</td>\n",
       "    </tr>\n",
       "    <tr>\n",
       "      <th>3</th>\n",
       "      <td>4</td>\n",
       "      <td>age~19</td>\n",
       "      <td>freq0</td>\n",
       "    </tr>\n",
       "    <tr>\n",
       "      <th>4</th>\n",
       "      <td>5</td>\n",
       "      <td>age35~49</td>\n",
       "      <td>freq0</td>\n",
       "    </tr>\n",
       "  </tbody>\n",
       "</table>\n",
       "</div>"
      ],
      "text/plain": [
       "   customer_id   age_cat freq_cat\n",
       "0            1  age20~34    freq2\n",
       "1            2  age35~49    freq0\n",
       "2            3  age35~49    freq0\n",
       "3            4    age~19    freq0\n",
       "4            5  age35~49    freq0"
      ]
     },
     "execution_count": 2,
     "metadata": {},
     "output_type": "execute_result"
    }
   ],
   "source": [
    "cust_df.head()"
   ]
  },
  {
   "cell_type": "code",
   "execution_count": 3,
   "metadata": {},
   "outputs": [
    {
     "data": {
      "text/plain": [
       "customer_id     int64\n",
       "age_cat        object\n",
       "freq_cat       object\n",
       "dtype: object"
      ]
     },
     "execution_count": 3,
     "metadata": {},
     "output_type": "execute_result"
    }
   ],
   "source": [
    "cust_df.dtypes"
   ]
  },
  {
   "cell_type": "code",
   "execution_count": 4,
   "metadata": {},
   "outputs": [
    {
     "data": {
      "text/plain": [
       "<AxesSubplot:>"
      ]
     },
     "execution_count": 4,
     "metadata": {},
     "output_type": "execute_result"
    },
    {
     "data": {
      "image/png": "[encoded data removed]",
      "text/plain": [
       "<Figure size 432x288 with 1 Axes>"
      ]
     },
     "metadata": {
      "needs_background": "light"
     },
     "output_type": "display_data"
    }
   ],
   "source": [
    "cust_df['age_cat'].hist()"
   ]
  },
  {
   "cell_type": "code",
   "execution_count": 5,
   "metadata": {},
   "outputs": [
    {
     "data": {
      "text/plain": [
       "<AxesSubplot:>"
      ]
     },
     "execution_count": 5,
     "metadata": {},
     "output_type": "execute_result"
    },
    {
     "data": {
      "image/png": "[encoded data removed]",
      "text/plain": [
       "<Figure size 432x288 with 1 Axes>"
      ]
     },
     "metadata": {
      "needs_background": "light"
     },
     "output_type": "display_data"
    }
   ],
   "source": [
    "cust_df['freq_cat'].hist()"
   ]
  },
  {
   "cell_type": "code",
   "execution_count": 6,
   "metadata": {},
   "outputs": [
    {
     "data": {
      "text/html": [
       "<div>\n",
       "<style scoped>\n",
       "    .dataframe tbody tr th:only-of-type {\n",
       "        vertical-align: middle;\n",
       "    }\n",
       "\n",
       "    .dataframe tbody tr th {\n",
       "        vertical-align: top;\n",
       "    }\n",
       "\n",
       "    .dataframe thead th {\n",
       "        text-align: right;\n",
       "    }\n",
       "</style>\n",
       "<table border=\"1\" class=\"dataframe\">\n",
       "  <thead>\n",
       "    <tr style=\"text-align: right;\">\n",
       "      <th>freq_cat</th>\n",
       "      <th>freq0</th>\n",
       "      <th>freq1</th>\n",
       "      <th>freq2</th>\n",
       "      <th>freq3~</th>\n",
       "    </tr>\n",
       "    <tr>\n",
       "      <th>age_cat</th>\n",
       "      <th></th>\n",
       "      <th></th>\n",
       "      <th></th>\n",
       "      <th></th>\n",
       "    </tr>\n",
       "  </thead>\n",
       "  <tbody>\n",
       "    <tr>\n",
       "      <th>age~19</th>\n",
       "      <td>200</td>\n",
       "      <td>150</td>\n",
       "      <td>50</td>\n",
       "      <td>100</td>\n",
       "    </tr>\n",
       "    <tr>\n",
       "      <th>age20~34</th>\n",
       "      <td>600</td>\n",
       "      <td>450</td>\n",
       "      <td>150</td>\n",
       "      <td>300</td>\n",
       "    </tr>\n",
       "    <tr>\n",
       "      <th>age35~49</th>\n",
       "      <td>800</td>\n",
       "      <td>600</td>\n",
       "      <td>200</td>\n",
       "      <td>400</td>\n",
       "    </tr>\n",
       "    <tr>\n",
       "      <th>age50~</th>\n",
       "      <td>400</td>\n",
       "      <td>300</td>\n",
       "      <td>100</td>\n",
       "      <td>200</td>\n",
       "    </tr>\n",
       "  </tbody>\n",
       "</table>\n",
       "</div>"
      ],
      "text/plain": [
       "freq_cat  freq0  freq1  freq2  freq3~\n",
       "age_cat                              \n",
       "age~19      200    150     50     100\n",
       "age20~34    600    450    150     300\n",
       "age35~49    800    600    200     400\n",
       "age50~      400    300    100     200"
      ]
     },
     "execution_count": 6,
     "metadata": {},
     "output_type": "execute_result"
    }
   ],
   "source": [
    "cust_pivot_df = pd.pivot_table(data=cust_df, values='customer_id', columns='freq_cat', index='age_cat', aggfunc='count')\n",
    "cust_pivot_df = cust_pivot_df.reindex(['age~19','age20~34','age35~49', 'age50~'])\n",
    "cust_pivot_df"
   ]
  },
  {
   "cell_type": "code",
   "execution_count": 7,
   "metadata": {},
   "outputs": [
    {
     "data": {
      "text/plain": [
       "<AxesSubplot:xlabel='freq_cat', ylabel='age_cat'>"
      ]
     },
     "execution_count": 7,
     "metadata": {},
     "output_type": "execute_result"
    },
    {
     "data": {
      "image/png": "[encoded data removed]",
      "text/plain": [
       "<Figure size 432x288 with 2 Axes>"
      ]
     },
     "metadata": {
      "needs_background": "light"
     },
     "output_type": "display_data"
    }
   ],
   "source": [
    "import seaborn as sns\n",
    "sns.heatmap(cust_pivot_df, annot=True, fmt='d', cmap='Blues')"
   ]
  },
  {
   "cell_type": "code",
   "execution_count": 8,
   "metadata": {},
   "outputs": [
    {
     "data": {
      "text/plain": [
       "(16, 6)"
      ]
     },
     "execution_count": 8,
     "metadata": {},
     "output_type": "execute_result"
    }
   ],
   "source": [
    "prob_df = pd.read_csv('visit_probability.csv')\n",
    "prob_df.shape"
   ]
  },
  {
   "cell_type": "code",
   "execution_count": 9,
   "metadata": {},
   "outputs": [
    {
     "data": {
      "text/html": [
       "<div>\n",
       "<style scoped>\n",
       "    .dataframe tbody tr th:only-of-type {\n",
       "        vertical-align: middle;\n",
       "    }\n",
       "\n",
       "    .dataframe tbody tr th {\n",
       "        vertical-align: top;\n",
       "    }\n",
       "\n",
       "    .dataframe thead th {\n",
       "        text-align: right;\n",
       "    }\n",
       "</style>\n",
       "<table border=\"1\" class=\"dataframe\">\n",
       "  <thead>\n",
       "    <tr style=\"text-align: right;\">\n",
       "      <th></th>\n",
       "      <th>age_cat</th>\n",
       "      <th>freq_cat</th>\n",
       "      <th>segment_id</th>\n",
       "      <th>prob_dm1</th>\n",
       "      <th>prob_dm2</th>\n",
       "      <th>prob_dm3</th>\n",
       "    </tr>\n",
       "  </thead>\n",
       "  <tbody>\n",
       "    <tr>\n",
       "      <th>0</th>\n",
       "      <td>age~19</td>\n",
       "      <td>freq0</td>\n",
       "      <td>1</td>\n",
       "      <td>0.07</td>\n",
       "      <td>0.12</td>\n",
       "      <td>0.29</td>\n",
       "    </tr>\n",
       "    <tr>\n",
       "      <th>1</th>\n",
       "      <td>age~19</td>\n",
       "      <td>freq1</td>\n",
       "      <td>2</td>\n",
       "      <td>0.21</td>\n",
       "      <td>0.30</td>\n",
       "      <td>0.58</td>\n",
       "    </tr>\n",
       "    <tr>\n",
       "      <th>2</th>\n",
       "      <td>age~19</td>\n",
       "      <td>freq2</td>\n",
       "      <td>3</td>\n",
       "      <td>0.28</td>\n",
       "      <td>0.39</td>\n",
       "      <td>0.74</td>\n",
       "    </tr>\n",
       "    <tr>\n",
       "      <th>3</th>\n",
       "      <td>age~19</td>\n",
       "      <td>freq3~</td>\n",
       "      <td>4</td>\n",
       "      <td>0.35</td>\n",
       "      <td>0.45</td>\n",
       "      <td>0.77</td>\n",
       "    </tr>\n",
       "    <tr>\n",
       "      <th>4</th>\n",
       "      <td>age20~34</td>\n",
       "      <td>freq0</td>\n",
       "      <td>5</td>\n",
       "      <td>0.11</td>\n",
       "      <td>0.17</td>\n",
       "      <td>0.37</td>\n",
       "    </tr>\n",
       "    <tr>\n",
       "      <th>5</th>\n",
       "      <td>age20~34</td>\n",
       "      <td>freq1</td>\n",
       "      <td>6</td>\n",
       "      <td>0.32</td>\n",
       "      <td>0.43</td>\n",
       "      <td>0.72</td>\n",
       "    </tr>\n",
       "    <tr>\n",
       "      <th>6</th>\n",
       "      <td>age20~34</td>\n",
       "      <td>freq2</td>\n",
       "      <td>7</td>\n",
       "      <td>0.42</td>\n",
       "      <td>0.55</td>\n",
       "      <td>0.93</td>\n",
       "    </tr>\n",
       "    <tr>\n",
       "      <th>7</th>\n",
       "      <td>age20~34</td>\n",
       "      <td>freq3~</td>\n",
       "      <td>8</td>\n",
       "      <td>0.52</td>\n",
       "      <td>0.63</td>\n",
       "      <td>0.94</td>\n",
       "    </tr>\n",
       "    <tr>\n",
       "      <th>8</th>\n",
       "      <td>age35~49</td>\n",
       "      <td>freq0</td>\n",
       "      <td>9</td>\n",
       "      <td>0.08</td>\n",
       "      <td>0.14</td>\n",
       "      <td>0.33</td>\n",
       "    </tr>\n",
       "    <tr>\n",
       "      <th>9</th>\n",
       "      <td>age35~49</td>\n",
       "      <td>freq1</td>\n",
       "      <td>10</td>\n",
       "      <td>0.25</td>\n",
       "      <td>0.35</td>\n",
       "      <td>0.67</td>\n",
       "    </tr>\n",
       "    <tr>\n",
       "      <th>10</th>\n",
       "      <td>age35~49</td>\n",
       "      <td>freq2</td>\n",
       "      <td>11</td>\n",
       "      <td>0.34</td>\n",
       "      <td>0.45</td>\n",
       "      <td>0.86</td>\n",
       "    </tr>\n",
       "    <tr>\n",
       "      <th>11</th>\n",
       "      <td>age35~49</td>\n",
       "      <td>freq3~</td>\n",
       "      <td>12</td>\n",
       "      <td>0.42</td>\n",
       "      <td>0.52</td>\n",
       "      <td>0.89</td>\n",
       "    </tr>\n",
       "    <tr>\n",
       "      <th>12</th>\n",
       "      <td>age50~</td>\n",
       "      <td>freq0</td>\n",
       "      <td>13</td>\n",
       "      <td>0.07</td>\n",
       "      <td>0.13</td>\n",
       "      <td>0.32</td>\n",
       "    </tr>\n",
       "    <tr>\n",
       "      <th>13</th>\n",
       "      <td>age50~</td>\n",
       "      <td>freq1</td>\n",
       "      <td>14</td>\n",
       "      <td>0.21</td>\n",
       "      <td>0.33</td>\n",
       "      <td>0.65</td>\n",
       "    </tr>\n",
       "    <tr>\n",
       "      <th>14</th>\n",
       "      <td>age50~</td>\n",
       "      <td>freq2</td>\n",
       "      <td>15</td>\n",
       "      <td>0.28</td>\n",
       "      <td>0.42</td>\n",
       "      <td>0.84</td>\n",
       "    </tr>\n",
       "    <tr>\n",
       "      <th>15</th>\n",
       "      <td>age50~</td>\n",
       "      <td>freq3~</td>\n",
       "      <td>16</td>\n",
       "      <td>0.35</td>\n",
       "      <td>0.49</td>\n",
       "      <td>0.88</td>\n",
       "    </tr>\n",
       "  </tbody>\n",
       "</table>\n",
       "</div>"
      ],
      "text/plain": [
       "     age_cat freq_cat  segment_id  prob_dm1  prob_dm2  prob_dm3\n",
       "0     age~19    freq0           1      0.07      0.12      0.29\n",
       "1     age~19    freq1           2      0.21      0.30      0.58\n",
       "2     age~19    freq2           3      0.28      0.39      0.74\n",
       "3     age~19   freq3~           4      0.35      0.45      0.77\n",
       "4   age20~34    freq0           5      0.11      0.17      0.37\n",
       "5   age20~34    freq1           6      0.32      0.43      0.72\n",
       "6   age20~34    freq2           7      0.42      0.55      0.93\n",
       "7   age20~34   freq3~           8      0.52      0.63      0.94\n",
       "8   age35~49    freq0           9      0.08      0.14      0.33\n",
       "9   age35~49    freq1          10      0.25      0.35      0.67\n",
       "10  age35~49    freq2          11      0.34      0.45      0.86\n",
       "11  age35~49   freq3~          12      0.42      0.52      0.89\n",
       "12    age50~    freq0          13      0.07      0.13      0.32\n",
       "13    age50~    freq1          14      0.21      0.33      0.65\n",
       "14    age50~    freq2          15      0.28      0.42      0.84\n",
       "15    age50~   freq3~          16      0.35      0.49      0.88"
      ]
     },
     "execution_count": 9,
     "metadata": {},
     "output_type": "execute_result"
    }
   ],
   "source": [
    "prob_df"
   ]
  },
  {
   "cell_type": "code",
   "execution_count": 10,
   "metadata": {},
   "outputs": [
    {
     "data": {
      "image/png": "[encoded data removed]",
      "text/plain": [
       "<Figure size 1440x216 with 6 Axes>"
      ]
     },
     "metadata": {
      "needs_background": "light"
     },
     "output_type": "display_data"
    }
   ],
   "source": [
    "import matplotlib.pyplot as plt\n",
    "ax = {}\n",
    "fig, (ax[0], ax[1], ax[2]) = plt.subplots(1, 3, figsize=(20,3))\n",
    "for i, ptn in enumerate(['prob_dm1','prob_dm2','prob_dm3']):\n",
    "  prob_pivot_df = pd.pivot_table(data=prob_df, values=ptn, columns='freq_cat', index='age_cat')\n",
    "  prob_pivot_df = prob_pivot_df.reindex(['age~19','age20~34','age35~49','age50~'])\n",
    "  sns.heatmap(prob_pivot_df,vmin=0,vmax=1,annot=True,fmt='.0%',cmap='Blues',ax=ax[i])\n",
    "  ax[i].set_title(f'Visit Probability of {ptn}')\n",
    "plt.show()"
   ]
  },
  {
   "cell_type": "code",
   "execution_count": 11,
   "metadata": {},
   "outputs": [],
   "source": [
    "import pulp\n",
    "problem = pulp.LpProblem(name='DiscountCouponProblem1',sense=pulp.LpMaximize)"
   ]
  },
  {
   "cell_type": "code",
   "execution_count": 12,
   "metadata": {},
   "outputs": [
    {
     "data": {
      "text/plain": [
       "15000"
      ]
     },
     "execution_count": 12,
     "metadata": {},
     "output_type": "execute_result"
    }
   ],
   "source": [
    "I = cust_df['customer_id'].to_list()\n",
    "\n",
    "M = [1,2,3]\n",
    "\n",
    "xim = {}\n",
    "for i in I:\n",
    "  for m in M:\n",
    "      xim[i,m] = pulp.LpVariable(name=f'xim({i},{m})',cat='Binary')\n",
    "\n",
    "len(xim)"
   ]
  },
  {
   "cell_type": "code",
   "execution_count": 13,
   "metadata": {},
   "outputs": [],
   "source": [
    "for i in I:\n",
    "  problem += pulp.lpSum(xim[i,m] for m in M) == 1"
   ]
  },
  {
   "cell_type": "code",
   "execution_count": 14,
   "metadata": {},
   "outputs": [
    {
     "data": {
      "text/html": [
       "<div>\n",
       "<style scoped>\n",
       "    .dataframe tbody tr th:only-of-type {\n",
       "        vertical-align: middle;\n",
       "    }\n",
       "\n",
       "    .dataframe tbody tr th {\n",
       "        vertical-align: top;\n",
       "    }\n",
       "\n",
       "    .dataframe thead th {\n",
       "        text-align: right;\n",
       "    }\n",
       "</style>\n",
       "<table border=\"1\" class=\"dataframe\">\n",
       "  <thead>\n",
       "    <tr style=\"text-align: right;\">\n",
       "      <th></th>\n",
       "      <th>customer_id</th>\n",
       "      <th>age_cat</th>\n",
       "      <th>freq_cat</th>\n",
       "      <th>segment_id</th>\n",
       "      <th>prob_dm1</th>\n",
       "      <th>prob_dm2</th>\n",
       "      <th>prob_dm3</th>\n",
       "    </tr>\n",
       "  </thead>\n",
       "  <tbody>\n",
       "    <tr>\n",
       "      <th>0</th>\n",
       "      <td>1</td>\n",
       "      <td>age20~34</td>\n",
       "      <td>freq2</td>\n",
       "      <td>7</td>\n",
       "      <td>0.42</td>\n",
       "      <td>0.55</td>\n",
       "      <td>0.93</td>\n",
       "    </tr>\n",
       "    <tr>\n",
       "      <th>1</th>\n",
       "      <td>199</td>\n",
       "      <td>age20~34</td>\n",
       "      <td>freq2</td>\n",
       "      <td>7</td>\n",
       "      <td>0.42</td>\n",
       "      <td>0.55</td>\n",
       "      <td>0.93</td>\n",
       "    </tr>\n",
       "    <tr>\n",
       "      <th>2</th>\n",
       "      <td>200</td>\n",
       "      <td>age20~34</td>\n",
       "      <td>freq2</td>\n",
       "      <td>7</td>\n",
       "      <td>0.42</td>\n",
       "      <td>0.55</td>\n",
       "      <td>0.93</td>\n",
       "    </tr>\n",
       "    <tr>\n",
       "      <th>3</th>\n",
       "      <td>255</td>\n",
       "      <td>age20~34</td>\n",
       "      <td>freq2</td>\n",
       "      <td>7</td>\n",
       "      <td>0.42</td>\n",
       "      <td>0.55</td>\n",
       "      <td>0.93</td>\n",
       "    </tr>\n",
       "    <tr>\n",
       "      <th>4</th>\n",
       "      <td>269</td>\n",
       "      <td>age20~34</td>\n",
       "      <td>freq2</td>\n",
       "      <td>7</td>\n",
       "      <td>0.42</td>\n",
       "      <td>0.55</td>\n",
       "      <td>0.93</td>\n",
       "    </tr>\n",
       "  </tbody>\n",
       "</table>\n",
       "</div>"
      ],
      "text/plain": [
       "   customer_id   age_cat freq_cat  segment_id  prob_dm1  prob_dm2  prob_dm3\n",
       "0            1  age20~34    freq2           7      0.42      0.55      0.93\n",
       "1          199  age20~34    freq2           7      0.42      0.55      0.93\n",
       "2          200  age20~34    freq2           7      0.42      0.55      0.93\n",
       "3          255  age20~34    freq2           7      0.42      0.55      0.93\n",
       "4          269  age20~34    freq2           7      0.42      0.55      0.93"
      ]
     },
     "execution_count": 14,
     "metadata": {},
     "output_type": "execute_result"
    }
   ],
   "source": [
    "keys = ['age_cat', 'freq_cat']\n",
    "cust_prob_df = pd.merge(cust_df, prob_df, on=keys)\n",
    "cust_prob_df.head()"
   ]
  },
  {
   "cell_type": "code",
   "execution_count": 15,
   "metadata": {},
   "outputs": [
    {
     "data": {
      "text/html": [
       "<div>\n",
       "<style scoped>\n",
       "    .dataframe tbody tr th:only-of-type {\n",
       "        vertical-align: middle;\n",
       "    }\n",
       "\n",
       "    .dataframe tbody tr th {\n",
       "        vertical-align: top;\n",
       "    }\n",
       "\n",
       "    .dataframe thead th {\n",
       "        text-align: right;\n",
       "    }\n",
       "</style>\n",
       "<table border=\"1\" class=\"dataframe\">\n",
       "  <thead>\n",
       "    <tr style=\"text-align: right;\">\n",
       "      <th></th>\n",
       "      <th>customer_id</th>\n",
       "      <th>dm</th>\n",
       "      <th>prob</th>\n",
       "    </tr>\n",
       "  </thead>\n",
       "  <tbody>\n",
       "    <tr>\n",
       "      <th>0</th>\n",
       "      <td>1</td>\n",
       "      <td>1</td>\n",
       "      <td>0.42</td>\n",
       "    </tr>\n",
       "    <tr>\n",
       "      <th>1</th>\n",
       "      <td>199</td>\n",
       "      <td>1</td>\n",
       "      <td>0.42</td>\n",
       "    </tr>\n",
       "    <tr>\n",
       "      <th>2</th>\n",
       "      <td>200</td>\n",
       "      <td>1</td>\n",
       "      <td>0.42</td>\n",
       "    </tr>\n",
       "    <tr>\n",
       "      <th>3</th>\n",
       "      <td>255</td>\n",
       "      <td>1</td>\n",
       "      <td>0.42</td>\n",
       "    </tr>\n",
       "    <tr>\n",
       "      <th>4</th>\n",
       "      <td>269</td>\n",
       "      <td>1</td>\n",
       "      <td>0.42</td>\n",
       "    </tr>\n",
       "    <tr>\n",
       "      <th>...</th>\n",
       "      <td>...</td>\n",
       "      <td>...</td>\n",
       "      <td>...</td>\n",
       "    </tr>\n",
       "    <tr>\n",
       "      <th>14995</th>\n",
       "      <td>4474</td>\n",
       "      <td>3</td>\n",
       "      <td>0.74</td>\n",
       "    </tr>\n",
       "    <tr>\n",
       "      <th>14996</th>\n",
       "      <td>4596</td>\n",
       "      <td>3</td>\n",
       "      <td>0.74</td>\n",
       "    </tr>\n",
       "    <tr>\n",
       "      <th>14997</th>\n",
       "      <td>4720</td>\n",
       "      <td>3</td>\n",
       "      <td>0.74</td>\n",
       "    </tr>\n",
       "    <tr>\n",
       "      <th>14998</th>\n",
       "      <td>4910</td>\n",
       "      <td>3</td>\n",
       "      <td>0.74</td>\n",
       "    </tr>\n",
       "    <tr>\n",
       "      <th>14999</th>\n",
       "      <td>4947</td>\n",
       "      <td>3</td>\n",
       "      <td>0.74</td>\n",
       "    </tr>\n",
       "  </tbody>\n",
       "</table>\n",
       "<p>15000 rows × 3 columns</p>\n",
       "</div>"
      ],
      "text/plain": [
       "       customer_id dm  prob\n",
       "0                1  1  0.42\n",
       "1              199  1  0.42\n",
       "2              200  1  0.42\n",
       "3              255  1  0.42\n",
       "4              269  1  0.42\n",
       "...            ... ..   ...\n",
       "14995         4474  3  0.74\n",
       "14996         4596  3  0.74\n",
       "14997         4720  3  0.74\n",
       "14998         4910  3  0.74\n",
       "14999         4947  3  0.74\n",
       "\n",
       "[15000 rows x 3 columns]"
      ]
     },
     "execution_count": 15,
     "metadata": {},
     "output_type": "execute_result"
    }
   ],
   "source": [
    "cust_prob_ver_df = cust_prob_df.rename(columns={'prob_dm1':1, 'prob_dm2':2, 'prob_dm3':3}).melt(id_vars=['customer_id'], value_vars=[1,2,3], var_name='dm', value_name='prob')\n",
    "cust_prob_ver_df"
   ]
  },
  {
   "cell_type": "code",
   "execution_count": 16,
   "metadata": {},
   "outputs": [],
   "source": [
    "Pim = cust_prob_ver_df.set_index(['customer_id','dm'])['prob'].to_dict()"
   ]
  },
  {
   "cell_type": "code",
   "execution_count": 17,
   "metadata": {},
   "outputs": [
    {
     "data": {
      "text/plain": [
       "0.42"
      ]
     },
     "execution_count": 17,
     "metadata": {},
     "output_type": "execute_result"
    }
   ],
   "source": [
    "Pim[1,1]"
   ]
  },
  {
   "cell_type": "code",
   "execution_count": 18,
   "metadata": {},
   "outputs": [],
   "source": [
    "problem += pulp.lpSum((Pim[i,m] - Pim[i,1])*xim[i,m] for i in I for m in [2,3])"
   ]
  },
  {
   "cell_type": "code",
   "execution_count": 19,
   "metadata": {},
   "outputs": [],
   "source": [
    "Cm = {1:0, 2:1000, 3:2000}"
   ]
  },
  {
   "cell_type": "code",
   "execution_count": 20,
   "metadata": {},
   "outputs": [],
   "source": [
    "problem += pulp.lpSum(Cm[m]*Pim[i,m]*xim[i,m] for i in I for m in [2,3]) <= 1000000"
   ]
  },
  {
   "cell_type": "code",
   "execution_count": 21,
   "metadata": {},
   "outputs": [
    {
     "data": {
      "text/plain": [
       "16"
      ]
     },
     "execution_count": 21,
     "metadata": {},
     "output_type": "execute_result"
    }
   ],
   "source": [
    "S = prob_df['segment_id'].to_list()\n",
    "len(S)"
   ]
  },
  {
   "cell_type": "code",
   "execution_count": 22,
   "metadata": {},
   "outputs": [
    {
     "name": "stdout",
     "output_type": "stream",
     "text": [
      "{1: 200, 2: 150, 3: 50, 4: 100, 5: 600, 6: 450, 7: 150, 8: 300, 9: 800, 10: 600, 11: 200, 12: 400, 13: 400, 14: 300, 15: 100, 16: 200}\n"
     ]
    }
   ],
   "source": [
    "Ns = cust_prob_df.groupby('segment_id')['customer_id'].count().to_dict()\n",
    "print(Ns)"
   ]
  },
  {
   "cell_type": "code",
   "execution_count": 23,
   "metadata": {},
   "outputs": [],
   "source": [
    "Si = cust_prob_df.set_index('customer_id')['segment_id'].to_dict()"
   ]
  },
  {
   "cell_type": "code",
   "execution_count": 24,
   "metadata": {},
   "outputs": [],
   "source": [
    "for s in S:\n",
    "    for m in M:\n",
    "        problem += pulp.lpSum(xim[i,m] for i in I if Si[i] == s) >= 0.1 * Ns[s]"
   ]
  },
  {
   "cell_type": "code",
   "execution_count": 25,
   "metadata": {},
   "outputs": [
    {
     "name": "stdout",
     "output_type": "stream",
     "text": [
      "Welcome to the CBC MILP Solver \n",
      "Version: 2.10.3 \n",
      "Build Date: Dec 15 2019 \n",
      "\n",
      "command line - /Users/sasa./miniforge3/envs/py38/lib/python3.8/site-packages/pulp/apis/../solverdir/cbc/osx/64/cbc /var/folders/f1/dg38sdvs7tsgxf3hbspgk1vc0000gn/T/453ae43d04de401989b80a722e4702b6-pulp.mps max timeMode elapsed branch printingOptions all solution /var/folders/f1/dg38sdvs7tsgxf3hbspgk1vc0000gn/T/453ae43d04de401989b80a722e4702b6-pulp.sol (default strategy 1)\n",
      "At line 2 NAME          MODEL\n",
      "At line 3 ROWS\n",
      "At line 5054 COLUMNS\n",
      "At line 85055 RHS\n",
      "At line 90105 BOUNDS\n",
      "At line 105106 ENDATA\n",
      "Problem MODEL has 5049 rows, 15000 columns and 40000 elements\n",
      "Coin0008I MODEL read with 0 errors\n",
      "Option for timeMode changed from cpu to elapsed\n",
      "Continuous objective value is 326.095 - 0.15 seconds\n",
      "Cgl0004I processed model has 5049 rows, 15000 columns (15000 integer (15000 of which binary)) and 40000 elements\n",
      "Cutoff increment increased from 1e-05 to 0.00999\n",
      "Cbc0038I Initial state - 2 integers unsatisfied sum - 0.156863\n",
      "Cbc0038I Pass   1: (0.32 seconds) suminf.    0.12500 (2) obj. -326.094 iterations 633\n",
      "Cbc0038I Solution found of -325.86\n",
      "Cbc0038I Before mini branch and bound, 14996 integers at bound fixed and 0 continuous\n",
      "Cbc0038I Full problem 5049 rows 15000 columns, reduced to 1 rows 2 columns\n",
      "Cbc0038I Mini branch and bound improved solution from -325.86 to -325.92 (0.34 seconds)\n",
      "Cbc0038I Round again with cutoff of -325.947\n",
      "Cbc0038I Pass   2: (0.36 seconds) suminf.    0.12500 (2) obj. -326.094 iterations 0\n",
      "Cbc0038I Pass   3: (0.38 seconds) suminf.    0.30893 (2) obj. -325.947 iterations 291\n",
      "Cbc0038I Pass   4: (0.40 seconds) suminf.    0.71429 (2) obj. -326.06 iterations 293\n",
      "Cbc0038I Pass   5: (0.43 seconds) suminf.    0.21299 (4) obj. -325.947 iterations 723\n",
      "Cbc0038I Pass   6: (0.47 seconds) suminf.    0.19029 (4) obj. -325.947 iterations 548\n",
      "Cbc0038I Pass   7: (0.51 seconds) suminf.    0.67857 (2) obj. -325.98 iterations 1008\n",
      "Cbc0038I Pass   8: (0.52 seconds) suminf.    0.67857 (2) obj. -325.98 iterations 1\n",
      "Cbc0038I Pass   9: (0.55 seconds) suminf.    0.79821 (2) obj. -325.947 iterations 733\n",
      "Cbc0038I Pass  10: (0.59 seconds) suminf.    0.67857 (2) obj. -325.98 iterations 735\n",
      "Cbc0038I Pass  11: (0.63 seconds) suminf.    0.54494 (4) obj. -325.947 iterations 814\n",
      "Cbc0038I Pass  12: (0.66 seconds) suminf.    0.44170 (4) obj. -325.947 iterations 518\n",
      "Cbc0038I Pass  13: (0.70 seconds) suminf.    0.60714 (2) obj. -325.97 iterations 978\n",
      "Cbc0038I Pass  14: (0.71 seconds) suminf.    0.60714 (2) obj. -325.97 iterations 1\n",
      "Cbc0038I Pass  15: (0.76 seconds) suminf.    0.69107 (2) obj. -325.947 iterations 881\n",
      "Cbc0038I Pass  16: (0.79 seconds) suminf.    0.60714 (2) obj. -325.97 iterations 874\n",
      "Cbc0038I Pass  17: (0.84 seconds) suminf.    1.78331 (6) obj. -325.947 iterations 829\n",
      "Cbc0038I Pass  18: (0.87 seconds) suminf.    0.42424 (2) obj. -325.947 iterations 608\n",
      "Cbc0038I Pass  19: (0.91 seconds) suminf.    0.46778 (4) obj. -325.947 iterations 1034\n",
      "Cbc0038I Pass  20: (0.95 seconds) suminf.    1.04376 (4) obj. -325.947 iterations 659\n",
      "Cbc0038I Pass  21: (0.98 seconds) suminf.    0.56110 (4) obj. -325.947 iterations 516\n",
      "Cbc0038I Pass  22: (1.03 seconds) suminf.    0.30893 (2) obj. -325.947 iterations 710\n",
      "Cbc0038I Pass  23: (1.08 seconds) suminf.    0.30952 (2) obj. -325.947 iterations 1107\n",
      "Cbc0038I Pass  24: (1.12 seconds) suminf.    0.30893 (2) obj. -325.947 iterations 851\n",
      "Cbc0038I Pass  25: (1.16 seconds) suminf.    1.41074 (4) obj. -325.947 iterations 611\n",
      "Cbc0038I Pass  26: (1.20 seconds) suminf.    0.31031 (4) obj. -325.947 iterations 454\n",
      "Cbc0038I Pass  27: (1.24 seconds) suminf.    0.63636 (2) obj. -325.95 iterations 935\n",
      "Cbc0038I Pass  28: (1.29 seconds) suminf.    0.51313 (4) obj. -325.947 iterations 986\n",
      "Cbc0038I Pass  29: (1.34 seconds) suminf.    1.54636 (4) obj. -325.947 iterations 877\n",
      "Cbc0038I Pass  30: (1.37 seconds) suminf.    0.76088 (4) obj. -325.947 iterations 457\n",
      "Cbc0038I Pass  31: (1.39 seconds) suminf.    0.63036 (2) obj. -325.947 iterations 189\n",
      "Cbc0038I Before mini branch and bound, 14084 integers at bound fixed and 0 continuous\n",
      "Cbc0038I Full problem 5049 rows 15000 columns, reduced to 44 rows 91 columns\n",
      "Cbc0038I Mini branch and bound improved solution from -325.92 to -326.09 (1.42 seconds)\n",
      "Cbc0038I After 1.42 seconds - Feasibility pump exiting with objective of -326.09 - took 1.12 seconds\n",
      "Cbc0012I Integer solution of -326.09 found by feasibility pump after 0 iterations and 0 nodes (1.42 seconds)\n",
      "Cbc0001I Search completed - best objective -326.0900000000031, took 0 iterations and 0 nodes (1.46 seconds)\n",
      "Cbc0035I Maximum depth 0, 0 variables fixed on reduced cost\n",
      "Cuts at root node changed objective from -326.095 to -326.095\n",
      "Probing was tried 0 times and created 0 cuts of which 0 were active after adding rounds of cuts (0.000 seconds)\n",
      "Gomory was tried 0 times and created 0 cuts of which 0 were active after adding rounds of cuts (0.000 seconds)\n",
      "Knapsack was tried 0 times and created 0 cuts of which 0 were active after adding rounds of cuts (0.000 seconds)\n",
      "Clique was tried 0 times and created 0 cuts of which 0 were active after adding rounds of cuts (0.000 seconds)\n",
      "MixedIntegerRounding2 was tried 0 times and created 0 cuts of which 0 were active after adding rounds of cuts (0.000 seconds)\n",
      "FlowCover was tried 0 times and created 0 cuts of which 0 were active after adding rounds of cuts (0.000 seconds)\n",
      "TwoMirCuts was tried 0 times and created 0 cuts of which 0 were active after adding rounds of cuts (0.000 seconds)\n",
      "ZeroHalf was tried 0 times and created 0 cuts of which 0 were active after adding rounds of cuts (0.000 seconds)\n",
      "\n",
      "Result - Optimal solution found\n",
      "\n",
      "Objective value:                326.09000000\n",
      "Enumerated nodes:               0\n",
      "Total iterations:               0\n",
      "Time (CPU seconds):             1.44\n",
      "Time (Wallclock seconds):       1.47\n",
      "\n",
      "Option for printingOptions changed from normal to all\n",
      "Total time (CPU seconds):       1.49   (Wallclock seconds):       1.52\n",
      "\n",
      "ステータス:Optimal\n",
      "目的関数値:326.1\n",
      "計算時間:2.33(秒)\n"
     ]
    }
   ],
   "source": [
    "import time\n",
    "time_start = time.time()\n",
    "status = problem.solve()\n",
    "time_stop = time.time()\n",
    "print(f'ステータス:{pulp.LpStatus[status]}')\n",
    "print(f'目的関数値:{pulp.value(problem.objective):.4}')\n",
    "print(f'計算時間:{(time_stop - time_start):.3}(秒)')"
   ]
  },
  {
   "cell_type": "code",
   "execution_count": 31,
   "metadata": {},
   "outputs": [
    {
     "data": {
      "text/html": [
       "<div>\n",
       "<style scoped>\n",
       "    .dataframe tbody tr th:only-of-type {\n",
       "        vertical-align: middle;\n",
       "    }\n",
       "\n",
       "    .dataframe tbody tr th {\n",
       "        vertical-align: top;\n",
       "    }\n",
       "\n",
       "    .dataframe thead th {\n",
       "        text-align: right;\n",
       "    }\n",
       "</style>\n",
       "<table border=\"1\" class=\"dataframe\">\n",
       "  <thead>\n",
       "    <tr style=\"text-align: right;\">\n",
       "      <th></th>\n",
       "      <th>send_dm1</th>\n",
       "      <th>send_dm2</th>\n",
       "      <th>send_dm3</th>\n",
       "    </tr>\n",
       "  </thead>\n",
       "  <tbody>\n",
       "    <tr>\n",
       "      <th>0</th>\n",
       "      <td>0.0</td>\n",
       "      <td>1.0</td>\n",
       "      <td>0.0</td>\n",
       "    </tr>\n",
       "    <tr>\n",
       "      <th>1</th>\n",
       "      <td>0.0</td>\n",
       "      <td>1.0</td>\n",
       "      <td>0.0</td>\n",
       "    </tr>\n",
       "    <tr>\n",
       "      <th>2</th>\n",
       "      <td>0.0</td>\n",
       "      <td>1.0</td>\n",
       "      <td>0.0</td>\n",
       "    </tr>\n",
       "    <tr>\n",
       "      <th>3</th>\n",
       "      <td>0.0</td>\n",
       "      <td>1.0</td>\n",
       "      <td>0.0</td>\n",
       "    </tr>\n",
       "    <tr>\n",
       "      <th>4</th>\n",
       "      <td>0.0</td>\n",
       "      <td>1.0</td>\n",
       "      <td>0.0</td>\n",
       "    </tr>\n",
       "  </tbody>\n",
       "</table>\n",
       "</div>"
      ],
      "text/plain": [
       "   send_dm1  send_dm2  send_dm3\n",
       "0       0.0       1.0       0.0\n",
       "1       0.0       1.0       0.0\n",
       "2       0.0       1.0       0.0\n",
       "3       0.0       1.0       0.0\n",
       "4       0.0       1.0       0.0"
      ]
     },
     "execution_count": 31,
     "metadata": {},
     "output_type": "execute_result"
    }
   ],
   "source": [
    "send_dm_df = pd.DataFrame([[xim[i,m].value() for m in M] for i in I], columns=['send_dm1', 'send_dm2', 'send_dm3'])\n",
    "send_dm_df.head()"
   ]
  },
  {
   "cell_type": "code",
   "execution_count": 32,
   "metadata": {},
   "outputs": [
    {
     "data": {
      "text/html": [
       "<div>\n",
       "<style scoped>\n",
       "    .dataframe tbody tr th:only-of-type {\n",
       "        vertical-align: middle;\n",
       "    }\n",
       "\n",
       "    .dataframe tbody tr th {\n",
       "        vertical-align: top;\n",
       "    }\n",
       "\n",
       "    .dataframe thead th {\n",
       "        text-align: right;\n",
       "    }\n",
       "</style>\n",
       "<table border=\"1\" class=\"dataframe\">\n",
       "  <thead>\n",
       "    <tr style=\"text-align: right;\">\n",
       "      <th></th>\n",
       "      <th>customer_id</th>\n",
       "      <th>age_cat</th>\n",
       "      <th>freq_cat</th>\n",
       "      <th>send_dm1</th>\n",
       "      <th>send_dm2</th>\n",
       "      <th>send_dm3</th>\n",
       "    </tr>\n",
       "  </thead>\n",
       "  <tbody>\n",
       "    <tr>\n",
       "      <th>0</th>\n",
       "      <td>1</td>\n",
       "      <td>age20~34</td>\n",
       "      <td>freq2</td>\n",
       "      <td>0.0</td>\n",
       "      <td>1.0</td>\n",
       "      <td>0.0</td>\n",
       "    </tr>\n",
       "    <tr>\n",
       "      <th>1</th>\n",
       "      <td>2</td>\n",
       "      <td>age35~49</td>\n",
       "      <td>freq0</td>\n",
       "      <td>0.0</td>\n",
       "      <td>1.0</td>\n",
       "      <td>0.0</td>\n",
       "    </tr>\n",
       "    <tr>\n",
       "      <th>2</th>\n",
       "      <td>3</td>\n",
       "      <td>age35~49</td>\n",
       "      <td>freq0</td>\n",
       "      <td>0.0</td>\n",
       "      <td>1.0</td>\n",
       "      <td>0.0</td>\n",
       "    </tr>\n",
       "    <tr>\n",
       "      <th>3</th>\n",
       "      <td>4</td>\n",
       "      <td>age~19</td>\n",
       "      <td>freq0</td>\n",
       "      <td>0.0</td>\n",
       "      <td>1.0</td>\n",
       "      <td>0.0</td>\n",
       "    </tr>\n",
       "    <tr>\n",
       "      <th>4</th>\n",
       "      <td>5</td>\n",
       "      <td>age35~49</td>\n",
       "      <td>freq0</td>\n",
       "      <td>0.0</td>\n",
       "      <td>1.0</td>\n",
       "      <td>0.0</td>\n",
       "    </tr>\n",
       "  </tbody>\n",
       "</table>\n",
       "</div>"
      ],
      "text/plain": [
       "   customer_id   age_cat freq_cat  send_dm1  send_dm2  send_dm3\n",
       "0            1  age20~34    freq2       0.0       1.0       0.0\n",
       "1            2  age35~49    freq0       0.0       1.0       0.0\n",
       "2            3  age35~49    freq0       0.0       1.0       0.0\n",
       "3            4    age~19    freq0       0.0       1.0       0.0\n",
       "4            5  age35~49    freq0       0.0       1.0       0.0"
      ]
     },
     "execution_count": 32,
     "metadata": {},
     "output_type": "execute_result"
    }
   ],
   "source": [
    "cust_send_df = pd.concat([cust_df[['customer_id', 'age_cat', 'freq_cat']], send_dm_df], axis=1)\n",
    "cust_send_df.head()"
   ]
  },
  {
   "cell_type": "code",
   "execution_count": 33,
   "metadata": {},
   "outputs": [
    {
     "data": {
      "image/png": "[encoded data removed]",
      "text/plain": [
       "<Figure size 1440x216 with 6 Axes>"
      ]
     },
     "metadata": {
      "needs_background": "light"
     },
     "output_type": "display_data"
    }
   ],
   "source": [
    "ax = {}\n",
    "fig, (ax[0], ax[1], ax[2]) = plt.subplots(1,3, figsize=(20,3))\n",
    "for i, ptn in enumerate(['send_dm1', 'send_dm2', 'send_dm3']):\n",
    "  cust_send_pivot_df = pd.pivot_table(data=cust_send_df, values=ptn, columns='freq_cat', index='age_cat', aggfunc='mean')\n",
    "  cust_send_pivot_df = cust_send_pivot_df.reindex(['age~19', 'age20~34', 'age35~49', 'age50~'])\n",
    "  sns.heatmap(cust_send_pivot_df, annot=True, fmt='.1%', cmap='Blues', vmin=0, vmax=1, ax=ax[i])\n",
    "  ax[i].set_title(f'{ptn}_rate')\n",
    "plt.show()"
   ]
  },
  {
   "cell_type": "code",
   "execution_count": 34,
   "metadata": {},
   "outputs": [
    {
     "data": {
      "image/png": "[encoded data removed]",
      "text/plain": [
       "<Figure size 1440x216 with 6 Axes>"
      ]
     },
     "metadata": {
      "needs_background": "light"
     },
     "output_type": "display_data"
    }
   ],
   "source": [
    "ax = {}\n",
    "fig, (ax[0], ax[1], ax[2]) = plt.subplots(1,3, figsize=(20,3))\n",
    "for i, ptn in enumerate(['send_dm1', 'send_dm2', 'send_dm3']):\n",
    "  cust_send_pivot_df = pd.pivot_table(data=cust_send_df, values=ptn, columns='freq_cat', index='age_cat', aggfunc='sum')\n",
    "  cust_send_pivot_df = cust_send_pivot_df.reindex(['age~19', 'age20~34', 'age35~49', 'age50~'])\n",
    "  sns.heatmap(cust_send_pivot_df, annot=True, fmt='.1f', cmap='Blues', vmax=800, ax=ax[i])\n",
    "  ax[i].set_title(f'{ptn}_num')\n",
    "plt.show()"
   ]
  },
  {
   "cell_type": "code",
   "execution_count": 35,
   "metadata": {},
   "outputs": [],
   "source": [
    "problem = pulp.LpProblem(name='DiscountCouponProblem2', sense=pulp.LpMaximize)"
   ]
  },
  {
   "cell_type": "code",
   "execution_count": 36,
   "metadata": {},
   "outputs": [
    {
     "data": {
      "text/plain": [
       "48"
      ]
     },
     "execution_count": 36,
     "metadata": {},
     "output_type": "execute_result"
    }
   ],
   "source": [
    "xsm = {}\n",
    "for s in S:\n",
    "  for m in M:\n",
    "    xsm[s,m] = pulp.LpVariable(name=f'xsm({s},{m})', lowBound=0, upBound=1, cat='Continuous')\n",
    "len(xsm)"
   ]
  },
  {
   "cell_type": "code",
   "execution_count": 37,
   "metadata": {},
   "outputs": [],
   "source": [
    "for s in S:\n",
    "  problem += pulp.lpSum(xsm[s,m] for m in M) == 1"
   ]
  },
  {
   "cell_type": "code",
   "execution_count": 38,
   "metadata": {},
   "outputs": [],
   "source": [
    "prob_ver_df = prob_df.rename(columns={'prob_dm1':1, 'prob_dm2':2, 'prob_dm3':3}).melt(id_vars=['segment_id'], value_vars=[1,2,3], var_name='dm', value_name='prob')\n",
    "Psm = prob_ver_df.set_index(['segment_id', 'dm'])['prob'].to_dict()"
   ]
  },
  {
   "cell_type": "code",
   "execution_count": 39,
   "metadata": {},
   "outputs": [],
   "source": [
    "problem += pulp.lpSum(Ns[s]*(Psm[s,m]-Psm[s,1])*xsm[s,m] for s in S for m in [2,3])"
   ]
  },
  {
   "cell_type": "code",
   "execution_count": 40,
   "metadata": {},
   "outputs": [],
   "source": [
    "problem += pulp.lpSum(Cm[m]*Ns[s]*Psm[s,m]*xsm[s,m] for s in S for m in [2,3]) <= 1000000"
   ]
  },
  {
   "cell_type": "code",
   "execution_count": 41,
   "metadata": {},
   "outputs": [],
   "source": [
    "for s in S:\n",
    "  for m in M:\n",
    "    problem += xsm[s,m] >= 0.1"
   ]
  },
  {
   "cell_type": "code",
   "execution_count": 42,
   "metadata": {},
   "outputs": [
    {
     "name": "stdout",
     "output_type": "stream",
     "text": [
      "Welcome to the CBC MILP Solver \n",
      "Version: 2.10.3 \n",
      "Build Date: Dec 15 2019 \n",
      "\n",
      "command line - /Users/sasa./miniforge3/envs/py38/lib/python3.8/site-packages/pulp/apis/../solverdir/cbc/osx/64/cbc /var/folders/f1/dg38sdvs7tsgxf3hbspgk1vc0000gn/T/46e4d2f5e6e142b48e9e44199ed68218-pulp.mps max timeMode elapsed branch printingOptions all solution /var/folders/f1/dg38sdvs7tsgxf3hbspgk1vc0000gn/T/46e4d2f5e6e142b48e9e44199ed68218-pulp.sol (default strategy 1)\n",
      "At line 2 NAME          MODEL\n",
      "At line 3 ROWS\n",
      "At line 70 COLUMNS\n",
      "At line 231 RHS\n",
      "At line 297 BOUNDS\n",
      "At line 346 ENDATA\n",
      "Problem MODEL has 65 rows, 48 columns and 128 elements\n",
      "Coin0008I MODEL read with 0 errors\n",
      "Option for timeMode changed from cpu to elapsed\n",
      "Presolve 17 (-48) rows, 32 (-16) columns and 64 (-64) elements\n",
      "0  Obj 229 Dual inf 981.57657 (32)\n",
      "6  Obj 326.0951\n",
      "Optimal - objective value 326.0951\n",
      "After Postsolve, objective 326.0951, infeasibilities - dual 11.960784 (3), primal 0 (0)\n",
      "Presolved model was optimal, full model needs cleaning up\n",
      "0  Obj 326.0951\n",
      "Optimal - objective value 326.0951\n",
      "Optimal objective 326.095098 - 6 iterations time 0.002, Presolve 0.00\n",
      "Option for printingOptions changed from normal to all\n",
      "Total time (CPU seconds):       0.00   (Wallclock seconds):       0.01\n",
      "\n",
      "ステータス:Optimal\n",
      "目的関数:326.1\n",
      "計算時間:0.0621(秒)\n"
     ]
    }
   ],
   "source": [
    "time_start = time.time()\n",
    "status = problem.solve()\n",
    "time_stop = time.time()\n",
    "\n",
    "print(f'ステータス:{pulp.LpStatus[status]}')\n",
    "print(f'目的関数:{pulp.value(problem.objective):.4}')\n",
    "print(f'計算時間:{(time_stop - time_start):.3}(秒)')"
   ]
  },
  {
   "cell_type": "code",
   "execution_count": 43,
   "metadata": {},
   "outputs": [
    {
     "data": {
      "image/png": "[encoded data removed]",
      "text/plain": [
       "<Figure size 1440x216 with 6 Axes>"
      ]
     },
     "metadata": {
      "needs_background": "light"
     },
     "output_type": "display_data"
    }
   ],
   "source": [
    "send_dm_df = pd.DataFrame([[xsm[s,m].value() for m in M] for s in S], columns=['send_prob_dm1', 'send_prob_dm2', 'send_prob_dm3'])\n",
    "seg_send_df = pd.concat([prob_df[['segment_id', 'age_cat', 'freq_cat']], send_dm_df], axis=1)\n",
    "\n",
    "ax = {}\n",
    "fig, (ax[0], ax[1], ax[2]) = plt.subplots(1,3, figsize=(20,3))\n",
    "for i, ptn in enumerate(['send_prob_dm1', 'send_prob_dm2', 'send_prob_dm3']):\n",
    "  seg_send_pivot_df = pd.pivot_table(data=seg_send_df, values=ptn, columns='freq_cat', index='age_cat', aggfunc='mean')\n",
    "  sns.heatmap(seg_send_pivot_df, annot=True, fmt='.1%', cmap='Blues', vmin=0, vmax=1, ax=ax[i])\n",
    "  ax[i].set_title(f'{ptn}')\n",
    "plt.show()"
   ]
  },
  {
   "cell_type": "code",
   "execution_count": 44,
   "metadata": {},
   "outputs": [
    {
     "data": {
      "text/html": [
       "<div>\n",
       "<style scoped>\n",
       "    .dataframe tbody tr th:only-of-type {\n",
       "        vertical-align: middle;\n",
       "    }\n",
       "\n",
       "    .dataframe tbody tr th {\n",
       "        vertical-align: top;\n",
       "    }\n",
       "\n",
       "    .dataframe thead th {\n",
       "        text-align: right;\n",
       "    }\n",
       "</style>\n",
       "<table border=\"1\" class=\"dataframe\">\n",
       "  <thead>\n",
       "    <tr style=\"text-align: right;\">\n",
       "      <th></th>\n",
       "      <th>segment_id</th>\n",
       "      <th>send_num_dm1</th>\n",
       "      <th>send_num_dm2</th>\n",
       "      <th>send_num_dm3</th>\n",
       "    </tr>\n",
       "  </thead>\n",
       "  <tbody>\n",
       "    <tr>\n",
       "      <th>0</th>\n",
       "      <td>1</td>\n",
       "      <td>20.0</td>\n",
       "      <td>160.0</td>\n",
       "      <td>20.0</td>\n",
       "    </tr>\n",
       "    <tr>\n",
       "      <th>1</th>\n",
       "      <td>2</td>\n",
       "      <td>120.0</td>\n",
       "      <td>15.0</td>\n",
       "      <td>15.0</td>\n",
       "    </tr>\n",
       "    <tr>\n",
       "      <th>2</th>\n",
       "      <td>3</td>\n",
       "      <td>40.0</td>\n",
       "      <td>5.0</td>\n",
       "      <td>5.0</td>\n",
       "    </tr>\n",
       "    <tr>\n",
       "      <th>3</th>\n",
       "      <td>4</td>\n",
       "      <td>80.0</td>\n",
       "      <td>10.0</td>\n",
       "      <td>10.0</td>\n",
       "    </tr>\n",
       "    <tr>\n",
       "      <th>4</th>\n",
       "      <td>5</td>\n",
       "      <td>480.0</td>\n",
       "      <td>60.0</td>\n",
       "      <td>60.0</td>\n",
       "    </tr>\n",
       "  </tbody>\n",
       "</table>\n",
       "</div>"
      ],
      "text/plain": [
       "   segment_id  send_num_dm1  send_num_dm2  send_num_dm3\n",
       "0           1          20.0         160.0          20.0\n",
       "1           2         120.0          15.0          15.0\n",
       "2           3          40.0           5.0           5.0\n",
       "3           4          80.0          10.0          10.0\n",
       "4           5         480.0          60.0          60.0"
      ]
     },
     "execution_count": 44,
     "metadata": {},
     "output_type": "execute_result"
    }
   ],
   "source": [
    "seg_send_df['num_cust'] = seg_send_df['segment_id'].apply(lambda x: Ns[x])\n",
    "seg_send_df['send_num_dm1'] = seg_send_df['send_prob_dm1']*seg_send_df['num_cust']\n",
    "seg_send_df['send_num_dm2'] = seg_send_df['send_prob_dm2']*seg_send_df['num_cust']\n",
    "seg_send_df['send_num_dm3'] = seg_send_df['send_prob_dm3']*seg_send_df['num_cust']\n",
    "seg_send_df[['segment_id', 'send_num_dm1', 'send_num_dm2', 'send_num_dm3']].head()"
   ]
  },
  {
   "cell_type": "code",
   "execution_count": 45,
   "metadata": {},
   "outputs": [
    {
     "data": {
      "image/png": "[encoded data removed]",
      "text/plain": [
       "<Figure size 1440x216 with 6 Axes>"
      ]
     },
     "metadata": {
      "needs_background": "light"
     },
     "output_type": "display_data"
    }
   ],
   "source": [
    "ax = {}\n",
    "fig, (ax[0], ax[1], ax[2]) = plt.subplots(1,3, figsize=(20,3))\n",
    "for i, ptn in enumerate(['send_num_dm1', 'send_num_dm2', 'send_num_dm3']):\n",
    "  seg_send_pivot_df = pd.pivot_table(data=seg_send_df, values=ptn, columns='freq_cat', index='age_cat')\n",
    "  seg_send_pivot_df = seg_send_pivot_df.reindex(['age~19', 'age20~34', 'age35~49', 'age50~'])\n",
    "  sns.heatmap(seg_send_pivot_df, annot=True, fmt='.1f', cmap='Blues', vmin=0, vmax=800, ax=ax[i])\n",
    "  ax[i].set_title(f'{ptn}')\n",
    "plt.show()"
   ]
  },
  {
   "cell_type": "code",
   "execution_count": 46,
   "metadata": {},
   "outputs": [],
   "source": [
    "problem = pulp.LpProblem(name='DiscountCouponProblem3', sense=pulp.LpMaximize)"
   ]
  },
  {
   "cell_type": "code",
   "execution_count": 47,
   "metadata": {},
   "outputs": [],
   "source": [
    "xsm = {}\n",
    "for s in S:\n",
    "  for m in M:\n",
    "    xsm[s,m] = pulp.LpVariable(name=f'xsm({s},{m})', lowBound=0, upBound=1, cat='Continuous')\n",
    "\n",
    "y = pulp.LpVariable(name='y', lowBound=0, upBound=1, cat='Continuous')"
   ]
  },
  {
   "cell_type": "code",
   "execution_count": 48,
   "metadata": {},
   "outputs": [],
   "source": [
    "problem += y"
   ]
  },
  {
   "cell_type": "code",
   "execution_count": 49,
   "metadata": {},
   "outputs": [],
   "source": [
    "for s in S:\n",
    "  for m in M:\n",
    "    problem += xsm[s,m] >= y"
   ]
  },
  {
   "cell_type": "code",
   "execution_count": 50,
   "metadata": {},
   "outputs": [],
   "source": [
    "for s in S:\n",
    "  problem += pulp.pulp.lpSum(xsm[s,m] for m in M) == 1\n",
    "\n",
    "problem += pulp.lpSum(Cm[m]*Ns[s]*Psm[s,m]*xsm[s,m] for s in S for m in [2,3]) <= 1000000"
   ]
  },
  {
   "cell_type": "code",
   "execution_count": 51,
   "metadata": {},
   "outputs": [
    {
     "name": "stdout",
     "output_type": "stream",
     "text": [
      "Welcome to the CBC MILP Solver \n",
      "Version: 2.10.3 \n",
      "Build Date: Dec 15 2019 \n",
      "\n",
      "command line - /Users/sasa./miniforge3/envs/py38/lib/python3.8/site-packages/pulp/apis/../solverdir/cbc/osx/64/cbc /var/folders/f1/dg38sdvs7tsgxf3hbspgk1vc0000gn/T/f6d7129d567243b8b09364a76e2bb828-pulp.mps max timeMode elapsed branch printingOptions all solution /var/folders/f1/dg38sdvs7tsgxf3hbspgk1vc0000gn/T/f6d7129d567243b8b09364a76e2bb828-pulp.sol (default strategy 1)\n",
      "At line 2 NAME          MODEL\n",
      "At line 3 ROWS\n",
      "At line 70 COLUMNS\n",
      "At line 248 RHS\n",
      "At line 314 BOUNDS\n",
      "At line 364 ENDATA\n",
      "Problem MODEL has 65 rows, 49 columns and 176 elements\n",
      "Coin0008I MODEL read with 0 errors\n",
      "Option for timeMode changed from cpu to elapsed\n",
      "Presolve 49 (-16) rows, 33 (-16) columns and 144 (-32) elements\n",
      "Perturbing problem by 0.001% of 0.62819912 - largest nonzero change 0.00094529304 ( 0.15047666%) - largest zero change 9.6171668e-05\n",
      "0  Obj -0 Dual inf 0.62725282 (1)\n",
      "31  Obj 0.13116342 Primal inf 0.17027776 (2)\n",
      "33  Obj 0.13040049\n",
      "Optimal - objective value 0.13125943\n",
      "After Postsolve, objective 0.13125943, infeasibilities - dual 0 (0), primal 0 (0)\n",
      "Optimal objective 0.1312594343 - 33 iterations time 0.002, Presolve 0.00\n",
      "Option for printingOptions changed from normal to all\n",
      "Total time (CPU seconds):       0.00   (Wallclock seconds):       0.02\n",
      "\n",
      "ステータス :Optimal, 目的関数値:0.131\n"
     ]
    }
   ],
   "source": [
    "status = problem.solve()\n",
    "max_lowerbound = pulp.value(problem.objective)\n",
    "print(f'ステータス :{pulp.LpStatus[status]}, 目的関数値:{max_lowerbound:.3}')"
   ]
  },
  {
   "cell_type": "code",
   "execution_count": 56,
   "metadata": {},
   "outputs": [
    {
     "data": {
      "image/png": "[encoded data removed]",
      "text/plain": [
       "<Figure size 1440x216 with 6 Axes>"
      ]
     },
     "metadata": {
      "needs_background": "light"
     },
     "output_type": "display_data"
    }
   ],
   "source": [
    "send_dm_df = pd.DataFrame([[xsm[s,m].value() for m in M] for s in S], columns=['send_prob_dm1', 'send_prob_dm2', 'send_prob_dm3'])\n",
    "seg_send_df = pd.concat([prob_df[['segment_id', 'age_cat', 'freq_cat']], send_dm_df], axis=1)\n",
    "\n",
    "ax = {}\n",
    "fig, (ax[0], ax[1], ax[2]) = plt.subplots(1,3, figsize=(20,3))\n",
    "for i, ptn in enumerate(['send_prob_dm1', 'send_prob_dm2', 'send_prob_dm3']):\n",
    "  seg_send_pivot_df = pd.pivot_table(data=seg_send_df, values=ptn, columns='freq_cat', index='age_cat', aggfunc='mean')\n",
    "  seg_send_pivot_df = seg_send_pivot_df.reindex(['age~19', 'age20~34', 'age35~49', 'age50~'])\n",
    "  sns.heatmap(seg_send_pivot_df, annot=True, fmt='.1%', cmap='Blues', vmin=0, vmax=1, ax=ax[i])\n",
    "  ax[i].set_title(f'{ptn}')\n",
    "plt.show()"
   ]
  },
  {
   "cell_type": "code",
   "execution_count": 58,
   "metadata": {},
   "outputs": [
    {
     "name": "stdout",
     "output_type": "stream",
     "text": [
      "Welcome to the CBC MILP Solver \n",
      "Version: 2.10.3 \n",
      "Build Date: Dec 15 2019 \n",
      "\n",
      "command line - /Users/sasa./miniforge3/envs/py38/lib/python3.8/site-packages/pulp/apis/../solverdir/cbc/osx/64/cbc /var/folders/f1/dg38sdvs7tsgxf3hbspgk1vc0000gn/T/2e4e66829463439ea4af1184104cea97-pulp.mps max timeMode elapsed branch printingOptions all solution /var/folders/f1/dg38sdvs7tsgxf3hbspgk1vc0000gn/T/2e4e66829463439ea4af1184104cea97-pulp.sol (default strategy 1)\n",
      "At line 2 NAME          MODEL\n",
      "At line 3 ROWS\n",
      "At line 70 COLUMNS\n",
      "At line 231 RHS\n",
      "At line 297 BOUNDS\n",
      "At line 346 ENDATA\n",
      "Problem MODEL has 65 rows, 48 columns and 128 elements\n",
      "Coin0008I MODEL read with 0 errors\n",
      "Option for timeMode changed from cpu to elapsed\n",
      "Presolve 17 (-48) rows, 32 (-16) columns and 64 (-64) elements\n",
      "0  Obj 300.58409 Dual inf 981.57657 (32)\n",
      "1  Obj 300.58411\n",
      "Optimal - objective value 300.58411\n",
      "After Postsolve, objective 300.58411, infeasibilities - dual 0 (0), primal 0 (0)\n",
      "Optimal objective 300.5841097 - 1 iterations time 0.002, Presolve 0.00\n",
      "Option for printingOptions changed from normal to all\n",
      "Total time (CPU seconds):       0.00   (Wallclock seconds):       0.01\n",
      "\n",
      "ステータス:Optimal, 目的関数値:300.6\n"
     ]
    }
   ],
   "source": [
    "problem = pulp.LpProblem(name='DiscountCouponProblem3', sense=pulp.LpMaximize)\n",
    "\n",
    "x = {}\n",
    "for s in S:\n",
    "  for m in M:\n",
    "    xsm[s,m] = pulp.LpVariable(name=f'xsm({s},{m})', lowBound=0, upBound=1, cat='Continuous')\n",
    "\n",
    "for s in S:\n",
    "  problem += pulp.lpSum(xsm[s,m] for m in M) == 1\n",
    "\n",
    "problem += pulp.lpSum(Ns[s]*(Psm[s,m] - Psm[s,1])*xsm[s,m] for s in S for m in [2,3])\n",
    "\n",
    "problem += pulp.lpSum(Cm[m]*Ns[s]*Psm[s,m]*xsm[s,m] for s in S for m in [2,3]) <= 1000000\n",
    "\n",
    "for s in S:\n",
    "  for m in M:\n",
    "    problem += xsm[s,m] >= max_lowerbound\n",
    "\n",
    "status = problem.solve()\n",
    "print(f'ステータス:{pulp.LpStatus[status]}, 目的関数値:{pulp.value(problem.objective):.4}')"
   ]
  },
  {
   "cell_type": "code",
   "execution_count": 59,
   "metadata": {},
   "outputs": [],
   "source": [
    "cost_list = []\n",
    "cpa_list = []\n",
    "inc_action_list = []"
   ]
  },
  {
   "cell_type": "code",
   "execution_count": 64,
   "metadata": {},
   "outputs": [
    {
     "name": "stdout",
     "output_type": "stream",
     "text": [
      "ステータス,キャンペーン費用,来客増加数,CPA\n",
      "Welcome to the CBC MILP Solver \n",
      "Version: 2.10.3 \n",
      "Build Date: Dec 15 2019 \n",
      "\n",
      "command line - /Users/sasa./miniforge3/envs/py38/lib/python3.8/site-packages/pulp/apis/../solverdir/cbc/osx/64/cbc /var/folders/f1/dg38sdvs7tsgxf3hbspgk1vc0000gn/T/ef948d4391984bf5933be3ed4d0c216a-pulp.mps max timeMode elapsed branch printingOptions all solution /var/folders/f1/dg38sdvs7tsgxf3hbspgk1vc0000gn/T/ef948d4391984bf5933be3ed4d0c216a-pulp.sol (default strategy 1)\n",
      "At line 2 NAME          MODEL\n",
      "At line 3 ROWS\n",
      "At line 70 COLUMNS\n",
      "At line 231 RHS\n",
      "At line 297 BOUNDS\n",
      "At line 346 ENDATA\n",
      "Problem MODEL has 65 rows, 48 columns and 128 elements\n",
      "Coin0008I MODEL read with 0 errors\n",
      "Option for timeMode changed from cpu to elapsed\n",
      "Presolve 0 (-65) rows, 0 (-48) columns and 0 (-128) elements\n",
      "Empty problem - 0 rows, 0 columns and 0 elements\n",
      "Optimal - objective value 229\n",
      "After Postsolve, objective 229, infeasibilities - dual 0 (0), primal 0 (0)\n",
      "Optimal objective 229 - 0 iterations time 0.002, Presolve 0.00\n",
      "Option for printingOptions changed from normal to all\n",
      "Total time (CPU seconds):       0.00   (Wallclock seconds):       0.00\n",
      "\n",
      "Optimal, 761850, 229.0, 3326.9\n",
      "Welcome to the CBC MILP Solver \n",
      "Version: 2.10.3 \n",
      "Build Date: Dec 15 2019 \n",
      "\n",
      "command line - /Users/sasa./miniforge3/envs/py38/lib/python3.8/site-packages/pulp/apis/../solverdir/cbc/osx/64/cbc /var/folders/f1/dg38sdvs7tsgxf3hbspgk1vc0000gn/T/29718beb1deb42c0b18418c5c85af911-pulp.mps max timeMode elapsed branch printingOptions all solution /var/folders/f1/dg38sdvs7tsgxf3hbspgk1vc0000gn/T/29718beb1deb42c0b18418c5c85af911-pulp.sol (default strategy 1)\n",
      "At line 2 NAME          MODEL\n",
      "At line 3 ROWS\n",
      "At line 70 COLUMNS\n",
      "At line 231 RHS\n",
      "At line 297 BOUNDS\n",
      "At line 346 ENDATA\n",
      "Problem MODEL has 65 rows, 48 columns and 128 elements\n",
      "Coin0008I MODEL read with 0 errors\n",
      "Option for timeMode changed from cpu to elapsed\n",
      "Presolve 17 (-48) rows, 32 (-16) columns and 64 (-64) elements\n",
      "0  Obj 229 Dual inf 981.57657 (32)\n",
      "2  Obj 273.05714\n",
      "Optimal - objective value 273.05714\n",
      "After Postsolve, objective 273.05714, infeasibilities - dual 1.7142856 (1), primal 0 (0)\n",
      "Presolved model was optimal, full model needs cleaning up\n",
      "0  Obj 273.05714\n",
      "Optimal - objective value 273.05714\n",
      "Optimal objective 273.0571429 - 2 iterations time 0.002, Presolve 0.00\n",
      "Option for printingOptions changed from normal to all\n",
      "Total time (CPU seconds):       0.00   (Wallclock seconds):       0.00\n",
      "\n",
      "Optimal, 861850, 273.1, 3156.3\n",
      "Welcome to the CBC MILP Solver \n",
      "Version: 2.10.3 \n",
      "Build Date: Dec 15 2019 \n",
      "\n",
      "command line - /Users/sasa./miniforge3/envs/py38/lib/python3.8/site-packages/pulp/apis/../solverdir/cbc/osx/64/cbc /var/folders/f1/dg38sdvs7tsgxf3hbspgk1vc0000gn/T/ed69d1d17e534c05ad71752d06d4b3d9-pulp.mps max timeMode elapsed branch printingOptions all solution /var/folders/f1/dg38sdvs7tsgxf3hbspgk1vc0000gn/T/ed69d1d17e534c05ad71752d06d4b3d9-pulp.sol (default strategy 1)\n",
      "At line 2 NAME          MODEL\n",
      "At line 3 ROWS\n",
      "At line 70 COLUMNS\n",
      "At line 231 RHS\n",
      "At line 297 BOUNDS\n",
      "At line 346 ENDATA\n",
      "Problem MODEL has 65 rows, 48 columns and 128 elements\n",
      "Coin0008I MODEL read with 0 errors\n",
      "Option for timeMode changed from cpu to elapsed\n",
      "Presolve 17 (-48) rows, 32 (-16) columns and 64 (-64) elements\n",
      "0  Obj 229 Dual inf 981.57657 (32)\n",
      "6  Obj 311.88235\n",
      "Optimal - objective value 311.88235\n",
      "After Postsolve, objective 311.88235, infeasibilities - dual 11.960784 (3), primal 0 (0)\n",
      "Presolved model was optimal, full model needs cleaning up\n",
      "0  Obj 311.88235\n",
      "Optimal - objective value 311.88235\n",
      "Optimal objective 311.8823529 - 6 iterations time 0.002, Presolve 0.00\n",
      "Option for printingOptions changed from normal to all\n",
      "Total time (CPU seconds):       0.00   (Wallclock seconds):       0.00\n",
      "\n",
      "Optimal, 961850, 311.9, 3084.0\n",
      "Welcome to the CBC MILP Solver \n",
      "Version: 2.10.3 \n",
      "Build Date: Dec 15 2019 \n",
      "\n",
      "command line - /Users/sasa./miniforge3/envs/py38/lib/python3.8/site-packages/pulp/apis/../solverdir/cbc/osx/64/cbc /var/folders/f1/dg38sdvs7tsgxf3hbspgk1vc0000gn/T/5d9554adad954b24af48eab8c224f51f-pulp.mps max timeMode elapsed branch printingOptions all solution /var/folders/f1/dg38sdvs7tsgxf3hbspgk1vc0000gn/T/5d9554adad954b24af48eab8c224f51f-pulp.sol (default strategy 1)\n",
      "At line 2 NAME          MODEL\n",
      "At line 3 ROWS\n",
      "At line 70 COLUMNS\n",
      "At line 231 RHS\n",
      "At line 297 BOUNDS\n",
      "At line 346 ENDATA\n",
      "Problem MODEL has 65 rows, 48 columns and 128 elements\n",
      "Coin0008I MODEL read with 0 errors\n",
      "Option for timeMode changed from cpu to elapsed\n",
      "Presolve 17 (-48) rows, 32 (-16) columns and 64 (-64) elements\n",
      "0  Obj 229 Dual inf 981.57657 (32)\n",
      "5  Obj 349.06087\n",
      "Optimal - objective value 349.06087\n",
      "After Postsolve, objective 349.06087, infeasibilities - dual 13.130434 (3), primal 0 (0)\n",
      "Presolved model was optimal, full model needs cleaning up\n",
      "0  Obj 349.06087\n",
      "Optimal - objective value 349.06087\n",
      "Optimal objective 349.0608696 - 5 iterations time 0.002, Presolve 0.00\n",
      "Option for printingOptions changed from normal to all\n",
      "Total time (CPU seconds):       0.00   (Wallclock seconds):       0.00\n",
      "\n",
      "Optimal, 1061850, 349.1, 3042.0\n",
      "Welcome to the CBC MILP Solver \n",
      "Version: 2.10.3 \n",
      "Build Date: Dec 15 2019 \n",
      "\n",
      "command line - /Users/sasa./miniforge3/envs/py38/lib/python3.8/site-packages/pulp/apis/../solverdir/cbc/osx/64/cbc /var/folders/f1/dg38sdvs7tsgxf3hbspgk1vc0000gn/T/4392c79597464cc99f23c4efe0caefac-pulp.mps max timeMode elapsed branch printingOptions all solution /var/folders/f1/dg38sdvs7tsgxf3hbspgk1vc0000gn/T/4392c79597464cc99f23c4efe0caefac-pulp.sol (default strategy 1)\n",
      "At line 2 NAME          MODEL\n",
      "At line 3 ROWS\n",
      "At line 70 COLUMNS\n",
      "At line 231 RHS\n",
      "At line 297 BOUNDS\n",
      "At line 346 ENDATA\n",
      "Problem MODEL has 65 rows, 48 columns and 128 elements\n",
      "Coin0008I MODEL read with 0 errors\n",
      "Option for timeMode changed from cpu to elapsed\n",
      "Presolve 17 (-48) rows, 32 (-16) columns and 64 (-64) elements\n",
      "0  Obj 229 Dual inf 981.57657 (32)\n",
      "7  Obj 385.76154\n",
      "Optimal - objective value 385.76154\n",
      "After Postsolve, objective 385.76154, infeasibilities - dual 15.153846 (3), primal 0 (0)\n",
      "Presolved model was optimal, full model needs cleaning up\n",
      "0  Obj 385.76154\n",
      "Optimal - objective value 385.76154\n",
      "Optimal objective 385.7615385 - 7 iterations time 0.002, Presolve 0.00\n",
      "Option for printingOptions changed from normal to all\n",
      "Total time (CPU seconds):       0.00   (Wallclock seconds):       0.00\n",
      "\n",
      "Optimal, 1161850, 385.8, 3011.8\n",
      "Welcome to the CBC MILP Solver \n",
      "Version: 2.10.3 \n",
      "Build Date: Dec 15 2019 \n",
      "\n",
      "command line - /Users/sasa./miniforge3/envs/py38/lib/python3.8/site-packages/pulp/apis/../solverdir/cbc/osx/64/cbc /var/folders/f1/dg38sdvs7tsgxf3hbspgk1vc0000gn/T/ba355a16aff9436aa9aa0caf0747474e-pulp.mps max timeMode elapsed branch printingOptions all solution /var/folders/f1/dg38sdvs7tsgxf3hbspgk1vc0000gn/T/ba355a16aff9436aa9aa0caf0747474e-pulp.sol (default strategy 1)\n",
      "At line 2 NAME          MODEL\n",
      "At line 3 ROWS\n",
      "At line 70 COLUMNS\n",
      "At line 231 RHS\n",
      "At line 297 BOUNDS\n",
      "At line 346 ENDATA\n",
      "Problem MODEL has 65 rows, 48 columns and 128 elements\n",
      "Coin0008I MODEL read with 0 errors\n",
      "Option for timeMode changed from cpu to elapsed\n",
      "Presolve 17 (-48) rows, 32 (-16) columns and 64 (-64) elements\n",
      "0  Obj 229 Dual inf 981.57657 (32)\n",
      "5  Obj 422.3\n",
      "Optimal - objective value 422.3\n",
      "After Postsolve, objective 422.3, infeasibilities - dual 15.153846 (3), primal 0 (0)\n",
      "Presolved model was optimal, full model needs cleaning up\n",
      "0  Obj 422.3\n",
      "Optimal - objective value 422.3\n",
      "Optimal objective 422.3 - 5 iterations time 0.002, Presolve 0.00\n",
      "Option for printingOptions changed from normal to all\n",
      "Total time (CPU seconds):       0.00   (Wallclock seconds):       0.00\n",
      "\n",
      "Optimal, 1261850, 422.3, 2988.0\n",
      "Welcome to the CBC MILP Solver \n",
      "Version: 2.10.3 \n",
      "Build Date: Dec 15 2019 \n",
      "\n",
      "command line - /Users/sasa./miniforge3/envs/py38/lib/python3.8/site-packages/pulp/apis/../solverdir/cbc/osx/64/cbc /var/folders/f1/dg38sdvs7tsgxf3hbspgk1vc0000gn/T/11e377c533d14d749cb331efde590315-pulp.mps max timeMode elapsed branch printingOptions all solution /var/folders/f1/dg38sdvs7tsgxf3hbspgk1vc0000gn/T/11e377c533d14d749cb331efde590315-pulp.sol (default strategy 1)\n",
      "At line 2 NAME          MODEL\n",
      "At line 3 ROWS\n",
      "At line 70 COLUMNS\n",
      "At line 231 RHS\n",
      "At line 297 BOUNDS\n",
      "At line 346 ENDATA\n",
      "Problem MODEL has 65 rows, 48 columns and 128 elements\n",
      "Coin0008I MODEL read with 0 errors\n",
      "Option for timeMode changed from cpu to elapsed\n",
      "Presolve 17 (-48) rows, 32 (-16) columns and 64 (-64) elements\n",
      "0  Obj 229 Dual inf 981.57657 (32)\n",
      "5  Obj 458.83846\n",
      "Optimal - objective value 458.83846\n",
      "After Postsolve, objective 458.83846, infeasibilities - dual 15.153846 (3), primal 0 (0)\n",
      "Presolved model was optimal, full model needs cleaning up\n",
      "0  Obj 458.83846\n",
      "Optimal - objective value 458.83846\n",
      "Optimal objective 458.8384615 - 5 iterations time 0.002, Presolve 0.00\n",
      "Option for printingOptions changed from normal to all\n",
      "Total time (CPU seconds):       0.00   (Wallclock seconds):       0.00\n",
      "\n",
      "Optimal, 1361850, 458.8, 2968.0\n",
      "Welcome to the CBC MILP Solver \n",
      "Version: 2.10.3 \n",
      "Build Date: Dec 15 2019 \n",
      "\n",
      "command line - /Users/sasa./miniforge3/envs/py38/lib/python3.8/site-packages/pulp/apis/../solverdir/cbc/osx/64/cbc /var/folders/f1/dg38sdvs7tsgxf3hbspgk1vc0000gn/T/b662085977734663b69afc3b9d7e8e41-pulp.mps max timeMode elapsed branch printingOptions all solution /var/folders/f1/dg38sdvs7tsgxf3hbspgk1vc0000gn/T/b662085977734663b69afc3b9d7e8e41-pulp.sol (default strategy 1)\n",
      "At line 2 NAME          MODEL\n",
      "At line 3 ROWS\n",
      "At line 70 COLUMNS\n",
      "At line 231 RHS\n",
      "At line 297 BOUNDS\n",
      "At line 346 ENDATA\n",
      "Problem MODEL has 65 rows, 48 columns and 128 elements\n",
      "Coin0008I MODEL read with 0 errors\n",
      "Option for timeMode changed from cpu to elapsed\n",
      "Presolve 17 (-48) rows, 32 (-16) columns and 64 (-64) elements\n",
      "0  Obj 229 Dual inf 981.57657 (32)\n",
      "6  Obj 495.24706\n",
      "Optimal - objective value 495.24706\n",
      "After Postsolve, objective 495.24706, infeasibilities - dual 27.411764 (4), primal 0 (0)\n",
      "Presolved model was optimal, full model needs cleaning up\n",
      "0  Obj 495.24706\n",
      "Optimal - objective value 495.24706\n",
      "Optimal objective 495.2470588 - 6 iterations time 0.002, Presolve 0.00\n",
      "Option for printingOptions changed from normal to all\n",
      "Total time (CPU seconds):       0.00   (Wallclock seconds):       0.00\n",
      "\n",
      "Optimal, 1461850, 495.2, 2951.8\n",
      "Welcome to the CBC MILP Solver \n",
      "Version: 2.10.3 \n",
      "Build Date: Dec 15 2019 \n",
      "\n",
      "command line - /Users/sasa./miniforge3/envs/py38/lib/python3.8/site-packages/pulp/apis/../solverdir/cbc/osx/64/cbc /var/folders/f1/dg38sdvs7tsgxf3hbspgk1vc0000gn/T/b7f67faa925242d2b1c1ff8d1080c524-pulp.mps max timeMode elapsed branch printingOptions all solution /var/folders/f1/dg38sdvs7tsgxf3hbspgk1vc0000gn/T/b7f67faa925242d2b1c1ff8d1080c524-pulp.sol (default strategy 1)\n",
      "At line 2 NAME          MODEL\n",
      "At line 3 ROWS\n",
      "At line 70 COLUMNS\n",
      "At line 231 RHS\n",
      "At line 297 BOUNDS\n",
      "At line 346 ENDATA\n",
      "Problem MODEL has 65 rows, 48 columns and 128 elements\n",
      "Coin0008I MODEL read with 0 errors\n",
      "Option for timeMode changed from cpu to elapsed\n",
      "Presolve 17 (-48) rows, 32 (-16) columns and 64 (-64) elements\n",
      "0  Obj 229 Dual inf 981.57657 (32)\n",
      "6  Obj 530.4807\n",
      "Optimal - objective value 530.4807\n",
      "After Postsolve, objective 530.4807, infeasibilities - dual 29.68421 (5), primal 0 (0)\n",
      "Presolved model was optimal, full model needs cleaning up\n",
      "0  Obj 530.4807\n",
      "Optimal - objective value 530.4807\n",
      "Optimal objective 530.4807018 - 6 iterations time 0.002, Presolve 0.00\n",
      "Option for printingOptions changed from normal to all\n",
      "Total time (CPU seconds):       0.00   (Wallclock seconds):       0.00\n",
      "\n",
      "Optimal, 1561850, 530.5, 2944.2\n",
      "Welcome to the CBC MILP Solver \n",
      "Version: 2.10.3 \n",
      "Build Date: Dec 15 2019 \n",
      "\n",
      "command line - /Users/sasa./miniforge3/envs/py38/lib/python3.8/site-packages/pulp/apis/../solverdir/cbc/osx/64/cbc /var/folders/f1/dg38sdvs7tsgxf3hbspgk1vc0000gn/T/7bb77051600a44e9b2b5355946a9c51a-pulp.mps max timeMode elapsed branch printingOptions all solution /var/folders/f1/dg38sdvs7tsgxf3hbspgk1vc0000gn/T/7bb77051600a44e9b2b5355946a9c51a-pulp.sol (default strategy 1)\n",
      "At line 2 NAME          MODEL\n",
      "At line 3 ROWS\n",
      "At line 70 COLUMNS\n",
      "At line 231 RHS\n",
      "At line 297 BOUNDS\n",
      "At line 346 ENDATA\n",
      "Problem MODEL has 65 rows, 48 columns and 128 elements\n",
      "Coin0008I MODEL read with 0 errors\n",
      "Option for timeMode changed from cpu to elapsed\n",
      "Presolve 17 (-48) rows, 32 (-16) columns and 64 (-64) elements\n",
      "0  Obj 229 Dual inf 981.57657 (32)\n",
      "6  Obj 565.56842\n",
      "Optimal - objective value 565.56842\n",
      "After Postsolve, objective 565.56842, infeasibilities - dual 29.68421 (5), primal 0 (0)\n",
      "Presolved model was optimal, full model needs cleaning up\n",
      "0  Obj 565.56842\n",
      "Optimal - objective value 565.56842\n",
      "Optimal objective 565.5684211 - 6 iterations time 0.002, Presolve 0.00\n",
      "Option for printingOptions changed from normal to all\n",
      "Total time (CPU seconds):       0.00   (Wallclock seconds):       0.00\n",
      "\n",
      "Optimal, 1661850, 565.6, 2938.4\n",
      "Welcome to the CBC MILP Solver \n",
      "Version: 2.10.3 \n",
      "Build Date: Dec 15 2019 \n",
      "\n",
      "command line - /Users/sasa./miniforge3/envs/py38/lib/python3.8/site-packages/pulp/apis/../solverdir/cbc/osx/64/cbc /var/folders/f1/dg38sdvs7tsgxf3hbspgk1vc0000gn/T/cca54fe25d8a431990273640d298def1-pulp.mps max timeMode elapsed branch printingOptions all solution /var/folders/f1/dg38sdvs7tsgxf3hbspgk1vc0000gn/T/cca54fe25d8a431990273640d298def1-pulp.sol (default strategy 1)\n",
      "At line 2 NAME          MODEL\n",
      "At line 3 ROWS\n",
      "At line 70 COLUMNS\n",
      "At line 231 RHS\n",
      "At line 297 BOUNDS\n",
      "At line 346 ENDATA\n",
      "Problem MODEL has 65 rows, 48 columns and 128 elements\n",
      "Coin0008I MODEL read with 0 errors\n",
      "Option for timeMode changed from cpu to elapsed\n",
      "Presolve 17 (-48) rows, 32 (-16) columns and 64 (-64) elements\n",
      "0  Obj 229 Dual inf 981.57657 (32)\n",
      "6  Obj 600.65614\n",
      "Optimal - objective value 600.65614\n",
      "After Postsolve, objective 600.65614, infeasibilities - dual 29.68421 (5), primal 0 (0)\n",
      "Presolved model was optimal, full model needs cleaning up\n",
      "0  Obj 600.65614\n",
      "Optimal - objective value 600.65614\n",
      "Optimal objective 600.6561404 - 6 iterations time 0.002, Presolve 0.00\n",
      "Option for printingOptions changed from normal to all\n",
      "Total time (CPU seconds):       0.00   (Wallclock seconds):       0.00\n",
      "\n",
      "Optimal, 1761850, 600.7, 2933.2\n",
      "Welcome to the CBC MILP Solver \n",
      "Version: 2.10.3 \n",
      "Build Date: Dec 15 2019 \n",
      "\n",
      "command line - /Users/sasa./miniforge3/envs/py38/lib/python3.8/site-packages/pulp/apis/../solverdir/cbc/osx/64/cbc /var/folders/f1/dg38sdvs7tsgxf3hbspgk1vc0000gn/T/2a3a1d06e0254f2786f22fd162be55bc-pulp.mps max timeMode elapsed branch printingOptions all solution /var/folders/f1/dg38sdvs7tsgxf3hbspgk1vc0000gn/T/2a3a1d06e0254f2786f22fd162be55bc-pulp.sol (default strategy 1)\n",
      "At line 2 NAME          MODEL\n",
      "At line 3 ROWS\n",
      "At line 70 COLUMNS\n",
      "At line 231 RHS\n",
      "At line 297 BOUNDS\n",
      "At line 346 ENDATA\n",
      "Problem MODEL has 65 rows, 48 columns and 128 elements\n",
      "Coin0008I MODEL read with 0 errors\n",
      "Option for timeMode changed from cpu to elapsed\n",
      "Presolve 17 (-48) rows, 32 (-16) columns and 64 (-64) elements\n",
      "0  Obj 229 Dual inf 981.57657 (32)\n",
      "7  Obj 634.16667\n",
      "Optimal - objective value 634.16667\n",
      "After Postsolve, objective 634.16667, infeasibilities - dual 55 (5), primal 0 (0)\n",
      "Presolved model was optimal, full model needs cleaning up\n",
      "0  Obj 634.16667\n",
      "Optimal - objective value 634.16667\n",
      "Optimal objective 634.1666667 - 7 iterations time 0.002, Presolve 0.00\n",
      "Option for printingOptions changed from normal to all\n",
      "Total time (CPU seconds):       0.00   (Wallclock seconds):       0.00\n",
      "\n",
      "Optimal, 1861850, 634.2, 2935.9\n",
      "Welcome to the CBC MILP Solver \n",
      "Version: 2.10.3 \n",
      "Build Date: Dec 15 2019 \n",
      "\n",
      "command line - /Users/sasa./miniforge3/envs/py38/lib/python3.8/site-packages/pulp/apis/../solverdir/cbc/osx/64/cbc /var/folders/f1/dg38sdvs7tsgxf3hbspgk1vc0000gn/T/8207bb47cff842c39f3a833322bf46c1-pulp.mps max timeMode elapsed branch printingOptions all solution /var/folders/f1/dg38sdvs7tsgxf3hbspgk1vc0000gn/T/8207bb47cff842c39f3a833322bf46c1-pulp.sol (default strategy 1)\n",
      "At line 2 NAME          MODEL\n",
      "At line 3 ROWS\n",
      "At line 70 COLUMNS\n",
      "At line 231 RHS\n",
      "At line 297 BOUNDS\n",
      "At line 346 ENDATA\n",
      "Problem MODEL has 65 rows, 48 columns and 128 elements\n",
      "Coin0008I MODEL read with 0 errors\n",
      "Option for timeMode changed from cpu to elapsed\n",
      "Presolve 17 (-48) rows, 32 (-16) columns and 64 (-64) elements\n",
      "0  Obj 229 Dual inf 981.57657 (32)\n",
      "7  Obj 667.25155\n",
      "Optimal - objective value 667.25155\n",
      "After Postsolve, objective 667.25155, infeasibilities - dual 60.536082 (6), primal 0 (0)\n",
      "Presolved model was optimal, full model needs cleaning up\n",
      "0  Obj 667.25155\n",
      "Optimal - objective value 667.25155\n",
      "Optimal objective 667.2515464 - 7 iterations time 0.002, Presolve 0.00\n",
      "Option for printingOptions changed from normal to all\n",
      "Total time (CPU seconds):       0.00   (Wallclock seconds):       0.01\n",
      "\n",
      "Optimal, 1961850, 667.3, 2940.2\n",
      "Welcome to the CBC MILP Solver \n",
      "Version: 2.10.3 \n",
      "Build Date: Dec 15 2019 \n",
      "\n",
      "command line - /Users/sasa./miniforge3/envs/py38/lib/python3.8/site-packages/pulp/apis/../solverdir/cbc/osx/64/cbc /var/folders/f1/dg38sdvs7tsgxf3hbspgk1vc0000gn/T/ed1368cb41044279a1491056b93065c3-pulp.mps max timeMode elapsed branch printingOptions all solution /var/folders/f1/dg38sdvs7tsgxf3hbspgk1vc0000gn/T/ed1368cb41044279a1491056b93065c3-pulp.sol (default strategy 1)\n",
      "At line 2 NAME          MODEL\n",
      "At line 3 ROWS\n",
      "At line 70 COLUMNS\n",
      "At line 231 RHS\n",
      "At line 297 BOUNDS\n",
      "At line 346 ENDATA\n",
      "Problem MODEL has 65 rows, 48 columns and 128 elements\n",
      "Coin0008I MODEL read with 0 errors\n",
      "Option for timeMode changed from cpu to elapsed\n",
      "Presolve 17 (-48) rows, 32 (-16) columns and 64 (-64) elements\n",
      "0  Obj 229 Dual inf 981.57657 (32)\n",
      "7  Obj 700.24124\n",
      "Optimal - objective value 700.24124\n",
      "After Postsolve, objective 700.24124, infeasibilities - dual 60.536082 (6), primal 0 (0)\n",
      "Presolved model was optimal, full model needs cleaning up\n",
      "0  Obj 700.24124\n",
      "Optimal - objective value 700.24124\n",
      "Optimal objective 700.2412371 - 7 iterations time 0.002, Presolve 0.00\n",
      "Option for printingOptions changed from normal to all\n",
      "Total time (CPU seconds):       0.00   (Wallclock seconds):       0.00\n",
      "\n",
      "Optimal, 2061850, 700.2, 2944.5\n",
      "Welcome to the CBC MILP Solver \n",
      "Version: 2.10.3 \n",
      "Build Date: Dec 15 2019 \n",
      "\n",
      "command line - /Users/sasa./miniforge3/envs/py38/lib/python3.8/site-packages/pulp/apis/../solverdir/cbc/osx/64/cbc /var/folders/f1/dg38sdvs7tsgxf3hbspgk1vc0000gn/T/545760210e0a44c1a66847be9793f8b4-pulp.mps max timeMode elapsed branch printingOptions all solution /var/folders/f1/dg38sdvs7tsgxf3hbspgk1vc0000gn/T/545760210e0a44c1a66847be9793f8b4-pulp.sol (default strategy 1)\n",
      "At line 2 NAME          MODEL\n",
      "At line 3 ROWS\n",
      "At line 70 COLUMNS\n",
      "At line 231 RHS\n",
      "At line 297 BOUNDS\n",
      "At line 346 ENDATA\n",
      "Problem MODEL has 65 rows, 48 columns and 128 elements\n",
      "Coin0008I MODEL read with 0 errors\n",
      "Option for timeMode changed from cpu to elapsed\n",
      "Presolve 17 (-48) rows, 32 (-16) columns and 64 (-64) elements\n",
      "0  Obj 229 Dual inf 981.57657 (32)\n",
      "7  Obj 732.48103\n",
      "Optimal - objective value 732.48103\n",
      "After Postsolve, objective 732.48103, infeasibilities - dual 81.327586 (6), primal 0 (0)\n",
      "Presolved model was optimal, full model needs cleaning up\n",
      "0  Obj 732.48103\n",
      "Optimal - objective value 732.48103\n",
      "Optimal objective 732.4810345 - 7 iterations time 0.002, Presolve 0.00\n",
      "Option for printingOptions changed from normal to all\n",
      "Total time (CPU seconds):       0.00   (Wallclock seconds):       0.00\n",
      "\n",
      "Optimal, 2161850, 732.5, 2951.4\n",
      "Welcome to the CBC MILP Solver \n",
      "Version: 2.10.3 \n",
      "Build Date: Dec 15 2019 \n",
      "\n",
      "command line - /Users/sasa./miniforge3/envs/py38/lib/python3.8/site-packages/pulp/apis/../solverdir/cbc/osx/64/cbc /var/folders/f1/dg38sdvs7tsgxf3hbspgk1vc0000gn/T/dbe3862e55e24348890dda1e81861977-pulp.mps max timeMode elapsed branch printingOptions all solution /var/folders/f1/dg38sdvs7tsgxf3hbspgk1vc0000gn/T/dbe3862e55e24348890dda1e81861977-pulp.sol (default strategy 1)\n",
      "At line 2 NAME          MODEL\n",
      "At line 3 ROWS\n",
      "At line 70 COLUMNS\n",
      "At line 231 RHS\n",
      "At line 297 BOUNDS\n",
      "At line 346 ENDATA\n",
      "Problem MODEL has 65 rows, 48 columns and 128 elements\n",
      "Coin0008I MODEL read with 0 errors\n",
      "Option for timeMode changed from cpu to elapsed\n",
      "Presolve 17 (-48) rows, 32 (-16) columns and 64 (-64) elements\n",
      "0  Obj 229 Dual inf 981.57657 (32)\n",
      "8  Obj 764.11866\n",
      "Optimal - objective value 764.11866\n",
      "After Postsolve, objective 764.11866, infeasibilities - dual 92.813432 (7), primal 0 (0)\n",
      "Presolved model was optimal, full model needs cleaning up\n",
      "0  Obj 764.11866\n",
      "Optimal - objective value 764.11866\n",
      "Optimal objective 764.1186567 - 8 iterations time 0.002, Presolve 0.00\n",
      "Option for printingOptions changed from normal to all\n",
      "Total time (CPU seconds):       0.00   (Wallclock seconds):       0.00\n",
      "\n",
      "Optimal, 2261850, 764.1, 2960.1\n",
      "Welcome to the CBC MILP Solver \n",
      "Version: 2.10.3 \n",
      "Build Date: Dec 15 2019 \n",
      "\n",
      "command line - /Users/sasa./miniforge3/envs/py38/lib/python3.8/site-packages/pulp/apis/../solverdir/cbc/osx/64/cbc /var/folders/f1/dg38sdvs7tsgxf3hbspgk1vc0000gn/T/580f2be4788a470fbee544793f68f9a5-pulp.mps max timeMode elapsed branch printingOptions all solution /var/folders/f1/dg38sdvs7tsgxf3hbspgk1vc0000gn/T/580f2be4788a470fbee544793f68f9a5-pulp.sol (default strategy 1)\n",
      "At line 2 NAME          MODEL\n",
      "At line 3 ROWS\n",
      "At line 70 COLUMNS\n",
      "At line 231 RHS\n",
      "At line 297 BOUNDS\n",
      "At line 346 ENDATA\n",
      "Problem MODEL has 65 rows, 48 columns and 128 elements\n",
      "Coin0008I MODEL read with 0 errors\n",
      "Option for timeMode changed from cpu to elapsed\n",
      "Presolve 17 (-48) rows, 32 (-16) columns and 64 (-64) elements\n",
      "0  Obj 229 Dual inf 981.57657 (32)\n",
      "8  Obj 795.46194\n",
      "Optimal - objective value 795.46194\n",
      "After Postsolve, objective 795.46194, infeasibilities - dual 92.813432 (7), primal 0 (0)\n",
      "Presolved model was optimal, full model needs cleaning up\n",
      "0  Obj 795.46194\n",
      "Optimal - objective value 795.46194\n",
      "Optimal objective 795.4619403 - 8 iterations time 0.002, Presolve 0.00\n",
      "Option for printingOptions changed from normal to all\n",
      "Total time (CPU seconds):       0.00   (Wallclock seconds):       0.00\n",
      "\n",
      "Optimal, 2361850, 795.5, 2969.2\n",
      "Welcome to the CBC MILP Solver \n",
      "Version: 2.10.3 \n",
      "Build Date: Dec 15 2019 \n",
      "\n",
      "command line - /Users/sasa./miniforge3/envs/py38/lib/python3.8/site-packages/pulp/apis/../solverdir/cbc/osx/64/cbc /var/folders/f1/dg38sdvs7tsgxf3hbspgk1vc0000gn/T/f85e423fe5be4952bf9bbaa2d45ca9cd-pulp.mps max timeMode elapsed branch printingOptions all solution /var/folders/f1/dg38sdvs7tsgxf3hbspgk1vc0000gn/T/f85e423fe5be4952bf9bbaa2d45ca9cd-pulp.sol (default strategy 1)\n",
      "At line 2 NAME          MODEL\n",
      "At line 3 ROWS\n",
      "At line 70 COLUMNS\n",
      "At line 231 RHS\n",
      "At line 297 BOUNDS\n",
      "At line 346 ENDATA\n",
      "Problem MODEL has 65 rows, 48 columns and 128 elements\n",
      "Coin0008I MODEL read with 0 errors\n",
      "Option for timeMode changed from cpu to elapsed\n",
      "Presolve 17 (-48) rows, 32 (-16) columns and 64 (-64) elements\n",
      "0  Obj 229 Dual inf 981.57657 (32)\n",
      "11  Obj 826.80522\n",
      "Optimal - objective value 826.80522\n",
      "After Postsolve, objective 826.80522, infeasibilities - dual 92.813432 (7), primal 0 (0)\n",
      "Presolved model was optimal, full model needs cleaning up\n",
      "0  Obj 826.80522\n",
      "Optimal - objective value 826.80522\n",
      "Optimal objective 826.8052239 - 11 iterations time 0.002, Presolve 0.00\n",
      "Option for printingOptions changed from normal to all\n",
      "Total time (CPU seconds):       0.00   (Wallclock seconds):       0.00\n",
      "\n",
      "Optimal, 2461850, 826.8, 2977.5\n",
      "Welcome to the CBC MILP Solver \n",
      "Version: 2.10.3 \n",
      "Build Date: Dec 15 2019 \n",
      "\n",
      "command line - /Users/sasa./miniforge3/envs/py38/lib/python3.8/site-packages/pulp/apis/../solverdir/cbc/osx/64/cbc /var/folders/f1/dg38sdvs7tsgxf3hbspgk1vc0000gn/T/69db607c604f44bc97a9bab77632cb22-pulp.mps max timeMode elapsed branch printingOptions all solution /var/folders/f1/dg38sdvs7tsgxf3hbspgk1vc0000gn/T/69db607c604f44bc97a9bab77632cb22-pulp.sol (default strategy 1)\n",
      "At line 2 NAME          MODEL\n",
      "At line 3 ROWS\n",
      "At line 70 COLUMNS\n",
      "At line 231 RHS\n",
      "At line 297 BOUNDS\n",
      "At line 346 ENDATA\n",
      "Problem MODEL has 65 rows, 48 columns and 128 elements\n",
      "Coin0008I MODEL read with 0 errors\n",
      "Option for timeMode changed from cpu to elapsed\n",
      "Presolve 17 (-48) rows, 32 (-16) columns and 64 (-64) elements\n",
      "0  Obj 229 Dual inf 981.57657 (32)\n",
      "11  Obj 858.14851\n",
      "Optimal - objective value 858.14851\n",
      "After Postsolve, objective 858.14851, infeasibilities - dual 92.813432 (7), primal 0 (0)\n",
      "Presolved model was optimal, full model needs cleaning up\n",
      "0  Obj 858.14851\n",
      "Optimal - objective value 858.14851\n",
      "Optimal objective 858.1485075 - 11 iterations time 0.002, Presolve 0.00\n",
      "Option for printingOptions changed from normal to all\n",
      "Total time (CPU seconds):       0.00   (Wallclock seconds):       0.00\n",
      "\n",
      "Optimal, 2561850, 858.1, 2985.3\n",
      "Welcome to the CBC MILP Solver \n",
      "Version: 2.10.3 \n",
      "Build Date: Dec 15 2019 \n",
      "\n",
      "command line - /Users/sasa./miniforge3/envs/py38/lib/python3.8/site-packages/pulp/apis/../solverdir/cbc/osx/64/cbc /var/folders/f1/dg38sdvs7tsgxf3hbspgk1vc0000gn/T/a078934d5e394e728e7e66945e7c7de6-pulp.mps max timeMode elapsed branch printingOptions all solution /var/folders/f1/dg38sdvs7tsgxf3hbspgk1vc0000gn/T/a078934d5e394e728e7e66945e7c7de6-pulp.sol (default strategy 1)\n",
      "At line 2 NAME          MODEL\n",
      "At line 3 ROWS\n",
      "At line 70 COLUMNS\n",
      "At line 231 RHS\n",
      "At line 297 BOUNDS\n",
      "At line 346 ENDATA\n",
      "Problem MODEL has 65 rows, 48 columns and 128 elements\n",
      "Coin0008I MODEL read with 0 errors\n",
      "Option for timeMode changed from cpu to elapsed\n",
      "Presolve 17 (-48) rows, 32 (-16) columns and 64 (-64) elements\n",
      "0  Obj 229 Dual inf 981.57657 (32)\n",
      "9  Obj 889.49179\n",
      "Optimal - objective value 889.49179\n",
      "After Postsolve, objective 889.49179, infeasibilities - dual 92.813432 (7), primal 0 (0)\n",
      "Presolved model was optimal, full model needs cleaning up\n",
      "0  Obj 889.49179\n",
      "Optimal - objective value 889.49179\n",
      "Optimal objective 889.491791 - 9 iterations time 0.002, Presolve 0.00\n",
      "Option for printingOptions changed from normal to all\n",
      "Total time (CPU seconds):       0.00   (Wallclock seconds):       0.00\n",
      "\n",
      "Optimal, 2661850, 889.5, 2992.6\n",
      "Welcome to the CBC MILP Solver \n",
      "Version: 2.10.3 \n",
      "Build Date: Dec 15 2019 \n",
      "\n",
      "command line - /Users/sasa./miniforge3/envs/py38/lib/python3.8/site-packages/pulp/apis/../solverdir/cbc/osx/64/cbc /var/folders/f1/dg38sdvs7tsgxf3hbspgk1vc0000gn/T/a710a8b2e43444deb7b510a7194d98c6-pulp.mps max timeMode elapsed branch printingOptions all solution /var/folders/f1/dg38sdvs7tsgxf3hbspgk1vc0000gn/T/a710a8b2e43444deb7b510a7194d98c6-pulp.sol (default strategy 1)\n",
      "At line 2 NAME          MODEL\n",
      "At line 3 ROWS\n",
      "At line 70 COLUMNS\n",
      "At line 231 RHS\n",
      "At line 297 BOUNDS\n",
      "At line 346 ENDATA\n",
      "Problem MODEL has 65 rows, 48 columns and 128 elements\n",
      "Coin0008I MODEL read with 0 errors\n",
      "Option for timeMode changed from cpu to elapsed\n",
      "Presolve 17 (-48) rows, 32 (-16) columns and 64 (-64) elements\n",
      "0  Obj 229 Dual inf 981.57657 (32)\n",
      "9  Obj 920.83507\n",
      "Optimal - objective value 920.83507\n",
      "After Postsolve, objective 920.83507, infeasibilities - dual 92.813432 (7), primal 0 (0)\n",
      "Presolved model was optimal, full model needs cleaning up\n",
      "0  Obj 920.83507\n",
      "Optimal - objective value 920.83507\n",
      "Optimal objective 920.8350746 - 9 iterations time 0.002, Presolve 0.00\n",
      "Option for printingOptions changed from normal to all\n",
      "Total time (CPU seconds):       0.00   (Wallclock seconds):       0.00\n",
      "\n",
      "Optimal, 2761850, 920.8, 2999.3\n",
      "Welcome to the CBC MILP Solver \n",
      "Version: 2.10.3 \n",
      "Build Date: Dec 15 2019 \n",
      "\n",
      "command line - /Users/sasa./miniforge3/envs/py38/lib/python3.8/site-packages/pulp/apis/../solverdir/cbc/osx/64/cbc /var/folders/f1/dg38sdvs7tsgxf3hbspgk1vc0000gn/T/3c6e258e5b22499eaeb1ef1f7dcf073b-pulp.mps max timeMode elapsed branch printingOptions all solution /var/folders/f1/dg38sdvs7tsgxf3hbspgk1vc0000gn/T/3c6e258e5b22499eaeb1ef1f7dcf073b-pulp.sol (default strategy 1)\n",
      "At line 2 NAME          MODEL\n",
      "At line 3 ROWS\n",
      "At line 70 COLUMNS\n",
      "At line 231 RHS\n",
      "At line 297 BOUNDS\n",
      "At line 346 ENDATA\n",
      "Problem MODEL has 65 rows, 48 columns and 128 elements\n",
      "Coin0008I MODEL read with 0 errors\n",
      "Option for timeMode changed from cpu to elapsed\n",
      "Presolve 17 (-48) rows, 32 (-16) columns and 64 (-64) elements\n",
      "0  Obj 229 Dual inf 981.57657 (32)\n",
      "10  Obj 951.68488\n",
      "Optimal - objective value 951.68488\n",
      "After Postsolve, objective 951.68488, infeasibilities - dual 125.43023 (9), primal 0 (0)\n",
      "Presolved model was optimal, full model needs cleaning up\n",
      "0  Obj 951.68488\n",
      "Optimal - objective value 951.68488\n",
      "Optimal objective 951.6848837 - 10 iterations time 0.002, Presolve 0.00\n",
      "Option for printingOptions changed from normal to all\n",
      "Total time (CPU seconds):       0.00   (Wallclock seconds):       0.00\n",
      "\n",
      "Optimal, 2861850, 951.7, 3007.1\n",
      "Welcome to the CBC MILP Solver \n",
      "Version: 2.10.3 \n",
      "Build Date: Dec 15 2019 \n",
      "\n",
      "command line - /Users/sasa./miniforge3/envs/py38/lib/python3.8/site-packages/pulp/apis/../solverdir/cbc/osx/64/cbc /var/folders/f1/dg38sdvs7tsgxf3hbspgk1vc0000gn/T/7becb51e1a374eaf9b72d8c0bb52b1e9-pulp.mps max timeMode elapsed branch printingOptions all solution /var/folders/f1/dg38sdvs7tsgxf3hbspgk1vc0000gn/T/7becb51e1a374eaf9b72d8c0bb52b1e9-pulp.sol (default strategy 1)\n",
      "At line 2 NAME          MODEL\n",
      "At line 3 ROWS\n",
      "At line 70 COLUMNS\n",
      "At line 231 RHS\n",
      "At line 297 BOUNDS\n",
      "At line 346 ENDATA\n",
      "Problem MODEL has 65 rows, 48 columns and 128 elements\n",
      "Coin0008I MODEL read with 0 errors\n",
      "Option for timeMode changed from cpu to elapsed\n",
      "Presolve 17 (-48) rows, 32 (-16) columns and 64 (-64) elements\n",
      "0  Obj 229 Dual inf 981.57657 (32)\n",
      "10  Obj 981.91744\n",
      "Optimal - objective value 981.91744\n",
      "After Postsolve, objective 981.91744, infeasibilities - dual 125.43023 (9), primal 0 (0)\n",
      "Presolved model was optimal, full model needs cleaning up\n",
      "0  Obj 981.91744\n",
      "Optimal - objective value 981.91744\n",
      "Optimal objective 981.9174419 - 10 iterations time 0.002, Presolve 0.00\n",
      "Option for printingOptions changed from normal to all\n",
      "Total time (CPU seconds):       0.00   (Wallclock seconds):       0.01\n",
      "\n",
      "Optimal, 2961850, 981.9, 3016.4\n"
     ]
    }
   ],
   "source": [
    "print('ステータス,キャンペーン費用,来客増加数,CPA')\n",
    "for cost in range(761850, 3000000, 100000):\n",
    "  problem = pulp.LpProblem(name='DiscountCouponProblem2', sense=pulp.LpMaximize)\n",
    "\n",
    "  xsm = {}\n",
    "  for s in S:\n",
    "    for m in M:\n",
    "      xsm[s,m] = pulp.LpVariable(name=f'xsm({s},{m})', lowBound=0, upBound=1, cat='Continuous')\n",
    "\n",
    "  for s in S:\n",
    "    problem += pulp.lpSum(xsm[s,m] for m in M) == 1\n",
    "  \n",
    "  problem += pulp.lpSum(Ns[s]*(Psm[s,m] - Psm[s,1])*xsm[s,m] for s in S for m in [2,3])\n",
    "\n",
    "  problem += pulp.lpSum(Cm[m]*Ns[s]*Psm[s,m]*xsm[s,m] for s in S for m in [2,3]) <= cost\n",
    "\n",
    "  for s in S:\n",
    "    for m in M:\n",
    "      problem += xsm[s,m] >= 0.1\n",
    "\n",
    "  status = problem.solve()\n",
    "  cpa = cost/pulp.value(problem.objective)\n",
    "  inc_action = pulp.value(problem.objective)\n",
    "  cost_list.append(cost)\n",
    "  cpa_list.append(cpa)\n",
    "  inc_action_list.append(inc_action)\n",
    "  print(f'{pulp.LpStatus[status]}, {cost}, {inc_action:.4}, {cpa:.5}')"
   ]
  },
  {
   "cell_type": "code",
   "execution_count": 65,
   "metadata": {},
   "outputs": [
    {
     "data": {
      "image/png": "[encoded data removed]",
      "text/plain": [
       "<Figure size 432x288 with 2 Axes>"
      ]
     },
     "metadata": {
      "needs_background": "light"
     },
     "output_type": "display_data"
    }
   ],
   "source": [
    "import matplotlib.ticker as ticker\n",
    "\n",
    "fig, ax1 = plt.subplots()\n",
    "ax2 = ax1.twinx()\n",
    "ax1.scatter(cost_list, inc_action_list, marker='x', label='Incremental Visitor')\n",
    "ax2.scatter(cost_list, cpa_list, label='CPA')\n",
    "ax1.xaxis.set_major_formatter(ticker.FuncFormatter(lambda x, pos:f'{x:,.0f}'))\n",
    "ax1.yaxis.set_major_formatter(ticker.FuncFormatter(lambda x, pos:f'{x:,.0f}'))\n",
    "ax2.yaxis.set_major_formatter(ticker.FuncFormatter(lambda x, pos:f'{x:,.0f}'))\n",
    "ax1.set_xlabel('Cost')\n",
    "ax2.set_ylabel('Incremental visitor')\n",
    "ax2.set_ylabel('CPA')\n",
    "reg1, label1 = ax1.get_legend_handles_labels()\n",
    "reg2, label2 = ax2.get_legend_handles_labels()\n",
    "ax2.legend(reg1 + reg2, label1 + label2, loc='upper center')\n",
    "plt.show()"
   ]
  },
  {
   "cell_type": "code",
   "execution_count": null,
   "metadata": {},
   "outputs": [],
   "source": []
  }
 ],
 "metadata": {
  "interpreter": {
   "hash": "ff5772b32b59bd41fb91f6cc891f8cb03c80235c3628a1f8b61561785c6fc031"
  },
  "kernelspec": {
   "display_name": "Python 3.8.12 ('py38')",
   "language": "python",
   "name": "python3"
  },
  "language_info": {
   "codemirror_mode": {
    "name": "ipython",
    "version": 3
   },
   "file_extension": ".py",
   "mimetype": "text/x-python",
   "name": "python",
   "nbconvert_exporter": "python",
   "pygments_lexer": "ipython3",
   "version": "3.8.12"
  },
  "orig_nbformat": 4
 },
 "nbformat": 4,
 "nbformat_minor": 2
}
