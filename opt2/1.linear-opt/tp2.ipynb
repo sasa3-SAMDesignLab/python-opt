{
 "cells": [
  {
   "cell_type": "code",
   "execution_count": 1,
   "metadata": {},
   "outputs": [],
   "source": [
    "from pulp import *\n",
    "import numpy as np"
   ]
  },
  {
   "cell_type": "code",
   "execution_count": 4,
   "metadata": {},
   "outputs": [
    {
     "name": "stdout",
     "output_type": "stream",
     "text": [
      "Production:\n",
      "MAXIMIZE\n",
      "150*x1 + 200*x2 + 300*x3 + 0\n",
      "SUBJECT TO\n",
      "ineq0: 3 x1 + x2 + 2 x3 <= 60\n",
      "\n",
      "ineq1: x1 + 3 x2 <= 36\n",
      "\n",
      "ineq2: 2 x2 + 4 x3 <= 48\n",
      "\n",
      "VARIABLES\n",
      "x1 Continuous\n",
      "x2 Continuous\n",
      "x3 Continuous\n",
      "\n",
      "Welcome to the CBC MILP Solver \n",
      "Version: 2.10.3 \n",
      "Build Date: Dec 15 2019 \n",
      "\n",
      "command line - /Users/sasa./miniforge3/envs/py38/lib/python3.8/site-packages/pulp/apis/../solverdir/cbc/osx/64/cbc /var/folders/f1/dg38sdvs7tsgxf3hbspgk1vc0000gn/T/0f7183a839c04492b7119514b1adc961-pulp.mps max timeMode elapsed branch printingOptions all solution /var/folders/f1/dg38sdvs7tsgxf3hbspgk1vc0000gn/T/0f7183a839c04492b7119514b1adc961-pulp.sol (default strategy 1)\n",
      "At line 2 NAME          MODEL\n",
      "At line 3 ROWS\n",
      "At line 8 COLUMNS\n",
      "At line 19 RHS\n",
      "At line 23 BOUNDS\n",
      "At line 24 ENDATA\n",
      "Problem MODEL has 3 rows, 3 columns and 7 elements\n",
      "Coin0008I MODEL read with 0 errors\n",
      "Option for timeMode changed from cpu to elapsed\n",
      "Presolve 3 (0) rows, 3 (0) columns and 7 (0) elements\n",
      "0  Obj -0 Dual inf 650 (3)\n",
      "0  Obj -0 Dual inf 650 (3)\n",
      "3  Obj 5800\n",
      "Optimal - objective value 5800\n",
      "Optimal objective 5800 - 3 iterations time 0.002\n",
      "Option for printingOptions changed from normal to all\n",
      "Total time (CPU seconds):       0.00   (Wallclock seconds):       0.00\n",
      "\n",
      "Optimal\n",
      "Optimal value = 5800.0\n",
      "x1 = 12.0\n",
      "x2 = 8.0\n",
      "x3 = 8.0\n"
     ]
    }
   ],
   "source": [
    "A = np.array([[3,1,2],[1,3,0],[0,2,4]])\n",
    "c = np.array([150,200,300])\n",
    "b = np.array([60,36,48])\n",
    "(m,n) = A.shape\n",
    "prob = LpProblem(name='Production', sense=LpMaximize)\n",
    "x = [LpVariable('x'+str(i+1), lowBound=0) for i in range(n)]\n",
    "prob += lpDot(c,x)\n",
    "for i in range(m):\n",
    "  prob += lpDot(A[i],x) <= b[i], 'ineq'+str(i)\n",
    "\n",
    "print(prob)\n",
    "\n",
    "prob.solve()\n",
    "print(LpStatus[prob.status])\n",
    "print('Optimal value =', value(prob.objective))\n",
    "for v in prob.variables():\n",
    "  print(v.name, '=', v.varValue)"
   ]
  },
  {
   "cell_type": "code",
   "execution_count": 5,
   "metadata": {},
   "outputs": [
    {
     "data": {
      "text/plain": [
       "True"
      ]
     },
     "execution_count": 5,
     "metadata": {},
     "output_type": "execute_result"
    }
   ],
   "source": [
    "X = np.array([v.varValue for v in prob.variables()])\n",
    "np.all(np.abs(b - np.dot(A,X)) <= 1.0e-5)"
   ]
  },
  {
   "cell_type": "code",
   "execution_count": 6,
   "metadata": {},
   "outputs": [
    {
     "name": "stdout",
     "output_type": "stream",
     "text": [
      "Welcome to the CBC MILP Solver \n",
      "Version: 2.10.3 \n",
      "Build Date: Dec 15 2019 \n",
      "\n",
      "command line - /Users/sasa./miniforge3/envs/py38/lib/python3.8/site-packages/pulp/apis/../solverdir/cbc/osx/64/cbc /var/folders/f1/dg38sdvs7tsgxf3hbspgk1vc0000gn/T/58468bb83fc0485fa223c5092fb90e27-pulp.mps timeMode elapsed branch printingOptions all solution /var/folders/f1/dg38sdvs7tsgxf3hbspgk1vc0000gn/T/58468bb83fc0485fa223c5092fb90e27-pulp.sol (default strategy 1)\n",
      "At line 2 NAME          MODEL\n",
      "At line 3 ROWS\n",
      "At line 8 COLUMNS\n",
      "At line 19 RHS\n",
      "At line 23 BOUNDS\n",
      "At line 24 ENDATA\n",
      "Problem MODEL has 3 rows, 3 columns and 7 elements\n",
      "Coin0008I MODEL read with 0 errors\n",
      "Option for timeMode changed from cpu to elapsed\n",
      "Presolve 3 (0) rows, 3 (0) columns and 7 (0) elements\n",
      "0  Obj 0 Primal inf 191.66667 (3)\n",
      "3  Obj 5800\n",
      "Optimal - objective value 5800\n",
      "Optimal objective 5800 - 3 iterations time 0.002\n",
      "Option for printingOptions changed from normal to all\n",
      "Total time (CPU seconds):       0.00   (Wallclock seconds):       0.01\n",
      "\n",
      "Optimal\n",
      "Optimal value of dual problem = 5799.999996\n",
      "y1 = 44.444444\n",
      "y2 = 16.666667\n",
      "y3 = 52.777778\n"
     ]
    }
   ],
   "source": [
    "AT = A.T\n",
    "dual = LpProblem(name='Dual_Production', sense=LpMinimize)\n",
    "y = [LpVariable('y'+str(i+1), lowBound=0) for i in range(m)]\n",
    "dual += lpDot(b,y)\n",
    "for j in range(n):\n",
    "  dual += lpDot(AT[j],y) >= c[j], 'ineq'+str(j)\n",
    "\n",
    "dual.solve()\n",
    "print(LpStatus[dual.status])\n",
    "print('Optimal value of dual problem =', value(dual.objective))\n",
    "for v in dual.variables():\n",
    "  print(v.name, '=', v.varValue)"
   ]
  },
  {
   "cell_type": "code",
   "execution_count": 7,
   "metadata": {},
   "outputs": [
    {
     "data": {
      "text/plain": [
       "True"
      ]
     },
     "execution_count": 7,
     "metadata": {},
     "output_type": "execute_result"
    }
   ],
   "source": [
    "Y =np.array([v.varValue for v in dual.variables()])\n",
    "np.all(np.abs(np.dot(AT,Y) - c) <= 1.0e-5)"
   ]
  },
  {
   "cell_type": "code",
   "execution_count": null,
   "metadata": {},
   "outputs": [],
   "source": []
  }
 ],
 "metadata": {
  "interpreter": {
   "hash": "ff5772b32b59bd41fb91f6cc891f8cb03c80235c3628a1f8b61561785c6fc031"
  },
  "kernelspec": {
   "display_name": "Python 3.8.12 ('py38')",
   "language": "python",
   "name": "python3"
  },
  "language_info": {
   "codemirror_mode": {
    "name": "ipython",
    "version": 3
   },
   "file_extension": ".py",
   "mimetype": "text/x-python",
   "name": "python",
   "nbconvert_exporter": "python",
   "pygments_lexer": "ipython3",
   "version": "3.8.12"
  },
  "orig_nbformat": 4
 },
 "nbformat": 4,
 "nbformat_minor": 2
}
