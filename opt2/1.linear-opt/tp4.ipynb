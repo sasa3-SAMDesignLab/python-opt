{
 "cells": [
  {
   "cell_type": "code",
   "execution_count": 1,
   "metadata": {},
   "outputs": [],
   "source": [
    "import numpy as np"
   ]
  },
  {
   "cell_type": "code",
   "execution_count": 2,
   "metadata": {},
   "outputs": [],
   "source": [
    "def make_Mq_from_cAb(c, A, b):\n",
    "  m, k = A.shape\n",
    "  m1 = np.hstack((np.zeros((m,m)), -A, b.reshape(m,-1)))\n",
    "  m2 = np.hstack((A.T, np.zeros((k,k)), -c.reshape(k,-1)))\n",
    "  m3 = np.append(np.append(-b,c),0)\n",
    "  M = np.vstack((m1, m2, m3))\n",
    "  q = np.zeros(m+k+1)\n",
    "  return M, q"
   ]
  },
  {
   "cell_type": "code",
   "execution_count": 3,
   "metadata": {},
   "outputs": [],
   "source": [
    "def make_artProb_initialPoint(M,q):\n",
    "  n, n = M.shape\n",
    "\n",
    "  x0 = np.ones(n)\n",
    "  mu0 = np.dot(q,x0)/(n+1)+1\n",
    "  z0 = mu0/x0\n",
    "  r = z0 - np.dot(M, x0) - q\n",
    "  qn1 = (n+1)*mu0\n",
    "\n",
    "  MM = np.hstack((M, r.reshape((-1,1))))\n",
    "  MM = np.vstack((MM, np.append(-r,0)))\n",
    "  qq = np.append(q, qn1)\n",
    "  xx0 = np.append(x0, 1)\n",
    "  zz0 = np.append(z0, mu0)\n",
    "  return MM, qq, xx0, zz0"
   ]
  },
  {
   "cell_type": "code",
   "execution_count": 4,
   "metadata": {},
   "outputs": [],
   "source": [
    "MEPS = 1.0e-10\n",
    "\n",
    "def PrimalDualPathFollowing(c, A, b):\n",
    "  (M0, q0) = make_Mq_from_cAb(c, A, b)\n",
    "  (M, q, x, z) = make_artProb_initialPoint(M0,q0)\n",
    "  m, k = A.shape\n",
    "  n, n = M.shape\n",
    "\n",
    "  count = 0\n",
    "  mu = np.dot(z,x)/n\n",
    "  print('初期目的関数:',mu)\n",
    "  while mu > MEPS:\n",
    "    count += 1\n",
    "    print(count, '回目: ', end=' ')\n",
    "\n",
    "    delta = 0\n",
    "    dx = np.dot(np.linalg.inv(M+np.diag(z/x)), delta*mu*(1/x)-z)\n",
    "    dz = delta*mu*(1/x)-z-np.dot(np.diag(1/x), z*dx)\n",
    "    th = binarysearch_theta(x, z, dx, dz, 0.5, 0.001)\n",
    "    print('theta =', th, end=', ')\n",
    "    x = x + th*dx\n",
    "    z = z + th*dz\n",
    "    mu = np.dot(z,x)/n\n",
    "\n",
    "    delta = 1\n",
    "    dx = np.dot(np.linalg.inv(M+np.diag(z/x)), delta*mu*(1/x)-z)\n",
    "    dz = delta*mu*(1/x)-z-np.dot(np.diag(1/x), z*dx)\n",
    "    x = x + dx\n",
    "    z = z + dz\n",
    "    mu = np.dot(z,x)/n\n",
    "    print('目的関数値:', mu)\n",
    "\n",
    "  if x[n-2] > MEPS:\n",
    "    print('Optimal solution:', x[m:m+k]/x[n-2], ' has benn found.')\n",
    "    print('Optimal value = ', np.dot(c, x[m:m+k]/x[n-2]))\n",
    "    print('Optimal solution(dual) ', x[:m]/x[n-2], ' has been found.')\n",
    "    print('Optimal value = ', np.dot(b,x[:m]/x[n-2]))"
   ]
  },
  {
   "cell_type": "code",
   "execution_count": 5,
   "metadata": {},
   "outputs": [],
   "source": [
    "import numpy as np"
   ]
  },
  {
   "cell_type": "code",
   "execution_count": 6,
   "metadata": {},
   "outputs": [],
   "source": [
    "def binarysearch_theta(x,z,dx,dz,beta=0.5,precision=0.001):\n",
    "  n = np.alen(x)\n",
    "\n",
    "  th_low = 0.0\n",
    "  th_high = 1.0\n",
    "  if np.alen(-x[dx<0]/dx[dx<0]) > 0:\n",
    "    th_high = min(th_high, np.min(-x[dx<0]/dx[dx<0]))\n",
    "  if np.alen(-z[dz<0]/dz[dz<0]) > 0:\n",
    "    th_high = min(th_high, np.min(-z[dz<0]/dz[dz<0]))\n",
    "\n",
    "  x_low = x + th_low*dx\n",
    "  z_low = z + th_low*dz\n",
    "  x_high = x + th_high*dx\n",
    "  z_high = z + th_high*dz\n",
    "  mu_high = np.dot(x_high, z_high)/n\n",
    "  if (beta*mu_high >= np.linalg.norm(x_high*z_high - mu_high*np.ones(n))):\n",
    "    return th_high\n",
    "  while th_high - th_low > precision:\n",
    "    th_mid = (th_high + th_low)/2\n",
    "    x_mid = x + th_mid*dx\n",
    "    z_mid = z + th_mid*dz\n",
    "    mu_mid = np.dot(x_mid, z_mid)/n\n",
    "    if (beta*mu_mid >= np.linalg.norm(x_mid*z_mid - mu_mid*np.ones(n))):\n",
    "      th_low = th_mid\n",
    "    else:\n",
    "      th_high = th_mid\n",
    "\n",
    "  return th_low"
   ]
  },
  {
   "cell_type": "code",
   "execution_count": 7,
   "metadata": {},
   "outputs": [
    {
     "name": "stdout",
     "output_type": "stream",
     "text": [
      "初期目的関数: 1.0\n",
      "1 回目:  theta = 0.5660404758396536, 目的関数値: 0.4339595241603462\n",
      "2 回目:  theta = 0.5559306039282488, 目的関数値: 0.19270814381346918\n",
      "3 回目:  theta = 0.6220741646734078, 目的関数値: 0.07282938622494245\n",
      "4 回目:  theta = 0.692857290584593, 目的関数値: 0.022369015010189928\n",
      "5 回目:  theta = 0.7495245360789161, 目的関数値: 0.005602889412135011\n",
      "6 回目:  theta = 0.8709944026483865, 目的関数値: 0.0007228040955075072\n",
      "7 回目:  theta = 0.9758700546520129, 目的関数値: 1.7441223321897397e-05\n",
      "8 回目:  theta = 0.998957175794987, 目的関数値: 1.8188129845112275e-08\n",
      "9 回目:  theta = 0.9990233742220431, 目的関数値: 1.7762996459563537e-11\n",
      "Optimal solution: [12.  8.  8.]  has benn found.\n",
      "Optimal value =  5799.999998151829\n",
      "Optimal solution(dual)  [44.44444443 16.66666666 52.77777776]  has been found.\n",
      "Optimal value =  5799.999997961326\n"
     ]
    }
   ],
   "source": [
    "c = np.array([150,200,300])\n",
    "A = np.array([[3,1,2],[1,3,0],[0,2,4]])\n",
    "b = np.array([60, 36, 48])\n",
    "\n",
    "PrimalDualPathFollowing(c, A, b)"
   ]
  },
  {
   "cell_type": "code",
   "execution_count": null,
   "metadata": {},
   "outputs": [],
   "source": []
  }
 ],
 "metadata": {
  "interpreter": {
   "hash": "ff5772b32b59bd41fb91f6cc891f8cb03c80235c3628a1f8b61561785c6fc031"
  },
  "kernelspec": {
   "display_name": "Python 3.8.12 ('py38')",
   "language": "python",
   "name": "python3"
  },
  "language_info": {
   "codemirror_mode": {
    "name": "ipython",
    "version": 3
   },
   "file_extension": ".py",
   "mimetype": "text/x-python",
   "name": "python",
   "nbconvert_exporter": "python",
   "pygments_lexer": "ipython3",
   "version": "3.8.12"
  },
  "orig_nbformat": 4
 },
 "nbformat": 4,
 "nbformat_minor": 2
}
