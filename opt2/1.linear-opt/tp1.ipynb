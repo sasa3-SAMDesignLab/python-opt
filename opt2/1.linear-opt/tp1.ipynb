{
 "cells": [
  {
   "cell_type": "code",
   "execution_count": 2,
   "metadata": {},
   "outputs": [],
   "source": [
    "from pulp import *"
   ]
  },
  {
   "cell_type": "code",
   "execution_count": 6,
   "metadata": {},
   "outputs": [
    {
     "name": "stdout",
     "output_type": "stream",
     "text": [
      "LP-Sample:\n",
      "MAXIMIZE\n",
      "2*x1 + 1*x2 + 3\n",
      "SUBJECT TO\n",
      "ineq1: x1 + 3 x2 <= 9\n",
      "\n",
      "ineq2: x1 + x2 <= 4\n",
      "\n",
      "ineq3: x1 + x2 <= 10\n",
      "\n",
      "VARIABLES\n",
      "x1 Continuous\n",
      "x2 Continuous\n",
      "\n",
      "Welcome to the CBC MILP Solver \n",
      "Version: 2.10.3 \n",
      "Build Date: Dec 15 2019 \n",
      "\n",
      "command line - /Users/sasa./miniforge3/envs/py38/lib/python3.8/site-packages/pulp/apis/../solverdir/cbc/osx/64/cbc /var/folders/f1/dg38sdvs7tsgxf3hbspgk1vc0000gn/T/01cea7c368d94291b250d1056ad038a0-pulp.mps max timeMode elapsed branch printingOptions all solution /var/folders/f1/dg38sdvs7tsgxf3hbspgk1vc0000gn/T/01cea7c368d94291b250d1056ad038a0-pulp.sol (default strategy 1)\n",
      "At line 2 NAME          MODEL\n",
      "At line 3 ROWS\n",
      "At line 8 COLUMNS\n",
      "At line 17 RHS\n",
      "At line 21 BOUNDS\n",
      "At line 22 ENDATA\n",
      "Problem MODEL has 3 rows, 2 columns and 6 elements\n",
      "Coin0008I MODEL read with 0 errors\n",
      "Option for timeMode changed from cpu to elapsed\n",
      "Presolve 2 (-1) rows, 2 (0) columns and 4 (-2) elements\n",
      "0  Obj -0 Dual inf 2.999998 (2)\n",
      "1  Obj 8\n",
      "Optimal - objective value 8\n",
      "After Postsolve, objective 8, infeasibilities - dual 0 (0), primal 0 (0)\n",
      "Optimal objective 8 - 1 iterations time 0.002, Presolve 0.00\n",
      "Option for printingOptions changed from normal to all\n",
      "Total time (CPU seconds):       0.00   (Wallclock seconds):       0.01\n",
      "\n",
      "Optimal\n",
      "Optimal value = 11.0\n",
      "x1 = 4.0\n",
      "x2 = 0.0\n"
     ]
    }
   ],
   "source": [
    "prob = LpProblem(name='LP-Sample', sense=LpMaximize)\n",
    "\n",
    "x1 = LpVariable('x1', lowBound=0.0)\n",
    "x2 = LpVariable('x2', lowBound=0.0)\n",
    "\n",
    "prob += 2*x1 + 3+x2\n",
    "prob += x1 + 3*x2 <= 9, 'ineq1'\n",
    "prob += x1 + x2 <= 4, 'ineq2'\n",
    "prob += x1 + x2 <= 10, 'ineq3'\n",
    "print(prob)\n",
    "prob.solve()\n",
    "\n",
    "print(LpStatus[prob.status])\n",
    "print('Optimal value =', value(prob.objective))\n",
    "for v in prob.variables():\n",
    "  print(v.name, '=', value(v))"
   ]
  }
 ],
 "metadata": {
  "interpreter": {
   "hash": "ff5772b32b59bd41fb91f6cc891f8cb03c80235c3628a1f8b61561785c6fc031"
  },
  "kernelspec": {
   "display_name": "Python 3.8.12 ('py38')",
   "language": "python",
   "name": "python3"
  },
  "language_info": {
   "codemirror_mode": {
    "name": "ipython",
    "version": 3
   },
   "file_extension": ".py",
   "mimetype": "text/x-python",
   "name": "python",
   "nbconvert_exporter": "python",
   "pygments_lexer": "ipython3",
   "version": "3.8.12"
  },
  "orig_nbformat": 4
 },
 "nbformat": 4,
 "nbformat_minor": 2
}
