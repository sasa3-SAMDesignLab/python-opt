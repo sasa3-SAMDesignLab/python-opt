{
 "cells": [
  {
   "cell_type": "code",
   "execution_count": 1,
   "metadata": {},
   "outputs": [],
   "source": [
    "import scipy.linalg as linalg\n",
    "import numpy as np"
   ]
  },
  {
   "cell_type": "code",
   "execution_count": 2,
   "metadata": {},
   "outputs": [
    {
     "name": "stdout",
     "output_type": "stream",
     "text": [
      "iterration: 15\n",
      "optimal solution: [1. 1. 1.]\n"
     ]
    }
   ],
   "source": [
    "f = lambda x: sum(100*(x[i+1]-x[i]**2)**2 + (x[i]-1)**2 for i in range(2))\n",
    "nf = lambda x: np.array([-400*x[0]*(-x[0]**2 + x[1]) + 2*x[0] - 2,\n",
    "                         -200*x[0]**2 - 400*x[1]*(-x[1]**2 + x[2]) + 202*x[1] - 2,\n",
    "                         -200*x[1]**2 + 200*x[2]])\n",
    "Hf = lambda x: np.array([[1200*x[0]**2 - 400*x[1] + 2, -400*x[0], 0],\n",
    "                         [-400*x[0], 1200*x[1]**2 - 400*x[2] + 202, -400*x[1]],\n",
    "                         [0, -400*x[1], 200]])\n",
    "x0 = [10,10,10]\n",
    "MEPS = 1.0e-6\n",
    "\n",
    "k=0\n",
    "while linalg.norm(nf(x0)) > MEPS:\n",
    "  d = -np.dot(linalg.inv(Hf(x0)),nf(x0))\n",
    "  x0 = x0+d\n",
    "  k = k+1\n",
    "\n",
    "print('iterration:', k)\n",
    "print('optimal solution:', x0)"
   ]
  },
  {
   "cell_type": "code",
   "execution_count": 3,
   "metadata": {},
   "outputs": [
    {
     "name": "stdout",
     "output_type": "stream",
     "text": [
      "      fun: 9.413838849923437e-05\n",
      " hess_inv: array([[3.61759617, 0.87138061],\n",
      "       [0.87138061, 0.2307465 ]])\n",
      "      jac: array([-9.80799086e-07,  7.44518002e-06])\n",
      "  message: 'Optimization terminated successfully.'\n",
      "     nfev: 48\n",
      "      nit: 13\n",
      "     njev: 16\n",
      "   status: 0\n",
      "  success: True\n",
      "        x: array([3.05059722, 0.50986375])\n"
     ]
    }
   ],
   "source": [
    "from scipy.optimize import minimize\n",
    "f = lambda x: (1.5-x[0]+x[0]*x[1])**2+(2.25-x[0]+x[0]*x[1]**2)**2 + (2.65-x[0]+x[0]*x[1]**3)**2\n",
    "x0 = [0,0]\n",
    "\n",
    "res = minimize(f,x0,method='BFGS')\n",
    "print(res)"
   ]
  },
  {
   "cell_type": "code",
   "execution_count": null,
   "metadata": {},
   "outputs": [],
   "source": []
  }
 ],
 "metadata": {
  "interpreter": {
   "hash": "ff5772b32b59bd41fb91f6cc891f8cb03c80235c3628a1f8b61561785c6fc031"
  },
  "kernelspec": {
   "display_name": "Python 3.8.12 ('py38')",
   "language": "python",
   "name": "python3"
  },
  "language_info": {
   "codemirror_mode": {
    "name": "ipython",
    "version": 3
   },
   "file_extension": ".py",
   "mimetype": "text/x-python",
   "name": "python",
   "nbconvert_exporter": "python",
   "pygments_lexer": "ipython3",
   "version": "3.8.12"
  },
  "orig_nbformat": 4
 },
 "nbformat": 4,
 "nbformat_minor": 2
}
