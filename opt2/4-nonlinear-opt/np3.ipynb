{
 "cells": [
  {
   "cell_type": "code",
   "execution_count": 2,
   "metadata": {},
   "outputs": [
    {
     "name": "stdout",
     "output_type": "stream",
     "text": [
      "     pcost       dcost       gap    pres   dres\n",
      " 0: -4.8105e+00 -6.4700e+00  1e+01  4e-01  3e+00\n",
      " 1: -4.1678e+00 -5.6606e+00  1e+00  3e-17  1e-16\n",
      " 2: -4.5418e+00 -4.6061e+00  6e-02  1e-16  1e-16\n",
      " 3: -4.5465e+00 -4.5472e+00  7e-04  1e-16  3e-16\n",
      " 4: -4.5465e+00 -4.5465e+00  7e-06  1e-16  1e-16\n",
      " 5: -4.5465e+00 -4.5465e+00  7e-08  7e-17  1e-16\n",
      "Optimal solution found.\n",
      "{'x': <2x1 matrix, tc='d'>, 'y': <0x1 matrix, tc='d'>, 's': <4x1 matrix, tc='d'>, 'z': <4x1 matrix, tc='d'>, 'status': 'optimal', 'gap': 7.284650158656872e-08, 'relative gap': 1.6022504205937742e-08, 'primal objective': -4.546511622045492, 'dual objective': -4.5465116948919935, 'primal infeasibility': 6.963874456946462e-17, 'dual infeasibility': 1.2412670766236366e-16, 'primal slack': 1.0081752643394417e-08, 'dual slack': 4.214302890474429e-09, 'iterations': 5}\n",
      "[ 1.19e+00]\n",
      "[ 9.53e-01]\n",
      "\n",
      "-4.546511622045492\n"
     ]
    }
   ],
   "source": [
    "import numpy as np\n",
    "from cvxopt import solvers, matrix\n",
    "\n",
    "Q = matrix(np.array([[2.0, -1.0], [-1.0, 3.0] ]))\n",
    "c=matrix(np.array([-2.0, -4.0]))\n",
    "A=matrix(np.array([[-1.0, 0.0], [0.0, -1.0], [2.0, 3.0], [1.0, 4.0]]))\n",
    "b=matrix(np.array([0.0, 0.0, 6.0, 5.0]))\n",
    "\n",
    "sol=solvers.qp(P=Q,q=c,G=A,h=b)\n",
    "print(sol)\n",
    "print(sol[\"x\"])\n",
    "print(sol[\"primal objective\"])"
   ]
  },
  {
   "cell_type": "code",
   "execution_count": null,
   "metadata": {},
   "outputs": [],
   "source": []
  }
 ],
 "metadata": {
  "interpreter": {
   "hash": "ff5772b32b59bd41fb91f6cc891f8cb03c80235c3628a1f8b61561785c6fc031"
  },
  "kernelspec": {
   "display_name": "Python 3.8.12 ('py38')",
   "language": "python",
   "name": "python3"
  },
  "language_info": {
   "codemirror_mode": {
    "name": "ipython",
    "version": 3
   },
   "file_extension": ".py",
   "mimetype": "text/x-python",
   "name": "python",
   "nbconvert_exporter": "python",
   "pygments_lexer": "ipython3",
   "version": "3.8.12"
  },
  "orig_nbformat": 4
 },
 "nbformat": 4,
 "nbformat_minor": 2
}
