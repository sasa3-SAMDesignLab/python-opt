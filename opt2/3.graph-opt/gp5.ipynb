{
 "cells": [
  {
   "cell_type": "code",
   "execution_count": 1,
   "metadata": {},
   "outputs": [
    {
     "name": "stdout",
     "output_type": "stream",
     "text": [
      "maxflow: 7\n",
      "1 2\n",
      "1 3\n",
      "2 3\n",
      "2 4\n",
      "3 4\n",
      "3 5\n",
      "4 5\n",
      "4 6\n",
      "5 6\n"
     ]
    }
   ],
   "source": [
    "import networkx as nx\n",
    "G = nx.DiGraph()\n",
    "G.add_edge(1,2,capacity=4); G.add_edge(1,3,capacity=5);\n",
    "G.add_edge(2,3,capacity=2); G.add_edge(2,4,capacity=2);\n",
    "G.add_edge(3,4,capacity=2); G.add_edge(3,5,capacity=3);\n",
    "G.add_edge(4,5,capacity=4); G.add_edge(4,6,capacity=3);\n",
    "G.add_edge(5,6,capacity=5);\n",
    "\n",
    "val, flowdict = nx.maximum_flow(G,1,6)\n",
    "print('maxflow:', val)\n",
    "for u,v in G.edges():\n",
    "  print(u,v),':',flowdict[u][v]"
   ]
  },
  {
   "cell_type": "code",
   "execution_count": 2,
   "metadata": {},
   "outputs": [
    {
     "data": {
      "text/plain": [
       "(7, ({1, 2, 3}, {4, 5, 6}))"
      ]
     },
     "execution_count": 2,
     "metadata": {},
     "output_type": "execute_result"
    }
   ],
   "source": [
    "nx.minimum_cut(G,1,6)"
   ]
  },
  {
   "cell_type": "code",
   "execution_count": 3,
   "metadata": {},
   "outputs": [
    {
     "name": "stdout",
     "output_type": "stream",
     "text": [
      "{'a': {'b': 3, 'c': 5}, 'b': {'d': 6}, 'c': {'d': 4, 'b': 3}, 'd': {}}\n"
     ]
    }
   ],
   "source": [
    "import networkx as nx\n",
    "G = nx.DiGraph()\n",
    "G.add_node('a', demand = -8); G.add_node('b', demand = 0);\n",
    "G.add_node('c', demand = -2); G.add_node('d', demand = 10);\n",
    "G.add_edge('a', 'b', weight = 3, capacity = 3)\n",
    "G.add_edge('a', 'c', weight = 6, capacity = 10)\n",
    "G.add_edge('b', 'd', weight = 1, capacity = 6)\n",
    "G.add_edge('c', 'd', weight = 4, capacity = 10)\n",
    "G.add_edge('c', 'b', weight = 2, capacity = 5)\n",
    "flowDict = nx.min_cost_flow(G)\n",
    "print(flowDict)"
   ]
  }
 ],
 "metadata": {
  "interpreter": {
   "hash": "ff5772b32b59bd41fb91f6cc891f8cb03c80235c3628a1f8b61561785c6fc031"
  },
  "kernelspec": {
   "display_name": "Python 3.8.12 ('py38')",
   "language": "python",
   "name": "python3"
  },
  "language_info": {
   "codemirror_mode": {
    "name": "ipython",
    "version": 3
   },
   "file_extension": ".py",
   "mimetype": "text/x-python",
   "name": "python",
   "nbconvert_exporter": "python",
   "pygments_lexer": "ipython3",
   "version": "3.8.12"
  },
  "orig_nbformat": 4
 },
 "nbformat": 4,
 "nbformat_minor": 2
}
