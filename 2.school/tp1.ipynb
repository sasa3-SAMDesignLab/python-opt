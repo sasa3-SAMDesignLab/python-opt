{
 "cells": [
  {
   "cell_type": "code",
   "execution_count": 1,
   "metadata": {},
   "outputs": [],
   "source": [
    "import pandas as pd\n",
    "s_df = pd.read_csv('students.csv')"
   ]
  },
  {
   "cell_type": "code",
   "execution_count": 2,
   "metadata": {},
   "outputs": [
    {
     "data": {
      "text/plain": [
       "318"
      ]
     },
     "execution_count": 2,
     "metadata": {},
     "output_type": "execute_result"
    }
   ],
   "source": [
    "len(s_df)"
   ]
  },
  {
   "cell_type": "code",
   "execution_count": 3,
   "metadata": {},
   "outputs": [
    {
     "data": {
      "text/html": [
       "<div>\n",
       "<style scoped>\n",
       "    .dataframe tbody tr th:only-of-type {\n",
       "        vertical-align: middle;\n",
       "    }\n",
       "\n",
       "    .dataframe tbody tr th {\n",
       "        vertical-align: top;\n",
       "    }\n",
       "\n",
       "    .dataframe thead th {\n",
       "        text-align: right;\n",
       "    }\n",
       "</style>\n",
       "<table border=\"1\" class=\"dataframe\">\n",
       "  <thead>\n",
       "    <tr style=\"text-align: right;\">\n",
       "      <th></th>\n",
       "      <th>student_id</th>\n",
       "      <th>gender</th>\n",
       "      <th>leader_flag</th>\n",
       "      <th>support_flag</th>\n",
       "      <th>score</th>\n",
       "    </tr>\n",
       "  </thead>\n",
       "  <tbody>\n",
       "    <tr>\n",
       "      <th>0</th>\n",
       "      <td>1</td>\n",
       "      <td>0</td>\n",
       "      <td>0</td>\n",
       "      <td>0</td>\n",
       "      <td>335</td>\n",
       "    </tr>\n",
       "    <tr>\n",
       "      <th>1</th>\n",
       "      <td>2</td>\n",
       "      <td>1</td>\n",
       "      <td>0</td>\n",
       "      <td>0</td>\n",
       "      <td>379</td>\n",
       "    </tr>\n",
       "    <tr>\n",
       "      <th>2</th>\n",
       "      <td>3</td>\n",
       "      <td>0</td>\n",
       "      <td>0</td>\n",
       "      <td>0</td>\n",
       "      <td>350</td>\n",
       "    </tr>\n",
       "    <tr>\n",
       "      <th>3</th>\n",
       "      <td>4</td>\n",
       "      <td>0</td>\n",
       "      <td>0</td>\n",
       "      <td>0</td>\n",
       "      <td>301</td>\n",
       "    </tr>\n",
       "    <tr>\n",
       "      <th>4</th>\n",
       "      <td>5</td>\n",
       "      <td>1</td>\n",
       "      <td>0</td>\n",
       "      <td>0</td>\n",
       "      <td>317</td>\n",
       "    </tr>\n",
       "  </tbody>\n",
       "</table>\n",
       "</div>"
      ],
      "text/plain": [
       "   student_id  gender  leader_flag  support_flag  score\n",
       "0           1       0            0             0    335\n",
       "1           2       1            0             0    379\n",
       "2           3       0            0             0    350\n",
       "3           4       0            0             0    301\n",
       "4           5       1            0             0    317"
      ]
     },
     "execution_count": 3,
     "metadata": {},
     "output_type": "execute_result"
    }
   ],
   "source": [
    "s_df.head()"
   ]
  },
  {
   "cell_type": "code",
   "execution_count": 4,
   "metadata": {},
   "outputs": [
    {
     "data": {
      "text/plain": [
       "0        1\n",
       "1        2\n",
       "2        3\n",
       "3        4\n",
       "4        5\n",
       "      ... \n",
       "313    314\n",
       "314    315\n",
       "315    316\n",
       "316    317\n",
       "317    318\n",
       "Name: student_id, Length: 318, dtype: int64"
      ]
     },
     "execution_count": 4,
     "metadata": {},
     "output_type": "execute_result"
    }
   ],
   "source": [
    "s_df['student_id']"
   ]
  },
  {
   "cell_type": "code",
   "execution_count": 5,
   "metadata": {},
   "outputs": [
    {
     "data": {
      "text/plain": [
       "318"
      ]
     },
     "execution_count": 5,
     "metadata": {},
     "output_type": "execute_result"
    }
   ],
   "source": [
    "s_df['student_id'].max()"
   ]
  },
  {
   "cell_type": "code",
   "execution_count": 6,
   "metadata": {},
   "outputs": [
    {
     "data": {
      "text/plain": [
       "1"
      ]
     },
     "execution_count": 6,
     "metadata": {},
     "output_type": "execute_result"
    }
   ],
   "source": [
    "s_df['student_id'].min()"
   ]
  },
  {
   "cell_type": "code",
   "execution_count": 7,
   "metadata": {},
   "outputs": [
    {
     "data": {
      "text/plain": [
       "True"
      ]
     },
     "execution_count": 7,
     "metadata": {},
     "output_type": "execute_result"
    }
   ],
   "source": [
    "set(range(1,319)) == set(s_df['student_id'].tolist())"
   ]
  },
  {
   "cell_type": "code",
   "execution_count": 8,
   "metadata": {},
   "outputs": [
    {
     "data": {
      "text/plain": [
       "0    160\n",
       "1    158\n",
       "Name: gender, dtype: int64"
      ]
     },
     "execution_count": 8,
     "metadata": {},
     "output_type": "execute_result"
    }
   ],
   "source": [
    "s_df['gender'].value_counts()"
   ]
  },
  {
   "cell_type": "code",
   "execution_count": 9,
   "metadata": {},
   "outputs": [
    {
     "data": {
      "text/plain": [
       "count    318.000000\n",
       "mean     303.644654\n",
       "std       65.179995\n",
       "min       88.000000\n",
       "25%      261.000000\n",
       "50%      310.000000\n",
       "75%      350.000000\n",
       "max      485.000000\n",
       "Name: score, dtype: float64"
      ]
     },
     "execution_count": 9,
     "metadata": {},
     "output_type": "execute_result"
    }
   ],
   "source": [
    "s_df['score'].describe()"
   ]
  },
  {
   "cell_type": "code",
   "execution_count": 10,
   "metadata": {},
   "outputs": [
    {
     "name": "stderr",
     "output_type": "stream",
     "text": [
      "Fontconfig warning: ignoring UTF-8: not a valid region tag\n"
     ]
    },
    {
     "data": {
      "text/plain": [
       "<AxesSubplot:>"
      ]
     },
     "execution_count": 10,
     "metadata": {},
     "output_type": "execute_result"
    },
    {
     "data": {
      "image/png": "[encoded data removed]",
      "text/plain": [
       "<Figure size 432x288 with 1 Axes>"
      ]
     },
     "metadata": {
      "needs_background": "light"
     },
     "output_type": "display_data"
    }
   ],
   "source": [
    "s_df['score'].hist()"
   ]
  },
  {
   "cell_type": "code",
   "execution_count": 11,
   "metadata": {},
   "outputs": [
    {
     "data": {
      "text/plain": [
       "0    314\n",
       "1      4\n",
       "Name: support_flag, dtype: int64"
      ]
     },
     "execution_count": 11,
     "metadata": {},
     "output_type": "execute_result"
    }
   ],
   "source": [
    "s_df['support_flag'].value_counts()"
   ]
  },
  {
   "cell_type": "code",
   "execution_count": 90,
   "metadata": {},
   "outputs": [
    {
     "name": "stdout",
     "output_type": "stream",
     "text": [
      "3\n"
     ]
    }
   ],
   "source": [
    "s_pair_df = pd.read_csv('student_pairs.csv')\n",
    "print(len(s_pair_df))"
   ]
  },
  {
   "cell_type": "code",
   "execution_count": 13,
   "metadata": {},
   "outputs": [
    {
     "data": {
      "text/html": [
       "<div>\n",
       "<style scoped>\n",
       "    .dataframe tbody tr th:only-of-type {\n",
       "        vertical-align: middle;\n",
       "    }\n",
       "\n",
       "    .dataframe tbody tr th {\n",
       "        vertical-align: top;\n",
       "    }\n",
       "\n",
       "    .dataframe thead th {\n",
       "        text-align: right;\n",
       "    }\n",
       "</style>\n",
       "<table border=\"1\" class=\"dataframe\">\n",
       "  <thead>\n",
       "    <tr style=\"text-align: right;\">\n",
       "      <th></th>\n",
       "      <th>student_id1</th>\n",
       "      <th>student_id2</th>\n",
       "    </tr>\n",
       "  </thead>\n",
       "  <tbody>\n",
       "    <tr>\n",
       "      <th>0</th>\n",
       "      <td>118</td>\n",
       "      <td>189</td>\n",
       "    </tr>\n",
       "    <tr>\n",
       "      <th>1</th>\n",
       "      <td>72</td>\n",
       "      <td>50</td>\n",
       "    </tr>\n",
       "    <tr>\n",
       "      <th>2</th>\n",
       "      <td>314</td>\n",
       "      <td>233</td>\n",
       "    </tr>\n",
       "  </tbody>\n",
       "</table>\n",
       "</div>"
      ],
      "text/plain": [
       "   student_id1  student_id2\n",
       "0          118          189\n",
       "1           72           50\n",
       "2          314          233"
      ]
     },
     "execution_count": 13,
     "metadata": {},
     "output_type": "execute_result"
    }
   ],
   "source": [
    "s_pair_df.head()"
   ]
  },
  {
   "cell_type": "code",
   "execution_count": 91,
   "metadata": {},
   "outputs": [],
   "source": [
    "import pulp"
   ]
  },
  {
   "cell_type": "code",
   "execution_count": 92,
   "metadata": {},
   "outputs": [],
   "source": [
    "prob = pulp.LpProblem('ClassAssignmentProblem', pulp.LpMaximize)"
   ]
  },
  {
   "cell_type": "code",
   "execution_count": 93,
   "metadata": {},
   "outputs": [
    {
     "name": "stdout",
     "output_type": "stream",
     "text": [
      "[1, 2, 3, 4, 5, 6, 7, 8, 9, 10, 11, 12, 13, 14, 15, 16, 17, 18, 19, 20, 21, 22, 23, 24, 25, 26, 27, 28, 29, 30, 31, 32, 33, 34, 35, 36, 37, 38, 39, 40, 41, 42, 43, 44, 45, 46, 47, 48, 49, 50, 51, 52, 53, 54, 55, 56, 57, 58, 59, 60, 61, 62, 63, 64, 65, 66, 67, 68, 69, 70, 71, 72, 73, 74, 75, 76, 77, 78, 79, 80, 81, 82, 83, 84, 85, 86, 87, 88, 89, 90, 91, 92, 93, 94, 95, 96, 97, 98, 99, 100, 101, 102, 103, 104, 105, 106, 107, 108, 109, 110, 111, 112, 113, 114, 115, 116, 117, 118, 119, 120, 121, 122, 123, 124, 125, 126, 127, 128, 129, 130, 131, 132, 133, 134, 135, 136, 137, 138, 139, 140, 141, 142, 143, 144, 145, 146, 147, 148, 149, 150, 151, 152, 153, 154, 155, 156, 157, 158, 159, 160, 161, 162, 163, 164, 165, 166, 167, 168, 169, 170, 171, 172, 173, 174, 175, 176, 177, 178, 179, 180, 181, 182, 183, 184, 185, 186, 187, 188, 189, 190, 191, 192, 193, 194, 195, 196, 197, 198, 199, 200, 201, 202, 203, 204, 205, 206, 207, 208, 209, 210, 211, 212, 213, 214, 215, 216, 217, 218, 219, 220, 221, 222, 223, 224, 225, 226, 227, 228, 229, 230, 231, 232, 233, 234, 235, 236, 237, 238, 239, 240, 241, 242, 243, 244, 245, 246, 247, 248, 249, 250, 251, 252, 253, 254, 255, 256, 257, 258, 259, 260, 261, 262, 263, 264, 265, 266, 267, 268, 269, 270, 271, 272, 273, 274, 275, 276, 277, 278, 279, 280, 281, 282, 283, 284, 285, 286, 287, 288, 289, 290, 291, 292, 293, 294, 295, 296, 297, 298, 299, 300, 301, 302, 303, 304, 305, 306, 307, 308, 309, 310, 311, 312, 313, 314, 315, 316, 317, 318]\n"
     ]
    }
   ],
   "source": [
    "S = s_df['student_id'].tolist()\n",
    "print(S)"
   ]
  },
  {
   "cell_type": "code",
   "execution_count": 94,
   "metadata": {},
   "outputs": [],
   "source": [
    "C = ['A', 'B', 'C', 'D', 'E', 'F', 'G', 'H']"
   ]
  },
  {
   "cell_type": "code",
   "execution_count": 95,
   "metadata": {},
   "outputs": [
    {
     "name": "stdout",
     "output_type": "stream",
     "text": [
      "[(1, 'A'), (1, 'B'), (1, 'C'), (1, 'D'), (1, 'E'), (1, 'F'), (1, 'G'), (1, 'H'), (2, 'A'), (2, 'B'), (2, 'C'), (2, 'D'), (2, 'E'), (2, 'F'), (2, 'G'), (2, 'H'), (3, 'A'), (3, 'B'), (3, 'C'), (3, 'D'), (3, 'E'), (3, 'F'), (3, 'G'), (3, 'H'), (4, 'A'), (4, 'B'), (4, 'C'), (4, 'D'), (4, 'E'), (4, 'F')]\n"
     ]
    }
   ],
   "source": [
    "SC = [(s,c) for s in S for c in C]\n",
    "print(SC[:30])\n",
    "\n",
    "x = pulp.LpVariable.dicts('x', SC, cat='Binary')"
   ]
  },
  {
   "cell_type": "code",
   "execution_count": 96,
   "metadata": {},
   "outputs": [],
   "source": [
    "for s in S:\n",
    "  prob += pulp.lpSum([x[s,c] for c in C]) == 1"
   ]
  },
  {
   "cell_type": "code",
   "execution_count": 97,
   "metadata": {},
   "outputs": [],
   "source": [
    "for c in C:\n",
    "  prob += pulp.lpSum([x[s,c] for s in S]) >= 39\n",
    "  prob += pulp.lpSum([x[s,c] for s in S]) <= 40"
   ]
  },
  {
   "cell_type": "code",
   "execution_count": 98,
   "metadata": {},
   "outputs": [],
   "source": [
    "S_male = [row.student_id for row in s_df.itertuples() if row.gender == 1]\n",
    "\n",
    "S_female = [row.student_id for row in s_df.itertuples() if row.gender == 0]"
   ]
  },
  {
   "cell_type": "code",
   "execution_count": 99,
   "metadata": {},
   "outputs": [],
   "source": [
    "for c in C:\n",
    "  prob += pulp.lpSum([x[s,c] for s in S_male]) <= 20\n",
    "  prob += pulp.lpSum([x[s,c] for s in S_female]) <= 20"
   ]
  },
  {
   "cell_type": "code",
   "execution_count": 100,
   "metadata": {},
   "outputs": [
    {
     "name": "stdout",
     "output_type": "stream",
     "text": [
      "303.6446540880503\n"
     ]
    }
   ],
   "source": [
    "score = {row.student_id:row.score for row in s_df.itertuples()}\n",
    "\n",
    "score_mean = s_df['score'].mean()\n",
    "print(score_mean)\n",
    "\n",
    "for c in C:\n",
    "  prob += pulp.lpSum([x[s,c] * score[s] for s in S]) >= (score_mean-10)*pulp.lpSum([x[s,c] for s in S])\n",
    "  prob += pulp.lpSum([x[s,c] * score[s] for s in S]) <= (score_mean+10)*pulp.lpSum([x[s,c] for s in S])"
   ]
  },
  {
   "cell_type": "code",
   "execution_count": 101,
   "metadata": {},
   "outputs": [],
   "source": [
    "S_leader = [row.student_id for row in s_df.itertuples() if row.leader_flag == 1]\n",
    "\n",
    "for c in C:\n",
    "  prob += pulp.lpSum([x[s,c] for s in S_leader]) >= 2"
   ]
  },
  {
   "cell_type": "code",
   "execution_count": 102,
   "metadata": {},
   "outputs": [],
   "source": [
    "S_support = [row.student_id for row in s_df.itertuples() if row.support_flag == 1]\n",
    "\n",
    "for c in C:\n",
    "  prob += pulp.lpSum([x[s,c] for s in S_support]) <= 1"
   ]
  },
  {
   "cell_type": "code",
   "execution_count": 103,
   "metadata": {},
   "outputs": [],
   "source": [
    "SS = [(row.student_id1, row.student_id2) for row in s_pair_df.itertuples()]\n",
    "\n",
    "for s1, s2 in SS:\n",
    "  for c in C:\n",
    "    prob += x[s1,c] + x[s2,c] <= 1"
   ]
  },
  {
   "cell_type": "code",
   "execution_count": 104,
   "metadata": {},
   "outputs": [
    {
     "name": "stdout",
     "output_type": "stream",
     "text": [
      "GLPSOL: GLPK LP/MIP Solver, v4.65\n",
      "Parameter(s) specified in the command line:\n",
      " --cpxlp /var/folders/f1/dg38sdvs7tsgxf3hbspgk1vc0000gn/T/5135557eadb24a748692f332d051eab8-pulp.lp\n",
      " -o /var/folders/f1/dg38sdvs7tsgxf3hbspgk1vc0000gn/T/5135557eadb24a748692f332d051eab8-pulp.sol\n",
      "Reading problem data from '/var/folders/f1/dg38sdvs7tsgxf3hbspgk1vc0000gn/T/5135557eadb24a748692f332d051eab8-pulp.lp'...\n",
      "406 rows, 2545 columns, 15480 non-zeros\n",
      "2544 integer variables, all of which are binary\n",
      "7332 lines were read\n",
      "GLPK Integer Optimizer, v4.65\n",
      "406 rows, 2545 columns, 15480 non-zeros\n",
      "2544 integer variables, all of which are binary\n",
      "Preprocessing...\n",
      "406 rows, 2544 columns, 15480 non-zeros\n",
      "2544 integer variables, all of which are binary\n",
      "Scaling...\n",
      " A: min|aij| =  3.553e-01  max|aij| =  2.256e+02  ratio =  6.350e+02\n",
      "GM: min|aij| =  1.528e-01  max|aij| =  6.545e+00  ratio =  4.283e+01\n",
      "EQ: min|aij| =  2.335e-02  max|aij| =  1.000e+00  ratio =  4.283e+01\n",
      "2N: min|aij| =  2.015e-02  max|aij| =  1.290e+00  ratio =  6.405e+01\n",
      "Constructing initial basis...\n",
      "Size of triangular part is 406\n",
      "Solving LP relaxation...\n",
      "GLPK Simplex Optimizer, v4.65\n",
      "406 rows, 2544 columns, 15480 non-zeros\n",
      "      0: obj =  -0.000000000e+00 inf =   1.814e+03 (21)\n",
      "    695: obj =  -0.000000000e+00 inf =   1.434e-12 (0) 1\n",
      "OPTIMAL LP SOLUTION FOUND\n",
      "Integer optimization begins...\n",
      "Long-step dual simplex will be used\n",
      "+   695: mip =     not found yet <=              +inf        (1; 0)\n",
      "Solution found by heuristic: 0\n",
      "+  1740: mip =   0.000000000e+00 <=     tree is empty   0.0% (0; 383)\n",
      "INTEGER OPTIMAL SOLUTION FOUND\n",
      "Time used:   0.5 secs\n",
      "Memory used: 4.2 Mb (4367646 bytes)\n",
      "Writing MIP solution to '/var/folders/f1/dg38sdvs7tsgxf3hbspgk1vc0000gn/T/5135557eadb24a748692f332d051eab8-pulp.sol'...\n",
      "1\n",
      "Optimal\n"
     ]
    }
   ],
   "source": [
    "status = prob.solve()\n",
    "print(status)\n",
    "print(pulp.LpStatus[status])"
   ]
  },
  {
   "cell_type": "code",
   "execution_count": 105,
   "metadata": {},
   "outputs": [
    {
     "name": "stdout",
     "output_type": "stream",
     "text": [
      "Class: A\n",
      "Num: 39\n",
      "Student: [9, 10, 25, 26, 34, 35, 47, 56, 73, 75, 98, 102, 103, 106, 108, 114, 118, 122, 123, 126, 139, 143, 156, 176, 199, 201, 216, 235, 248, 257, 270, 278, 280, 284, 288, 294, 297, 301, 314]\n",
      "\n",
      "Class: B\n",
      "Num: 40\n",
      "Student: [4, 11, 17, 29, 44, 50, 89, 100, 110, 111, 117, 120, 127, 132, 135, 144, 147, 150, 157, 188, 189, 190, 212, 218, 230, 238, 239, 241, 245, 252, 262, 269, 271, 274, 281, 282, 287, 302, 306, 309]\n",
      "\n",
      "Class: C\n",
      "Num: 40\n",
      "Student: [14, 31, 36, 37, 54, 58, 59, 61, 69, 72, 77, 78, 81, 86, 112, 119, 133, 142, 160, 161, 171, 186, 187, 192, 205, 209, 213, 217, 229, 236, 253, 256, 266, 273, 290, 295, 304, 310, 312, 318]\n",
      "\n",
      "Class: D\n",
      "Num: 40\n",
      "Student: [2, 16, 21, 33, 38, 63, 68, 71, 85, 97, 109, 134, 140, 146, 158, 159, 168, 177, 180, 194, 198, 210, 220, 221, 225, 231, 240, 242, 246, 254, 268, 275, 277, 279, 283, 286, 292, 293, 311, 317]\n",
      "\n",
      "Class: E\n",
      "Num: 40\n",
      "Student: [5, 6, 20, 22, 24, 28, 30, 32, 42, 53, 60, 70, 79, 92, 94, 105, 128, 129, 131, 154, 169, 173, 175, 178, 181, 182, 200, 204, 208, 215, 222, 233, 251, 261, 264, 285, 289, 299, 303, 307]\n",
      "\n",
      "Class: F\n",
      "Num: 39\n",
      "Student: [3, 7, 18, 27, 41, 45, 46, 52, 55, 62, 66, 67, 80, 82, 95, 96, 107, 113, 115, 121, 125, 130, 151, 152, 153, 164, 172, 183, 207, 214, 223, 228, 249, 255, 260, 265, 296, 300, 316]\n",
      "\n",
      "Class: G\n",
      "Num: 40\n",
      "Student: [1, 8, 12, 13, 15, 23, 40, 43, 48, 49, 57, 74, 91, 93, 141, 149, 155, 163, 166, 170, 174, 184, 191, 195, 196, 211, 219, 226, 227, 232, 234, 244, 247, 250, 258, 263, 276, 305, 308, 315]\n",
      "\n",
      "Class: H\n",
      "Num: 40\n",
      "Student: [19, 39, 51, 64, 65, 76, 83, 84, 87, 88, 90, 99, 101, 104, 116, 124, 136, 137, 138, 145, 148, 162, 165, 167, 179, 185, 193, 197, 202, 203, 206, 224, 237, 243, 259, 267, 272, 291, 298, 313]\n",
      "\n"
     ]
    }
   ],
   "source": [
    "C2Ss = {}\n",
    "for c in C:\n",
    "  C2Ss[c] = [s for s in S if x[s,c].value()==1]\n",
    "\n",
    "for c, Ss in C2Ss.items():\n",
    "  print('Class:',c)\n",
    "  print('Num:', len(Ss))\n",
    "  print('Student:', Ss)\n",
    "  print()"
   ]
  },
  {
   "cell_type": "code",
   "execution_count": 116,
   "metadata": {},
   "outputs": [],
   "source": [
    "for s in S:\n",
    "  assingned_class = [x[s,c].value() for c in C if x[s,c].value()==1]\n",
    "\n",
    "  if len(assingned_class) != 1:\n",
    "    print('error:', s, assingned_class)"
   ]
  },
  {
   "cell_type": "code",
   "execution_count": 107,
   "metadata": {},
   "outputs": [
    {
     "data": {
      "text/html": [
       "<div>\n",
       "<style scoped>\n",
       "    .dataframe tbody tr th:only-of-type {\n",
       "        vertical-align: middle;\n",
       "    }\n",
       "\n",
       "    .dataframe tbody tr th {\n",
       "        vertical-align: top;\n",
       "    }\n",
       "\n",
       "    .dataframe thead th {\n",
       "        text-align: right;\n",
       "    }\n",
       "</style>\n",
       "<table border=\"1\" class=\"dataframe\">\n",
       "  <thead>\n",
       "    <tr style=\"text-align: right;\">\n",
       "      <th></th>\n",
       "      <th>student_id</th>\n",
       "      <th>gender</th>\n",
       "      <th>leader_flag</th>\n",
       "      <th>support_flag</th>\n",
       "      <th>score</th>\n",
       "      <th>assigned_class</th>\n",
       "    </tr>\n",
       "  </thead>\n",
       "  <tbody>\n",
       "    <tr>\n",
       "      <th>0</th>\n",
       "      <td>1</td>\n",
       "      <td>0</td>\n",
       "      <td>0</td>\n",
       "      <td>0</td>\n",
       "      <td>335</td>\n",
       "      <td>G</td>\n",
       "    </tr>\n",
       "    <tr>\n",
       "      <th>1</th>\n",
       "      <td>2</td>\n",
       "      <td>1</td>\n",
       "      <td>0</td>\n",
       "      <td>0</td>\n",
       "      <td>379</td>\n",
       "      <td>D</td>\n",
       "    </tr>\n",
       "    <tr>\n",
       "      <th>2</th>\n",
       "      <td>3</td>\n",
       "      <td>0</td>\n",
       "      <td>0</td>\n",
       "      <td>0</td>\n",
       "      <td>350</td>\n",
       "      <td>F</td>\n",
       "    </tr>\n",
       "    <tr>\n",
       "      <th>3</th>\n",
       "      <td>4</td>\n",
       "      <td>0</td>\n",
       "      <td>0</td>\n",
       "      <td>0</td>\n",
       "      <td>301</td>\n",
       "      <td>B</td>\n",
       "    </tr>\n",
       "    <tr>\n",
       "      <th>4</th>\n",
       "      <td>5</td>\n",
       "      <td>1</td>\n",
       "      <td>0</td>\n",
       "      <td>0</td>\n",
       "      <td>317</td>\n",
       "      <td>E</td>\n",
       "    </tr>\n",
       "  </tbody>\n",
       "</table>\n",
       "</div>"
      ],
      "text/plain": [
       "   student_id  gender  leader_flag  support_flag  score assigned_class\n",
       "0           1       0            0             0    335              G\n",
       "1           2       1            0             0    379              D\n",
       "2           3       0            0             0    350              F\n",
       "3           4       0            0             0    301              B\n",
       "4           5       1            0             0    317              E"
      ]
     },
     "execution_count": 107,
     "metadata": {},
     "output_type": "execute_result"
    }
   ],
   "source": [
    "result_df = s_df.copy()\n",
    "\n",
    "S2C = {s:c for s in S for c in C if x[s,c].value()==1}\n",
    "\n",
    "result_df['assigned_class'] = result_df['student_id'].map(S2C)\n",
    "result_df.head(5)"
   ]
  },
  {
   "cell_type": "code",
   "execution_count": 108,
   "metadata": {},
   "outputs": [
    {
     "data": {
      "text/plain": [
       "assigned_class\n",
       "A    39\n",
       "B    40\n",
       "C    40\n",
       "D    40\n",
       "E    40\n",
       "F    39\n",
       "G    40\n",
       "H    40\n",
       "Name: student_id, dtype: int64"
      ]
     },
     "execution_count": 108,
     "metadata": {},
     "output_type": "execute_result"
    }
   ],
   "source": [
    "result_df.groupby('assigned_class')['student_id'].count()"
   ]
  },
  {
   "cell_type": "code",
   "execution_count": 109,
   "metadata": {},
   "outputs": [
    {
     "data": {
      "text/plain": [
       "assigned_class  gender\n",
       "A               0         20\n",
       "                1         19\n",
       "B               0         20\n",
       "                1         20\n",
       "C               0         20\n",
       "                1         20\n",
       "D               0         20\n",
       "                1         20\n",
       "E               0         20\n",
       "                1         20\n",
       "F               0         20\n",
       "                1         19\n",
       "G               0         20\n",
       "                1         20\n",
       "H               0         20\n",
       "                1         20\n",
       "Name: student_id, dtype: int64"
      ]
     },
     "execution_count": 109,
     "metadata": {},
     "output_type": "execute_result"
    }
   ],
   "source": [
    "result_df.groupby(['assigned_class', 'gender'])['student_id'].count()"
   ]
  },
  {
   "cell_type": "code",
   "execution_count": 110,
   "metadata": {},
   "outputs": [
    {
     "data": {
      "text/plain": [
       "assigned_class\n",
       "A    312.333333\n",
       "B    295.475000\n",
       "C    293.650000\n",
       "D    313.600000\n",
       "E    312.950000\n",
       "F    294.538462\n",
       "G    312.550000\n",
       "H    294.050000\n",
       "Name: score, dtype: float64"
      ]
     },
     "execution_count": 110,
     "metadata": {},
     "output_type": "execute_result"
    }
   ],
   "source": [
    "result_df.groupby('assigned_class')['score'].mean()"
   ]
  },
  {
   "cell_type": "code",
   "execution_count": 111,
   "metadata": {},
   "outputs": [
    {
     "data": {
      "text/plain": [
       "assigned_class\n",
       "A    2\n",
       "B    2\n",
       "C    2\n",
       "D    2\n",
       "E    2\n",
       "F    2\n",
       "G    3\n",
       "H    2\n",
       "Name: leader_flag, dtype: int64"
      ]
     },
     "execution_count": 111,
     "metadata": {},
     "output_type": "execute_result"
    }
   ],
   "source": [
    "result_df.groupby('assigned_class')['leader_flag'].sum()"
   ]
  },
  {
   "cell_type": "code",
   "execution_count": 112,
   "metadata": {},
   "outputs": [
    {
     "data": {
      "text/plain": [
       "assigned_class\n",
       "A    1\n",
       "B    0\n",
       "C    1\n",
       "D    0\n",
       "E    0\n",
       "F    1\n",
       "G    1\n",
       "H    0\n",
       "Name: support_flag, dtype: int64"
      ]
     },
     "execution_count": 112,
     "metadata": {},
     "output_type": "execute_result"
    }
   ],
   "source": [
    "result_df.groupby(['assigned_class'])['support_flag'].sum()"
   ]
  },
  {
   "cell_type": "code",
   "execution_count": 113,
   "metadata": {},
   "outputs": [
    {
     "name": "stdout",
     "output_type": "stream",
     "text": [
      "case: 0\n",
      "s1:118-A\n",
      "s2:189-B\n",
      "\n",
      "case: 1\n",
      "s1:72-C\n",
      "s2:50-B\n",
      "\n",
      "case: 2\n",
      "s1:314-A\n",
      "s2:233-E\n",
      "\n"
     ]
    }
   ],
   "source": [
    "for i, (s1, s2) in enumerate(SS):\n",
    "  print('case:', i)\n",
    "  c1 = S2C[s1]\n",
    "  c2 = S2C[s2]\n",
    "  print('s1:{}-{}'.format(s1,c1))\n",
    "  print('s2:{}-{}'.format(s2,c2))\n",
    "  print('')"
   ]
  },
  {
   "cell_type": "code",
   "execution_count": 114,
   "metadata": {},
   "outputs": [],
   "source": [
    "import matplotlib.pyplot as plt"
   ]
  },
  {
   "cell_type": "code",
   "execution_count": 120,
   "metadata": {},
   "outputs": [
    {
     "data": {
      "image/png": "[encoded data removed]",
      "text/plain": [
       "<Figure size 864x1440 with 8 Axes>"
      ]
     },
     "metadata": {
      "needs_background": "light"
     },
     "output_type": "display_data"
    }
   ],
   "source": [
    "fig = plt.figure(figsize=(12,20))\n",
    "for i, c in enumerate(C):\n",
    "  cls_df = result_df[result_df['assigned_class']==c]\n",
    "  ax = fig.add_subplot(4\n",
    "                       , 2\n",
    "                       , i+1\n",
    "                       , xlabel='score'\n",
    "                       , ylabel='num'\n",
    "                       , xlim=(0, 500)\n",
    "                       , ylim=(0, 20)\n",
    "                       , title='Class:{:s}'.format(c)\n",
    "                       )\n",
    "  ax.hist(cls_df['score'], bins=range(0,500,40))"
   ]
  },
  {
   "cell_type": "code",
   "execution_count": 121,
   "metadata": {},
   "outputs": [
    {
     "data": {
      "text/html": [
       "<div>\n",
       "<style scoped>\n",
       "    .dataframe tbody tr th:only-of-type {\n",
       "        vertical-align: middle;\n",
       "    }\n",
       "\n",
       "    .dataframe tbody tr th {\n",
       "        vertical-align: top;\n",
       "    }\n",
       "\n",
       "    .dataframe thead th {\n",
       "        text-align: right;\n",
       "    }\n",
       "</style>\n",
       "<table border=\"1\" class=\"dataframe\">\n",
       "  <thead>\n",
       "    <tr style=\"text-align: right;\">\n",
       "      <th></th>\n",
       "      <th>student_id</th>\n",
       "      <th>gender</th>\n",
       "      <th>leader_flag</th>\n",
       "      <th>support_flag</th>\n",
       "      <th>score</th>\n",
       "      <th>score_rank</th>\n",
       "      <th>init_assigned_class</th>\n",
       "    </tr>\n",
       "  </thead>\n",
       "  <tbody>\n",
       "    <tr>\n",
       "      <th>0</th>\n",
       "      <td>1</td>\n",
       "      <td>0</td>\n",
       "      <td>0</td>\n",
       "      <td>0</td>\n",
       "      <td>335</td>\n",
       "      <td>109.0</td>\n",
       "      <td>F</td>\n",
       "    </tr>\n",
       "    <tr>\n",
       "      <th>1</th>\n",
       "      <td>2</td>\n",
       "      <td>1</td>\n",
       "      <td>0</td>\n",
       "      <td>0</td>\n",
       "      <td>379</td>\n",
       "      <td>38.0</td>\n",
       "      <td>G</td>\n",
       "    </tr>\n",
       "    <tr>\n",
       "      <th>2</th>\n",
       "      <td>3</td>\n",
       "      <td>0</td>\n",
       "      <td>0</td>\n",
       "      <td>0</td>\n",
       "      <td>350</td>\n",
       "      <td>79.0</td>\n",
       "      <td>H</td>\n",
       "    </tr>\n",
       "    <tr>\n",
       "      <th>3</th>\n",
       "      <td>4</td>\n",
       "      <td>0</td>\n",
       "      <td>0</td>\n",
       "      <td>0</td>\n",
       "      <td>301</td>\n",
       "      <td>172.0</td>\n",
       "      <td>E</td>\n",
       "    </tr>\n",
       "    <tr>\n",
       "      <th>4</th>\n",
       "      <td>5</td>\n",
       "      <td>1</td>\n",
       "      <td>0</td>\n",
       "      <td>0</td>\n",
       "      <td>317</td>\n",
       "      <td>147.0</td>\n",
       "      <td>D</td>\n",
       "    </tr>\n",
       "  </tbody>\n",
       "</table>\n",
       "</div>"
      ],
      "text/plain": [
       "   student_id  gender  leader_flag  support_flag  score  score_rank  \\\n",
       "0           1       0            0             0    335       109.0   \n",
       "1           2       1            0             0    379        38.0   \n",
       "2           3       0            0             0    350        79.0   \n",
       "3           4       0            0             0    301       172.0   \n",
       "4           5       1            0             0    317       147.0   \n",
       "\n",
       "  init_assigned_class  \n",
       "0                   F  \n",
       "1                   G  \n",
       "2                   H  \n",
       "3                   E  \n",
       "4                   D  "
      ]
     },
     "execution_count": 121,
     "metadata": {},
     "output_type": "execute_result"
    }
   ],
   "source": [
    "#初期クラス編成のデータを作成\n",
    "#学力をもとに順位を付与\n",
    "s_df['score_rank'] = s_df['score'].rank(ascending=False, method='first')\n",
    "\n",
    "#学力順にクラス編成し、init_assigned_classカラムを作成\n",
    "class_dic = {0:'A', 1:'B', 2:'C', 3:'D', 4:'E', 5:'F', 6:'G', 7:'H'}\n",
    "s_df['init_assigned_class'] = s_df['score_rank'].map(lambda x:x % 8).map(class_dic)\n",
    "s_df.head()"
   ]
  },
  {
   "cell_type": "code",
   "execution_count": 122,
   "metadata": {},
   "outputs": [],
   "source": [
    "#init_flagを作成\n",
    "init_flag = {(s,c) : 0 for s in S for c in C}\n",
    "\n",
    "for row in s_df.itertuples():\n",
    "  init_flag[row.student_id, row.init_assigned_class] = 1"
   ]
  },
  {
   "cell_type": "code",
   "execution_count": 124,
   "metadata": {},
   "outputs": [
    {
     "data": {
      "image/png": "[encoded data removed]",
      "text/plain": [
       "<Figure size 864x1440 with 8 Axes>"
      ]
     },
     "metadata": {
      "needs_background": "light"
     },
     "output_type": "display_data"
    }
   ],
   "source": [
    "fig = plt.figure(figsize=(12,20))\n",
    "for i, c in enumerate(C):\n",
    "  cls_df = s_df[s_df['init_assigned_class']==c]\n",
    "  ax = fig.add_subplot(4\n",
    "                       , 2\n",
    "                       , i+1\n",
    "                       , xlabel='score'\n",
    "                       , ylabel='num'\n",
    "                       , xlim=(0, 500)\n",
    "                       , ylim=(0, 20)\n",
    "                       , title='Class:{:s}'.format(c)\n",
    "                       )\n",
    "  ax.hist(cls_df['score'], bins=range(0, 500, 40))"
   ]
  },
  {
   "cell_type": "code",
   "execution_count": null,
   "metadata": {},
   "outputs": [],
   "source": []
  }
 ],
 "metadata": {
  "interpreter": {
   "hash": "ff5772b32b59bd41fb91f6cc891f8cb03c80235c3628a1f8b61561785c6fc031"
  },
  "kernelspec": {
   "display_name": "Python 3.8.12 ('py38')",
   "language": "python",
   "name": "python3"
  },
  "language_info": {
   "codemirror_mode": {
    "name": "ipython",
    "version": 3
   },
   "file_extension": ".py",
   "mimetype": "text/x-python",
   "name": "python",
   "nbconvert_exporter": "python",
   "pygments_lexer": "ipython3",
   "version": "3.8.12"
  },
  "orig_nbformat": 4
 },
 "nbformat": 4,
 "nbformat_minor": 2
}
