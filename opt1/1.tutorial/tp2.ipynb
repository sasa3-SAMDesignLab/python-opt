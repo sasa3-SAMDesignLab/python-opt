{
 "cells": [
  {
   "cell_type": "code",
   "execution_count": 1,
   "metadata": {},
   "outputs": [],
   "source": [
    "import pulp"
   ]
  },
  {
   "cell_type": "code",
   "execution_count": 2,
   "metadata": {},
   "outputs": [],
   "source": [
    "problem = pulp.LpProblem('LP', pulp.LpMaximize)"
   ]
  },
  {
   "cell_type": "code",
   "execution_count": 3,
   "metadata": {},
   "outputs": [],
   "source": [
    "x = pulp.LpVariable('x', cat='Continuous')\n",
    "y = pulp.LpVariable('y', cat='Continuous')"
   ]
  },
  {
   "cell_type": "code",
   "execution_count": 4,
   "metadata": {},
   "outputs": [],
   "source": [
    "problem += 1*x + 3*y <= 30\n",
    "problem += 2*x + 1*y <= 40\n",
    "problem += x >= 0\n",
    "problem += y >= 0\n",
    "problem += x + 2*y"
   ]
  },
  {
   "cell_type": "code",
   "execution_count": 5,
   "metadata": {},
   "outputs": [
    {
     "name": "stdout",
     "output_type": "stream",
     "text": [
      "GLPSOL: GLPK LP/MIP Solver, v4.65\n",
      "Parameter(s) specified in the command line:\n",
      " --cpxlp /var/folders/f1/dg38sdvs7tsgxf3hbspgk1vc0000gn/T/ebc7ec80ee7a470287d609845b33acbe-pulp.lp\n",
      " -o /var/folders/f1/dg38sdvs7tsgxf3hbspgk1vc0000gn/T/ebc7ec80ee7a470287d609845b33acbe-pulp.sol\n",
      "Reading problem data from '/var/folders/f1/dg38sdvs7tsgxf3hbspgk1vc0000gn/T/ebc7ec80ee7a470287d609845b33acbe-pulp.lp'...\n",
      "4 rows, 2 columns, 6 non-zeros\n",
      "12 lines were read\n",
      "GLPK Simplex Optimizer, v4.65\n",
      "4 rows, 2 columns, 6 non-zeros\n",
      "Preprocessing...\n",
      "2 rows, 2 columns, 4 non-zeros\n",
      "Scaling...\n",
      " A: min|aij| =  1.000e+00  max|aij| =  3.000e+00  ratio =  3.000e+00\n",
      "Problem data seem to be well scaled\n",
      "Constructing initial basis...\n",
      "Size of triangular part is 2\n",
      "*     0: obj =  -0.000000000e+00 inf =   0.000e+00 (2)\n",
      "*     2: obj =   2.600000000e+01 inf =   0.000e+00 (0)\n",
      "OPTIMAL LP SOLUTION FOUND\n",
      "Time used:   0.0 secs\n",
      "Memory used: 0.0 Mb (40412 bytes)\n",
      "Writing basic solution to '/var/folders/f1/dg38sdvs7tsgxf3hbspgk1vc0000gn/T/ebc7ec80ee7a470287d609845b33acbe-pulp.sol'...\n"
     ]
    }
   ],
   "source": [
    "status = problem.solve()"
   ]
  },
  {
   "cell_type": "code",
   "execution_count": 6,
   "metadata": {},
   "outputs": [
    {
     "name": "stdout",
     "output_type": "stream",
     "text": [
      "Status: Optimal\n",
      "x= 18.0 y= 4.0 obj= 26.0\n"
     ]
    }
   ],
   "source": [
    "print('Status:', pulp.LpStatus[status])\n",
    "print('x=', x.value(), 'y=', y.value(), 'obj=', problem.objective.value())"
   ]
  },
  {
   "cell_type": "code",
   "execution_count": null,
   "metadata": {},
   "outputs": [],
   "source": []
  }
 ],
 "metadata": {
  "interpreter": {
   "hash": "ff5772b32b59bd41fb91f6cc891f8cb03c80235c3628a1f8b61561785c6fc031"
  },
  "kernelspec": {
   "display_name": "Python 3.8.12 ('py38')",
   "language": "python",
   "name": "python3"
  },
  "language_info": {
   "codemirror_mode": {
    "name": "ipython",
    "version": 3
   },
   "file_extension": ".py",
   "mimetype": "text/x-python",
   "name": "python",
   "nbconvert_exporter": "python",
   "pygments_lexer": "ipython3",
   "version": "3.8.12"
  },
  "orig_nbformat": 4
 },
 "nbformat": 4,
 "nbformat_minor": 2
}
